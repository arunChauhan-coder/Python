{
 "cells": [
  {
   "cell_type": "code",
   "execution_count": 10,
   "id": "5a366aee",
   "metadata": {},
   "outputs": [],
   "source": [
    "def letterCount(st):\n",
    "    lst = st.split()\n",
    "    greatest_cnt =0\n",
    "    greatest_word = \"\" \n",
    "        \n",
    "        \n",
    "    def count_1(word):\n",
    "        d= {}\n",
    "        c=0\n",
    "        for i in word:\n",
    "            try:\n",
    "                d[i]+=1\n",
    "            except:\n",
    "                d[i] = 1\n",
    "        for letter in d:\n",
    "            if d[letter]>1:\n",
    "                c+=d[letter]\n",
    "        return c\n",
    "                \n",
    "    for i in lst:\n",
    "        cnt = count_1(i)\n",
    "        \n",
    "        if cnt > greatest_cnt:\n",
    "            greatest_cnt = cnt\n",
    "            greatest_word = i\n",
    "    return greatest_word,greatest_cnt\n",
    "        "
   ]
  },
  {
   "cell_type": "code",
   "execution_count": 11,
   "id": "b08a6949",
   "metadata": {},
   "outputs": [
    {
     "data": {
      "text/plain": [
       "('greatest', 4)"
      ]
     },
     "execution_count": 11,
     "metadata": {},
     "output_type": "execute_result"
    }
   ],
   "source": [
    "letterCount(\"Today, is the greatest day ever!\")"
   ]
  },
  {
   "cell_type": "code",
   "execution_count": 25,
   "id": "b0c44a1b",
   "metadata": {},
   "outputs": [],
   "source": [
    "lst = [1,2,2,3,3,3,4,5]"
   ]
  },
  {
   "cell_type": "code",
   "execution_count": 35,
   "id": "a4b3aef8",
   "metadata": {},
   "outputs": [],
   "source": [
    "def meanMode(lst):\n",
    "    \n",
    "    d = {}\n",
    "    mode = 0\n",
    "    for i in lst:\n",
    "        try:\n",
    "            d[i]+=1\n",
    "        except:\n",
    "            d[i]=1\n",
    "    print(d)\n",
    "    for i in d:\n",
    "        if d[i] == max(d.values()):\n",
    "            mode = i\n",
    "    return mode\n",
    "        \n",
    "    \n"
   ]
  },
  {
   "cell_type": "code",
   "execution_count": 36,
   "id": "a6c3001f",
   "metadata": {},
   "outputs": [
    {
     "name": "stdout",
     "output_type": "stream",
     "text": [
      "{1: 1, 2: 2, 3: 3, 4: 1, 5: 1}\n"
     ]
    },
    {
     "data": {
      "text/plain": [
       "3"
      ]
     },
     "execution_count": 36,
     "metadata": {},
     "output_type": "execute_result"
    }
   ],
   "source": [
    "meanMode(lst)"
   ]
  },
  {
   "cell_type": "code",
   "execution_count": 29,
   "id": "215cd3aa",
   "metadata": {},
   "outputs": [],
   "source": [
    "d = {1:12,2:14}"
   ]
  },
  {
   "cell_type": "code",
   "execution_count": 31,
   "id": "4ec98626",
   "metadata": {},
   "outputs": [
    {
     "data": {
      "text/plain": [
       "14"
      ]
     },
     "execution_count": 31,
     "metadata": {},
     "output_type": "execute_result"
    }
   ],
   "source": [
    "max(d.values())"
   ]
  },
  {
   "cell_type": "code",
   "execution_count": 34,
   "id": "386ce4be",
   "metadata": {},
   "outputs": [
    {
     "name": "stdout",
     "output_type": "stream",
     "text": [
      "2\n"
     ]
    }
   ],
   "source": [
    "for i in d:\n",
    "    if d[i]== max(d.values()):\n",
    "        print(i)"
   ]
  },
  {
   "cell_type": "code",
   "execution_count": null,
   "id": "18c28153",
   "metadata": {},
   "outputs": [],
   "source": [
    "Have the function PrimeMover(num) return the numth prime number. \n",
    "The range will be from 1 to 10^4. For example: if num is 16 the output should be 53 as 53 is the 16th prime number.¶"
   ]
  },
  {
   "cell_type": "code",
   "execution_count": 5,
   "id": "e1e5bd6f",
   "metadata": {},
   "outputs": [],
   "source": [
    "def PrimeMover(num):\n",
    "    lst = []\n",
    "    cnt = 0 \n",
    "    for i in range(2,10**4+1):\n",
    "        \n",
    "        for j in range(2,i):\n",
    "            if i%j == 0:             \n",
    "                cnt+=1\n",
    "        if cnt == 0:\n",
    "            lst.append(i)\n",
    "        \n",
    "        else:\n",
    "            cnt = 0\n",
    "            \n",
    "                \n",
    "    return lst[num-1]\n",
    "        \n",
    "        "
   ]
  },
  {
   "cell_type": "code",
   "execution_count": 8,
   "id": "2e23bc6a",
   "metadata": {},
   "outputs": [
    {
     "data": {
      "text/plain": [
       "9973"
      ]
     },
     "execution_count": 8,
     "metadata": {},
     "output_type": "execute_result"
    }
   ],
   "source": [
    "PrimeMover(0)"
   ]
  },
  {
   "cell_type": "code",
   "execution_count": 11,
   "id": "039f141a",
   "metadata": {},
   "outputs": [],
   "source": [
    "def con(x):\n",
    "    cnt = 0\n",
    "    while x>0:\n",
    "        cnt +=1\n",
    "        x//=10\n",
    "    return cnt"
   ]
  },
  {
   "cell_type": "code",
   "execution_count": 13,
   "id": "86056453",
   "metadata": {},
   "outputs": [
    {
     "data": {
      "text/plain": [
       "3"
      ]
     },
     "execution_count": 13,
     "metadata": {},
     "output_type": "execute_result"
    }
   ],
   "source": [
    "con(120)"
   ]
  },
  {
   "cell_type": "code",
   "execution_count": 1,
   "id": "b68165a6",
   "metadata": {},
   "outputs": [],
   "source": [
    "def rev(num):\n",
    "    rev = 0\n",
    "    while num>0:\n",
    "        l = num%10\n",
    "        rev= rev*10+l\n",
    "        num = num//10\n",
    "    return rev\n",
    "    \n",
    "    "
   ]
  },
  {
   "cell_type": "code",
   "execution_count": 2,
   "id": "21701d66",
   "metadata": {},
   "outputs": [
    {
     "data": {
      "text/plain": [
       "32"
      ]
     },
     "execution_count": 2,
     "metadata": {},
     "output_type": "execute_result"
    }
   ],
   "source": [
    "rev(123)"
   ]
  },
  {
   "cell_type": "code",
   "execution_count": 7,
   "id": "24124da1",
   "metadata": {},
   "outputs": [],
   "source": [
    "def p(n):\n",
    "    if n == 0 or n == 1:\n",
    "        return \"neither prime nor composite\"\n",
    "    cnt = 0\n",
    "    for i in range(2,n):\n",
    "        if n%i == 0:\n",
    "            cnt +=1\n",
    "    if cnt > 0:\n",
    "        return \"not prime\"\n",
    "    else: \n",
    "        return \"prime\"\n",
    "        "
   ]
  },
  {
   "cell_type": "code",
   "execution_count": 8,
   "id": "59315607",
   "metadata": {},
   "outputs": [
    {
     "data": {
      "text/plain": [
       "'prime'"
      ]
     },
     "execution_count": 8,
     "metadata": {},
     "output_type": "execute_result"
    }
   ],
   "source": [
    "p(3)"
   ]
  },
  {
   "cell_type": "code",
   "execution_count": 9,
   "id": "1091e3ab",
   "metadata": {},
   "outputs": [
    {
     "data": {
      "text/plain": [
       "'prime'"
      ]
     },
     "execution_count": 9,
     "metadata": {},
     "output_type": "execute_result"
    }
   ],
   "source": [
    "p(2)"
   ]
  },
  {
   "cell_type": "code",
   "execution_count": 10,
   "id": "9f3e7283",
   "metadata": {},
   "outputs": [
    {
     "data": {
      "text/plain": [
       "'neither prime nor composite'"
      ]
     },
     "execution_count": 10,
     "metadata": {},
     "output_type": "execute_result"
    }
   ],
   "source": [
    "p(1)"
   ]
  },
  {
   "cell_type": "code",
   "execution_count": null,
   "id": "55c84975",
   "metadata": {},
   "outputs": [],
   "source": []
  },
  {
   "cell_type": "code",
   "execution_count": null,
   "id": "6e268ef3",
   "metadata": {},
   "outputs": [],
   "source": []
  },
  {
   "cell_type": "code",
   "execution_count": null,
   "id": "5ebc452b",
   "metadata": {},
   "outputs": [],
   "source": []
  },
  {
   "cell_type": "code",
   "execution_count": null,
   "id": "0eb6a733",
   "metadata": {},
   "outputs": [],
   "source": []
  },
  {
   "cell_type": "code",
   "execution_count": null,
   "id": "ee064820",
   "metadata": {},
   "outputs": [],
   "source": []
  },
  {
   "cell_type": "code",
   "execution_count": null,
   "id": "190ac388",
   "metadata": {},
   "outputs": [],
   "source": []
  },
  {
   "cell_type": "code",
   "execution_count": null,
   "id": "f21ab6d0",
   "metadata": {},
   "outputs": [],
   "source": []
  },
  {
   "cell_type": "code",
   "execution_count": null,
   "id": "90051cde",
   "metadata": {},
   "outputs": [],
   "source": []
  }
 ],
 "metadata": {
  "kernelspec": {
   "display_name": "Python 3 (ipykernel)",
   "language": "python",
   "name": "python3"
  },
  "language_info": {
   "codemirror_mode": {
    "name": "ipython",
    "version": 3
   },
   "file_extension": ".py",
   "mimetype": "text/x-python",
   "name": "python",
   "nbconvert_exporter": "python",
   "pygments_lexer": "ipython3",
   "version": "3.11.3"
  }
 },
 "nbformat": 4,
 "nbformat_minor": 5
}
