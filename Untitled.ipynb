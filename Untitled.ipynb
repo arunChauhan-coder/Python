{
 "cells": [
  {
   "cell_type": "code",
   "execution_count": 3,
   "id": "6d6e3f8b",
   "metadata": {},
   "outputs": [
    {
     "name": "stdout",
     "output_type": "stream",
     "text": [
      "3\n"
     ]
    }
   ],
   "source": [
    "def PrimeMover(num):\n",
    "    limit = 10**5  # Adjust the limit as needed to find the nth prime number\n",
    "    sieve = [True] * (limit + 1)\n",
    "    sieve[0] = sieve[1] = False\n",
    "    prime_count = 0\n",
    "\n",
    "    for current in range(2, limit + 1):\n",
    "        if sieve[current]:\n",
    "            prime_count += 1\n",
    "            if prime_count == num:\n",
    "                return current\n",
    "            for multiple in range(current * current, limit + 1, current):\n",
    "                sieve[multiple] = False\n",
    "\n",
    "# Example usage:\n",
    "nth_prime = PrimeMover(2)\n",
    "print(nth_prime)  # This will print the 10th prime number\n"
   ]
  },
  {
   "cell_type": "code",
   "execution_count": null,
   "id": "13c919e8",
   "metadata": {},
   "outputs": [],
   "source": []
  }
 ],
 "metadata": {
  "kernelspec": {
   "display_name": "Python 3 (ipykernel)",
   "language": "python",
   "name": "python3"
  },
  "language_info": {
   "codemirror_mode": {
    "name": "ipython",
    "version": 3
   },
   "file_extension": ".py",
   "mimetype": "text/x-python",
   "name": "python",
   "nbconvert_exporter": "python",
   "pygments_lexer": "ipython3",
   "version": "3.7.4"
  }
 },
 "nbformat": 4,
 "nbformat_minor": 5
}
