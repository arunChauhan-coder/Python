{
 "cells": [
  {
   "cell_type": "code",
   "execution_count": null,
   "metadata": {},
   "outputs": [],
   "source": [
    "\"\"\"\n",
    "Write a Python class Employee with attributes like emp_id, emp_name, emp_salary, and emp_department \n",
    "and methods like calculate_emp_salary, emp_assign_department, and print_employee_details.\n",
    "\n",
    "Sample Employee Data:\n",
    "\"ADAMS\", \"E7876\", 50000, \"ACCOUNTING\"\n",
    "\"JONES\", \"E7499\", 45000, \"RESEARCH\"\n",
    "\"MARTIN\", \"E7900\", 50000, \"SALES\"\n",
    "\"SMITH\", \"E7698\", 55000, \"OPERATIONS\"\n",
    "Use 'assign_department' method to change the department of an employee.\n",
    "Use 'print_employee_details' method to print the details of an employee.\n",
    "Use 'calculate_emp_salary' method takes two arguments: salary and hours_worked, which is\n",
    "the number of hours worked by the employee. If the number of hours worked is more than 50,\n",
    "the method computes overtime and adds it to the salary. Overtime is calculated as following formula:\n",
    "overtime = hours_worked – 50\n",
    "Overtime amount = (overtime * (salary / 50))\n",
    "\"\"\""
   ]
  },
  {
   "cell_type": "code",
   "execution_count": 11,
   "metadata": {},
   "outputs": [],
   "source": [
    "class Employee :\n",
    "    \n",
    "    def __init__(self,emp_id, emp_name, emp_salary,emp_department):\n",
    "        \n",
    "        self.emp_id = emp_id\n",
    "        self.emp_name = emp_name\n",
    "        self.emp_salary = emp_salary\n",
    "        self.emp_department = emp_department\n",
    "    \n",
    "    def calculate_emp_salary(self,salary, hrs_work):\n",
    "        \n",
    "        if  hrs_work> 50:\n",
    "            overtime = hrs_work-50\n",
    "            Overtime_amount = (overtime * (self.emp_salary / 50))\n",
    "            self.emp_salary+=Overtime_amount\n",
    "            return self.emp_salary\n",
    "        return self.emp_salary\n",
    "    def assign_department(self,departement):\n",
    "        \n",
    "        self.department = department\n",
    "        return self.department\n",
    "    \n",
    "    def employee_details(self):\n",
    "        \n",
    "        print(self.emp_id)\n",
    "        print(self.emp_name)\n",
    "        print(self.emp_salary)\n",
    "        print(self.emp_department)\n",
    "            \n",
    "        "
   ]
  },
  {
   "cell_type": "code",
   "execution_count": 12,
   "metadata": {},
   "outputs": [],
   "source": [
    "e1 = Employee(101,\"Ashish\",25000,\"Computer\" )"
   ]
  },
  {
   "cell_type": "code",
   "execution_count": 13,
   "metadata": {},
   "outputs": [
    {
     "data": {
      "text/plain": [
       "40000.0"
      ]
     },
     "execution_count": 13,
     "metadata": {},
     "output_type": "execute_result"
    }
   ],
   "source": [
    "e1.calculate_emp_salary(25000,80)"
   ]
  },
  {
   "cell_type": "code",
   "execution_count": null,
   "metadata": {},
   "outputs": [],
   "source": []
  },
  {
   "cell_type": "code",
   "execution_count": null,
   "metadata": {},
   "outputs": [],
   "source": []
  }
 ],
 "metadata": {
  "kernelspec": {
   "display_name": "Python 3",
   "language": "python",
   "name": "python3"
  },
  "language_info": {
   "codemirror_mode": {
    "name": "ipython",
    "version": 3
   },
   "file_extension": ".py",
   "mimetype": "text/x-python",
   "name": "python",
   "nbconvert_exporter": "python",
   "pygments_lexer": "ipython3",
   "version": "3.7.4"
  }
 },
 "nbformat": 4,
 "nbformat_minor": 2
}
