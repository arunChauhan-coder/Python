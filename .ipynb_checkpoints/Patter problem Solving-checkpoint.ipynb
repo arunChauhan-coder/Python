{
 "cells": [
  {
   "cell_type": "code",
   "execution_count": null,
   "metadata": {},
   "outputs": [],
   "source": [
    "# Print the following pattern"
   ]
  },
  {
   "cell_type": "code",
   "execution_count": null,
   "metadata": {},
   "outputs": [],
   "source": [
    "*\n",
    "* *\n",
    "* * *\n",
    "* * * *"
   ]
  },
  {
   "cell_type": "code",
   "execution_count": 16,
   "metadata": {},
   "outputs": [
    {
     "name": "stdout",
     "output_type": "stream",
     "text": [
      "*  \n",
      "\n",
      "*  *  \n",
      "\n",
      "*  *  *  \n",
      "\n",
      "*  *  *  *  \n",
      "\n"
     ]
    }
   ],
   "source": [
    "# by using for loop\n",
    "for row in range(1,5):\n",
    "    for col in range(row):\n",
    "        print(\"* \", end = \" \")\n",
    "    print(\"\\n\")\n"
   ]
  },
  {
   "cell_type": "code",
   "execution_count": 11,
   "metadata": {},
   "outputs": [
    {
     "name": "stdout",
     "output_type": "stream",
     "text": [
      "*  \n",
      "\n",
      "*  *  \n",
      "\n",
      "*  *  *  \n",
      "\n",
      "*  *  *  *  \n",
      "\n"
     ]
    }
   ],
   "source": [
    "# by using while loop\n",
    "\n",
    "row = 1\n",
    "\n",
    "while(row<=4):\n",
    "    col =1\n",
    "    while(col<=row):\n",
    "        print(\"* \", end =\" \")\n",
    "        col+=1\n",
    "    row+=1\n",
    "    print(\"\\n\")"
   ]
  },
  {
   "cell_type": "code",
   "execution_count": null,
   "metadata": {},
   "outputs": [],
   "source": [
    "1\n",
    "1 2\n",
    "1 2 3\n",
    "1 2 3 4"
   ]
  },
  {
   "cell_type": "code",
   "execution_count": 15,
   "metadata": {},
   "outputs": [
    {
     "name": "stdout",
     "output_type": "stream",
     "text": [
      "1   \n",
      "\n",
      "1   2   \n",
      "\n",
      "1   2   3   \n",
      "\n",
      "1   2   3   4   \n",
      "\n"
     ]
    }
   ],
   "source": [
    "\n",
    "for row in range(1,5):\n",
    "    for col in range(row):\n",
    "        print(col+1,\" \", end = \" \")\n",
    "    print(\"\\n\")\n",
    "    "
   ]
  },
  {
   "cell_type": "code",
   "execution_count": null,
   "metadata": {},
   "outputs": [],
   "source": [
    "4 3 2 1 \n",
    "3 2 1 \n",
    "2 1 \n",
    "1"
   ]
  },
  {
   "cell_type": "code",
   "execution_count": 14,
   "metadata": {},
   "outputs": [
    {
     "name": "stdout",
     "output_type": "stream",
     "text": [
      "4   3   2   1   \n",
      "\n",
      "3   2   1   \n",
      "\n",
      "2   1   \n",
      "\n",
      "1   \n",
      "\n"
     ]
    }
   ],
   "source": [
    "\n",
    "for row in range(4,0,-1):\n",
    "    for col in range(row,0,-1):\n",
    "        print(col,\" \", end = \" \")\n",
    "    print(\"\\n\")\n",
    "        \n",
    "        \n"
   ]
  },
  {
   "cell_type": "code",
   "execution_count": null,
   "metadata": {},
   "outputs": [],
   "source": []
  }
 ],
 "metadata": {
  "kernelspec": {
   "display_name": "Python 3",
   "language": "python",
   "name": "python3"
  },
  "language_info": {
   "codemirror_mode": {
    "name": "ipython",
    "version": 3
   },
   "file_extension": ".py",
   "mimetype": "text/x-python",
   "name": "python",
   "nbconvert_exporter": "python",
   "pygments_lexer": "ipython3",
   "version": "3.7.4"
  }
 },
 "nbformat": 4,
 "nbformat_minor": 2
}
