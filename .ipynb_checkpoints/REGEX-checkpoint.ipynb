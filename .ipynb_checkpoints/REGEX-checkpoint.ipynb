{
 "cells": [
  {
   "cell_type": "markdown",
   "id": "09955e11",
   "metadata": {},
   "source": [
    "## REGEX"
   ]
  },
  {
   "cell_type": "markdown",
   "id": "7549c73f",
   "metadata": {},
   "source": [
    "### Write a Python program to check that a string contains only a certain set of characters (in this case a-z, A-Z and 0-9)."
   ]
  },
  {
   "cell_type": "code",
   "execution_count": 6,
   "id": "64c93a10",
   "metadata": {},
   "outputs": [
    {
     "name": "stdout",
     "output_type": "stream",
     "text": [
      "<re.Match object; span=(0, 18), match='ABCDEFabcdef123450'>\n"
     ]
    },
    {
     "data": {
      "text/plain": [
       "True"
      ]
     },
     "execution_count": 6,
     "metadata": {},
     "output_type": "execute_result"
    }
   ],
   "source": [
    "import re\n",
    "def CheckString(st):\n",
    "   \n",
    "    pattern = r\"[A-Za-z]+\\d+\"\n",
    "    charRe = re.compile(pattern)\n",
    "    string = charRe.search(st)\n",
    "    print(string)\n",
    "    return bool(string)\n",
    "CheckString(\"ABCDEFabcdef123450\")\n"
   ]
  },
  {
   "cell_type": "markdown",
   "id": "6c23de9f",
   "metadata": {},
   "source": [
    "### 2. Write a Python program that matches a string that is followed by zero or more b's."
   ]
  },
  {
   "cell_type": "code",
   "execution_count": 14,
   "id": "56378966",
   "metadata": {},
   "outputs": [
    {
     "name": "stdout",
     "output_type": "stream",
     "text": [
      "Not matched!\n",
      "Not matched!\n",
      "Found a match!\n",
      "Found a match!\n",
      "Found a match!\n"
     ]
    }
   ],
   "source": [
    "import re\n",
    "def CheckString(st):\n",
    "    \n",
    "    patterns =  r\"^\\w[b]*$\"\n",
    "    if re.search(patterns,  st):\n",
    "            return 'Found a match!'\n",
    "    else:\n",
    "            return('Not matched!')\n",
    "\n",
    "print(CheckString('ac'))\n",
    "print(CheckString(\"abc\"))\n",
    "print(CheckString(\"a\"))\n",
    "print(CheckString(\"ab\"))\n",
    "print(CheckString(\"abb\"))"
   ]
  },
  {
   "cell_type": "markdown",
   "id": "22aa047b",
   "metadata": {},
   "source": [
    "### Write a Python program that matches a string that is followed by one or more b's."
   ]
  },
  {
   "cell_type": "code",
   "execution_count": 19,
   "id": "e345cca0",
   "metadata": {},
   "outputs": [
    {
     "name": "stdout",
     "output_type": "stream",
     "text": [
      "Not matched!\n",
      "Not matched!\n",
      "Not matched!\n",
      "Found a match!\n"
     ]
    }
   ],
   "source": [
    "import re\n",
    "def CheckString(st):\n",
    "    \n",
    "    patterns =  r\"^\\w*[b]+$\"\n",
    "    if re.search(patterns,  st):\n",
    "            return 'Found a match!'\n",
    "    else:\n",
    "            return('Not matched!')\n",
    "\n",
    "print(CheckString('ac'))\n",
    "print(CheckString(\"abc\"))\n",
    "print(CheckString(\"a\"))\n",
    "print(CheckString(\"ab\"))"
   ]
  },
  {
   "cell_type": "markdown",
   "id": "ad204569",
   "metadata": {},
   "source": [
    "### 4. Write a Python program that matches a string that has an a followed by zero or one 'b'."
   ]
  },
  {
   "cell_type": "code",
   "execution_count": 1,
   "id": "3cab37fd",
   "metadata": {},
   "outputs": [
    {
     "name": "stdout",
     "output_type": "stream",
     "text": [
      "Found a match!\n",
      "Found a match!\n",
      "Found a match!\n",
      "Found a match!\n",
      "Found a match!\n"
     ]
    }
   ],
   "source": [
    "import re\n",
    "def CheckString(st):\n",
    "    \n",
    "    patterns =  r'ab*'\n",
    "    if re.search(patterns,  st):\n",
    "            return 'Found a match!'\n",
    "    else:\n",
    "            return('Not matched!')\n",
    "\n",
    "print(CheckString('ac'))\n",
    "print(CheckString(\"aec\"))\n",
    "print(CheckString(\"a\"))\n",
    "print(CheckString(\"ab\"))\n",
    "print(CheckString(\"cabd\"))"
   ]
  },
  {
   "cell_type": "markdown",
   "id": "f3369274",
   "metadata": {},
   "source": [
    "### Write a Python program that matches a word containing 'z'."
   ]
  },
  {
   "cell_type": "code",
   "execution_count": 6,
   "id": "9448875d",
   "metadata": {},
   "outputs": [
    {
     "name": "stdout",
     "output_type": "stream",
     "text": [
      "Found a match!\n",
      "Found a match!\n",
      "Found a match!\n",
      "Found a match!\n",
      "Not matched!\n"
     ]
    }
   ],
   "source": [
    "import re\n",
    "def CheckString(st):\n",
    "    \n",
    "    patterns =  r'z+'\n",
    "    if re.search(patterns,  st):\n",
    "            return 'Found a match!'\n",
    "    else:\n",
    "            return('Not matched!')\n",
    "\n",
    "print(CheckString('zc'))\n",
    "print(CheckString(\"azc\"))\n",
    "print(CheckString(\"z\"))\n",
    "print(CheckString(\"assz\"))\n",
    "print(CheckString(\"cabd\"))"
   ]
  },
  {
   "cell_type": "markdown",
   "id": "e7cca98a",
   "metadata": {},
   "source": [
    "### Write a Python program that matches a word containing 'z', not the start or end of the word."
   ]
  },
  {
   "cell_type": "code",
   "execution_count": 8,
   "id": "e8521cb2",
   "metadata": {},
   "outputs": [
    {
     "name": "stdout",
     "output_type": "stream",
     "text": [
      "Not matched!\n",
      "Found a match!\n",
      "Not matched!\n",
      "Not matched!\n",
      "Found a match!\n"
     ]
    }
   ],
   "source": [
    "import re\n",
    "def CheckString(st):\n",
    "    \n",
    "    patterns =  r'\\w+z+\\w+'\n",
    "    if re.search(patterns,  st):\n",
    "            return 'Found a match!'\n",
    "    else:\n",
    "            return('Not matched!')\n",
    "\n",
    "print(CheckString('zc'))\n",
    "print(CheckString(\"azc\"))\n",
    "print(CheckString(\"z\"))\n",
    "print(CheckString(\"assz\"))\n",
    "print(CheckString(\"cazbd\"))"
   ]
  },
  {
   "cell_type": "markdown",
   "id": "e2e58a71",
   "metadata": {},
   "source": [
    "### Write a Python program to match a string that contains only upper and lowercase letters, numbers, and underscores."
   ]
  },
  {
   "cell_type": "code",
   "execution_count": 17,
   "id": "a63376f2",
   "metadata": {},
   "outputs": [
    {
     "name": "stdout",
     "output_type": "stream",
     "text": [
      "Found a match!\n",
      "Found a match!\n",
      "Found a match!\n",
      "Not matched!\n",
      "Found a match!\n"
     ]
    }
   ],
   "source": [
    "import re\n",
    "def CheckString(st):\n",
    "    \n",
    "    patterns =  r'^[a-zA-Z0-9_]*$'\n",
    "    if re.search(patterns,  st):\n",
    "            return 'Found a match!'\n",
    "    else:\n",
    "            return('Not matched!')\n",
    "\n",
    "print(CheckString('zc12'))\n",
    "print(CheckString(\"aZZc\"))\n",
    "print(CheckString(\"zNM_\"))\n",
    "print(CheckString(\"ass&%&^%*\"))\n",
    "print(CheckString(\"cazbd\"))"
   ]
  },
  {
   "cell_type": "markdown",
   "id": "a616b86e",
   "metadata": {},
   "source": [
    "### Write a Python program to remove leading zeros from an IP address."
   ]
  },
  {
   "cell_type": "code",
   "execution_count": 2,
   "id": "5f0907cd",
   "metadata": {},
   "outputs": [
    {
     "name": "stdout",
     "output_type": "stream",
     "text": [
      "............\n"
     ]
    }
   ],
   "source": [
    "import re\n",
    "ip = \"216.08.904.196\"\n",
    "string = re.sub(r'[.][0]*', '.', ip)\n",
    "print(string)\n",
    "\n",
    "#[.] sq bracket is used toneglect the special meaninf dot and use as dot ony\n"
   ]
  },
  {
   "cell_type": "markdown",
   "id": "3a0aa7f5",
   "metadata": {},
   "source": [
    "### Write a Python program to search for numbers (0-9) of length between 1 and 3 in a given string.\n",
    "\n",
    "\"Exercises number 1, 12, 13, and 345 are important\""
   ]
  },
  {
   "cell_type": "code",
   "execution_count": 26,
   "id": "72e65660",
   "metadata": {},
   "outputs": [
    {
     "name": "stdout",
     "output_type": "stream",
     "text": [
      "Number of length 1 to 3\n",
      "1\n",
      "12\n",
      "13\n",
      "345\n"
     ]
    }
   ],
   "source": [
    "import re\n",
    "results = re.finditer(r\"([0-9]{1,3})\", \"Exercises number 1, 12, 13, and 345 are important\")\n",
    "print(\"Number of length 1 to 3\")\n",
    "for n in results:\n",
    "     print(n.group(0))"
   ]
  },
  {
   "cell_type": "markdown",
   "id": "b93949c6",
   "metadata": {},
   "source": [
    "Write a Python program to search some literals strings in a string. Go to the editor Sample text : 'The quick brown fox jumps over the lazy dog.' Searched words : 'fox', 'dog', 'horse'"
   ]
  },
  {
   "cell_type": "code",
   "execution_count": 7,
   "id": "82790f73",
   "metadata": {},
   "outputs": [],
   "source": [
    "pattern = ['dog','fox','horse']\n",
    "def ch(text,pattern):\n",
    "    for i in pattern:\n",
    "        print('Searching for \"%s\" in \"%s\" ->' % (i, text),)\n",
    "        if re.search(i,  text):\n",
    "            print('Matched!')\n",
    "        else:\n",
    "            print('Not Matched!')\n",
    "    "
   ]
  },
  {
   "cell_type": "code",
   "execution_count": 8,
   "id": "a9f494d3",
   "metadata": {},
   "outputs": [
    {
     "name": "stdout",
     "output_type": "stream",
     "text": [
      "Searching for \"dog\" in \"he quick brown fox jumps over the lazy dog\" ->\n",
      "Matched!\n",
      "Searching for \"fox\" in \"he quick brown fox jumps over the lazy dog\" ->\n",
      "Matched!\n",
      "Searching for \"horse\" in \"he quick brown fox jumps over the lazy dog\" ->\n",
      "Not Matched!\n"
     ]
    }
   ],
   "source": [
    "ch('he quick brown fox jumps over the lazy dog',pattern)"
   ]
  },
  {
   "cell_type": "code",
   "execution_count": 9,
   "id": "52a39c81",
   "metadata": {},
   "outputs": [
    {
     "name": "stdout",
     "output_type": "stream",
     "text": [
      "Found \"exercises\"\n",
      "Found \"exercises\"\n",
      "Found \"exercises\"\n"
     ]
    }
   ],
   "source": [
    "text = 'Python exercises, PHP exercises, C# exercises'\n",
    "pattern = 'exercises'\n",
    "for match in re.findall(pattern, text):\n",
    "    print('Found \"%s\"' % match)\n"
   ]
  },
  {
   "cell_type": "code",
   "execution_count": null,
   "id": "67e23fc2",
   "metadata": {},
   "outputs": [],
   "source": []
  }
 ],
 "metadata": {
  "kernelspec": {
   "display_name": "Python 3 (ipykernel)",
   "language": "python",
   "name": "python3"
  },
  "language_info": {
   "codemirror_mode": {
    "name": "ipython",
    "version": 3
   },
   "file_extension": ".py",
   "mimetype": "text/x-python",
   "name": "python",
   "nbconvert_exporter": "python",
   "pygments_lexer": "ipython3",
   "version": "3.11.3"
  }
 },
 "nbformat": 4,
 "nbformat_minor": 5
}
