{
 "cells": [
  {
   "cell_type": "markdown",
   "id": "e68cc85b",
   "metadata": {},
   "source": [
    "### Have the function LetterCountI(str) take the str parameter being passed and return the first word with the greatest number of repeated letters"
   ]
  },
  {
   "cell_type": "code",
   "execution_count": null,
   "id": "13153f38",
   "metadata": {},
   "outputs": [],
   "source": [
    "# For example: \"Today, is the greatest day ever!\" should return greatest because it has 2 e's (and 2 t's) and it comes before ever\n",
    "#which also has 2 e's. If there are no words with repeating letters return -1. Words will be separated by spaces."
   ]
  },
  {
   "cell_type": "code",
   "execution_count": 11,
   "id": "f8683b41",
   "metadata": {},
   "outputs": [],
   "source": [
    "def LetterCount(st):\n",
    "    greatest = \"\"\n",
    "    greatest_count = 0\n",
    "    \n",
    "    l1 = st.split()\n",
    "    print(l1)\n",
    "    \n",
    "    def letter_count(word):\n",
    "        d = {}\n",
    "        c= 0\n",
    "        for letter in word:\n",
    "            try:\n",
    "                d[letter]+=1\n",
    "            except:\n",
    "                d[letter] = 1\n",
    "        for letter in d:\n",
    "            if d[letter]>1:\n",
    "                c += d[letter]\n",
    "        return c\n",
    "    \n",
    "    for word in l1:\n",
    "        cnt = letter_count(word)\n",
    "        if cnt > greatest_count:\n",
    "            greatest_count = cnt\n",
    "            greatest = word\n",
    "    return greatest,greatest_count\n",
    "    \n",
    "   \n",
    "        \n",
    "    "
   ]
  },
  {
   "cell_type": "code",
   "execution_count": 12,
   "id": "f75cf706",
   "metadata": {},
   "outputs": [
    {
     "name": "stdout",
     "output_type": "stream",
     "text": [
      "['Today,', 'is', 'the', 'greatest', 'day', 'ever!']\n"
     ]
    },
    {
     "data": {
      "text/plain": [
       "('greatest', 4)"
      ]
     },
     "execution_count": 12,
     "metadata": {},
     "output_type": "execute_result"
    }
   ],
   "source": [
    "LetterCount(\"Today, is the greatest day ever!\")"
   ]
  },
  {
   "cell_type": "markdown",
   "id": "b8f55eb4",
   "metadata": {},
   "source": [
    "### Have the function MeanMode(arr) take the array of numbers stored in arr and return 1 if the mode equals the mean, \n",
    "0 if they don't equal each other (ie. [5, 3, 3, 3, 1] should return 1 because the mode (3) equals the mean (3)). \n",
    "The array will not be empty, will only contain positive integers, and will not contain more than one mode."
   ]
  },
  {
   "cell_type": "code",
   "execution_count": 7,
   "id": "8fb0a747",
   "metadata": {},
   "outputs": [],
   "source": [
    "def MeanMode(arr):\n",
    "    max = 0\n",
    "    key = 0\n",
    "    d = {}\n",
    "    for i in arr:\n",
    "        try:\n",
    "            d[i]+=1\n",
    "        except:\n",
    "            d[i] = 1\n",
    "    #key  = max(d,key = d.get)\n",
    "    for i in d:\n",
    "        if d[i]>max:\n",
    "            max = d[i]\n",
    "            key = i\n",
    "            \n",
    "    mode = key\n",
    "    \n",
    "    mean = sum(arr)/len(arr)\n",
    "    if mode == mean:\n",
    "        return 1\n",
    "    else:\n",
    "        return 0"
   ]
  },
  {
   "cell_type": "code",
   "execution_count": 8,
   "id": "86f8553f",
   "metadata": {},
   "outputs": [
    {
     "data": {
      "text/plain": [
       "1"
      ]
     },
     "execution_count": 8,
     "metadata": {},
     "output_type": "execute_result"
    }
   ],
   "source": [
    "MeanMode([5, 3, 3, 3, 1])"
   ]
  },
  {
   "cell_type": "code",
   "execution_count": 9,
   "id": "ac2848c8",
   "metadata": {},
   "outputs": [
    {
     "data": {
      "text/plain": [
       "1"
      ]
     },
     "execution_count": 9,
     "metadata": {},
     "output_type": "execute_result"
    }
   ],
   "source": [
    "MeanMode([1, 2, 2, 3, 3, 3, 4, 4, 5])"
   ]
  },
  {
   "cell_type": "code",
   "execution_count": 10,
   "id": "bdd2b817",
   "metadata": {},
   "outputs": [
    {
     "data": {
      "text/plain": [
       "0"
      ]
     },
     "execution_count": 10,
     "metadata": {},
     "output_type": "execute_result"
    }
   ],
   "source": [
    "MeanMode([1,2,3])"
   ]
  },
  {
   "cell_type": "markdown",
   "id": "5af4ffe8",
   "metadata": {},
   "source": [
    "### Have the function PrimeMover(num) return the numth prime number. The range will be from 1 to 10^4. For example: if num is 16 the output should be 53 as 53 is the 16th prime number."
   ]
  },
  {
   "cell_type": "code",
   "execution_count": 3,
   "id": "6b25783b",
   "metadata": {},
   "outputs": [],
   "source": [
    "def PrimeMover(num):\n",
    "    lst = []\n",
    "    cnt = 0\n",
    "    m = 10**4\n",
    "    for i in range(2,m+1):\n",
    "        for j in range (i+1,m+1):\n",
    "            if i%j == 0:\n",
    "                cnt+=1\n",
    "        if cnt==0:\n",
    "            lst.append(i)\n",
    "        else:\n",
    "            cnt = 0\n",
    "      \n",
    "    return lst[num-1]"
   ]
  },
  {
   "cell_type": "code",
   "execution_count": 4,
   "id": "541dc58c",
   "metadata": {},
   "outputs": [
    {
     "data": {
      "text/plain": [
       "2"
      ]
     },
     "execution_count": 4,
     "metadata": {},
     "output_type": "execute_result"
    }
   ],
   "source": [
    "PrimeMover(1)"
   ]
  },
  {
   "cell_type": "code",
   "execution_count": 5,
   "id": "f1279b16",
   "metadata": {},
   "outputs": [
    {
     "data": {
      "text/plain": [
       "3"
      ]
     },
     "execution_count": 5,
     "metadata": {},
     "output_type": "execute_result"
    }
   ],
   "source": [
    "PrimeMover(2)"
   ]
  },
  {
   "cell_type": "code",
   "execution_count": 7,
   "id": "92a6202f",
   "metadata": {},
   "outputs": [],
   "source": [
    "def PrimeMover(num):\n",
    "    limit = 10**5  # Adjust the limit as needed to find the nth prime number\n",
    "    sieve = [True] * (limit + 1)\n",
    "    sieve[0] = sieve[1] = False\n",
    "    prime_count = 0\n",
    "\n",
    "    for current in range(2, limit + 1):\n",
    "        if sieve[current]:\n",
    "            prime_count += 1\n",
    "            if prime_count == num:\n",
    "                return current\n",
    "            for multiple in range(current * current, limit + 1, current):\n",
    "                sieve[multiple] = False\n",
    "\n",
    "# Example usage:\n",
    " # This will print the 10th prime number\n"
   ]
  },
  {
   "cell_type": "code",
   "execution_count": 8,
   "id": "33156049",
   "metadata": {},
   "outputs": [
    {
     "name": "stdout",
     "output_type": "stream",
     "text": [
      "3\n"
     ]
    }
   ],
   "source": [
    "nth_prime = PrimeMover(2)\n",
    "print(nth_prime) "
   ]
  },
  {
   "cell_type": "markdown",
   "id": "3443dc65",
   "metadata": {},
   "source": [
    "### Count num of digit in a integer"
   ]
  },
  {
   "cell_type": "code",
   "execution_count": 5,
   "id": "349c0dfb",
   "metadata": {},
   "outputs": [],
   "source": [
    "def count(x):\n",
    "    cnt = 0\n",
    "    while x>0:\n",
    "        x//=10\n",
    "        cnt+=1\n",
    "        \n",
    "    return cnt"
   ]
  },
  {
   "cell_type": "code",
   "execution_count": 6,
   "id": "306d29f1",
   "metadata": {},
   "outputs": [
    {
     "data": {
      "text/plain": [
       "3"
      ]
     },
     "execution_count": 6,
     "metadata": {},
     "output_type": "execute_result"
    }
   ],
   "source": [
    "count(231)"
   ]
  },
  {
   "cell_type": "code",
   "execution_count": 7,
   "id": "daa693e7",
   "metadata": {},
   "outputs": [],
   "source": [
    "# 2nd approch\n",
    "def count(x):\n",
    "    x = len(str(x))\n",
    "    return x"
   ]
  },
  {
   "cell_type": "code",
   "execution_count": 10,
   "id": "05f9fc12",
   "metadata": {},
   "outputs": [
    {
     "data": {
      "text/plain": [
       "3"
      ]
     },
     "execution_count": 10,
     "metadata": {},
     "output_type": "execute_result"
    }
   ],
   "source": [
    "count(231)"
   ]
  },
  {
   "cell_type": "markdown",
   "id": "cc8a4bc9",
   "metadata": {},
   "source": [
    "### Write a Python program to reverse a integer in python"
   ]
  },
  {
   "cell_type": "code",
   "execution_count": 15,
   "id": "a9324cbb",
   "metadata": {},
   "outputs": [],
   "source": [
    "def rev(x):\n",
    "    x= str(x)\n",
    "    x = x[-1::-1]\n",
    "    return x    \n",
    "    "
   ]
  },
  {
   "cell_type": "code",
   "execution_count": 16,
   "id": "551addb5",
   "metadata": {},
   "outputs": [
    {
     "data": {
      "text/plain": [
       "'3898'"
      ]
     },
     "execution_count": 16,
     "metadata": {},
     "output_type": "execute_result"
    }
   ],
   "source": [
    "rev(8983)"
   ]
  },
  {
   "cell_type": "code",
   "execution_count": 31,
   "id": "def6d9a3",
   "metadata": {},
   "outputs": [],
   "source": [
    "# 2nd approch\n",
    "\n",
    "def rev1(x):\n",
    "    reverse = 0\n",
    "    while x>0:\n",
    "        last_digit = x%10\n",
    "        reverse = reverse*10 + last_digit  \n",
    "        x = x//10\n",
    "\n",
    "    return reverse\n",
    "        "
   ]
  },
  {
   "cell_type": "code",
   "execution_count": 32,
   "id": "dadd9068",
   "metadata": {},
   "outputs": [
    {
     "data": {
      "text/plain": [
       "3498"
      ]
     },
     "execution_count": 32,
     "metadata": {},
     "output_type": "execute_result"
    }
   ],
   "source": [
    "rev1(8943)"
   ]
  },
  {
   "cell_type": "markdown",
   "id": "7a6bc558",
   "metadata": {},
   "source": [
    "### Write a program in Python to check whether an integer is Armstrong number or not."
   ]
  },
  {
   "cell_type": "markdown",
   "id": "c08a6372",
   "metadata": {},
   "source": [
    "#### it's a number such that the sum of its digits, each raised to the power of the number of digits in the number, is equal to the number itself."
   ]
  },
  {
   "cell_type": "code",
   "execution_count": 6,
   "id": "5c6c0986",
   "metadata": {},
   "outputs": [],
   "source": [
    "def arm(x):\n",
    "    sum = 0\n",
    "    s = str(x)\n",
    "    l = len(s)\n",
    "    for i in s:\n",
    "        sum +=int(i)**l\n",
    "    if sum == x:\n",
    "        return \"Armstrong\"\n",
    "    else:\n",
    "        return \"Not Armstrong\""
   ]
  },
  {
   "cell_type": "code",
   "execution_count": 7,
   "id": "773bd4a7",
   "metadata": {},
   "outputs": [
    {
     "data": {
      "text/plain": [
       "'Armstrong'"
      ]
     },
     "execution_count": 7,
     "metadata": {},
     "output_type": "execute_result"
    }
   ],
   "source": [
    "arm(153)"
   ]
  },
  {
   "cell_type": "code",
   "execution_count": 8,
   "id": "75d04609",
   "metadata": {},
   "outputs": [
    {
     "data": {
      "text/plain": [
       "'Not Armstrong'"
      ]
     },
     "execution_count": 8,
     "metadata": {},
     "output_type": "execute_result"
    }
   ],
   "source": [
    "arm(27)"
   ]
  },
  {
   "cell_type": "code",
   "execution_count": 17,
   "id": "4b08fbdd",
   "metadata": {},
   "outputs": [],
   "source": [
    "# 2nd Approch\n",
    "\n",
    "def arm1(x):\n",
    "    l = len(str(x))\n",
    "    temp = x\n",
    "    sum = 0\n",
    "    while x>0:\n",
    "        last = x%10\n",
    "        sum += last**l\n",
    "        x//=10\n",
    "    if sum == temp:\n",
    "        return \"Armstrong\"\n",
    "    else:\n",
    "        return \"Not Armstrong\""
   ]
  },
  {
   "cell_type": "code",
   "execution_count": 18,
   "id": "d9375b6d",
   "metadata": {},
   "outputs": [
    {
     "data": {
      "text/plain": [
       "'Armstrong'"
      ]
     },
     "execution_count": 18,
     "metadata": {},
     "output_type": "execute_result"
    }
   ],
   "source": [
    "arm1(153)"
   ]
  },
  {
   "cell_type": "markdown",
   "id": "fe75e63a",
   "metadata": {},
   "source": [
    "### Write a program in Python to check given number is prime or not."
   ]
  },
  {
   "cell_type": "code",
   "execution_count": 33,
   "id": "9b609de4",
   "metadata": {},
   "outputs": [],
   "source": [
    "def prime(x):\n",
    "    if x ==2:\n",
    "        return \"prime\"\n",
    "    else:\n",
    "        for i in range(2,x):\n",
    "            if x%i== 0:\n",
    "                return \"not Prime\"\n",
    "            else:\n",
    "                return \"prime\"\n",
    "                "
   ]
  },
  {
   "cell_type": "code",
   "execution_count": 34,
   "id": "77abe620",
   "metadata": {},
   "outputs": [
    {
     "data": {
      "text/plain": [
       "'not Prime'"
      ]
     },
     "execution_count": 34,
     "metadata": {},
     "output_type": "execute_result"
    }
   ],
   "source": [
    "prime(230)"
   ]
  },
  {
   "cell_type": "code",
   "execution_count": 35,
   "id": "264b0aa9",
   "metadata": {},
   "outputs": [
    {
     "data": {
      "text/plain": [
       "'prime'"
      ]
     },
     "execution_count": 35,
     "metadata": {},
     "output_type": "execute_result"
    }
   ],
   "source": [
    "prime(3)"
   ]
  },
  {
   "cell_type": "code",
   "execution_count": 28,
   "id": "adf48354",
   "metadata": {},
   "outputs": [],
   "source": [
    "# 2nd approch\n",
    "# When you multiply two numbers\n",
    "# together to get a product, at least one of the numbers must be less than or equal to the square root of the product.\n",
    "def prime1(x):\n",
    "    for i in range(2,int(x**0.5)+1):\n",
    "        if x%i== 0:\n",
    "            return \"not Prime\"\n",
    "        else:\n",
    "            return \"prime\""
   ]
  },
  {
   "cell_type": "code",
   "execution_count": 29,
   "id": "f6664387",
   "metadata": {},
   "outputs": [
    {
     "data": {
      "text/plain": [
       "'not Prime'"
      ]
     },
     "execution_count": 29,
     "metadata": {},
     "output_type": "execute_result"
    }
   ],
   "source": [
    "prime1(250)"
   ]
  },
  {
   "cell_type": "code",
   "execution_count": 30,
   "id": "42a44c2f",
   "metadata": {},
   "outputs": [
    {
     "data": {
      "text/plain": [
       "'prime'"
      ]
     },
     "execution_count": 30,
     "metadata": {},
     "output_type": "execute_result"
    }
   ],
   "source": [
    "prime1(5)"
   ]
  },
  {
   "cell_type": "markdown",
   "id": "b1ee0ece",
   "metadata": {},
   "source": [
    "### Write a program in Python to print the Fibonacci series using iterative method."
   ]
  },
  {
   "cell_type": "code",
   "execution_count": 41,
   "id": "51bb50db",
   "metadata": {},
   "outputs": [],
   "source": [
    "def fib(x):\n",
    "    lst=[0,1]\n",
    "    for i in range(x-2):\n",
    "        lst.append(lst[i]+lst[i+1])\n",
    "    return lst\n",
    "    "
   ]
  },
  {
   "cell_type": "code",
   "execution_count": 42,
   "id": "d6bcf4af",
   "metadata": {},
   "outputs": [
    {
     "data": {
      "text/plain": [
       "[0, 1, 1, 2, 3]"
      ]
     },
     "execution_count": 42,
     "metadata": {},
     "output_type": "execute_result"
    }
   ],
   "source": [
    "fib(5)"
   ]
  },
  {
   "cell_type": "markdown",
   "id": "86e31910",
   "metadata": {},
   "source": [
    "### Write a program in Python to check whether a number is palindrome or not using iterative method."
   ]
  },
  {
   "cell_type": "code",
   "execution_count": 43,
   "id": "7c7cc204",
   "metadata": {},
   "outputs": [],
   "source": [
    "def pal(x):\n",
    "    x = str(x)\n",
    "    if x == x[-1::-1]:\n",
    "        return \"palindrome\"\n",
    "    else:\n",
    "        return \"Not palindrome\""
   ]
  },
  {
   "cell_type": "code",
   "execution_count": 44,
   "id": "70132ad4",
   "metadata": {},
   "outputs": [
    {
     "data": {
      "text/plain": [
       "'palindrome'"
      ]
     },
     "execution_count": 44,
     "metadata": {},
     "output_type": "execute_result"
    }
   ],
   "source": [
    "pal(151)"
   ]
  },
  {
   "cell_type": "code",
   "execution_count": 45,
   "id": "9715eda3",
   "metadata": {},
   "outputs": [
    {
     "data": {
      "text/plain": [
       "'Not palindrome'"
      ]
     },
     "execution_count": 45,
     "metadata": {},
     "output_type": "execute_result"
    }
   ],
   "source": [
    "pal(453)"
   ]
  },
  {
   "cell_type": "code",
   "execution_count": 52,
   "id": "c21cd4fc",
   "metadata": {},
   "outputs": [],
   "source": [
    "# 2nd approch\n",
    "\n",
    "def pal1(x):\n",
    "    rev =0\n",
    "    temp =x\n",
    "    while x>0:\n",
    "        last = x%10\n",
    "        rev = rev*10 + last\n",
    "        x//=10\n",
    "    if rev == temp:\n",
    "        return \"palindrome\"\n",
    "    else:\n",
    "        return \"Not palindrome\""
   ]
  },
  {
   "cell_type": "code",
   "execution_count": 53,
   "id": "b5941034",
   "metadata": {},
   "outputs": [
    {
     "data": {
      "text/plain": [
       "'palindrome'"
      ]
     },
     "execution_count": 53,
     "metadata": {},
     "output_type": "execute_result"
    }
   ],
   "source": [
    "pal1(151)"
   ]
  },
  {
   "cell_type": "code",
   "execution_count": 54,
   "id": "c0b1cfeb",
   "metadata": {},
   "outputs": [
    {
     "data": {
      "text/plain": [
       "'Not palindrome'"
      ]
     },
     "execution_count": 54,
     "metadata": {},
     "output_type": "execute_result"
    }
   ],
   "source": [
    "pal1(150)"
   ]
  },
  {
   "cell_type": "markdown",
   "id": "49b72283",
   "metadata": {},
   "source": [
    "### Write a program in Python to find greatest among three integers."
   ]
  },
  {
   "cell_type": "code",
   "execution_count": 57,
   "id": "09c5b2d4",
   "metadata": {},
   "outputs": [],
   "source": [
    "def greatest(x,y,z):\n",
    "    if x>y and x>z:\n",
    "        return x\n",
    "    elif y>x and y>z:\n",
    "        return y\n",
    "    else:\n",
    "        return z"
   ]
  },
  {
   "cell_type": "code",
   "execution_count": 58,
   "id": "b60b7ad0",
   "metadata": {},
   "outputs": [
    {
     "data": {
      "text/plain": [
       "3"
      ]
     },
     "execution_count": 58,
     "metadata": {},
     "output_type": "execute_result"
    }
   ],
   "source": [
    "greatest(1,2,3)"
   ]
  },
  {
   "cell_type": "markdown",
   "id": "85f462dd",
   "metadata": {},
   "source": [
    "### Write a program in Python to check if a number is binary?"
   ]
  },
  {
   "cell_type": "code",
   "execution_count": 65,
   "id": "c7945620",
   "metadata": {},
   "outputs": [],
   "source": [
    "def is_binary(number_str):\n",
    "    # Loop through each character in the string\n",
    "    for digit in number_str:\n",
    "        if digit not in ('0', '1'):\n",
    "            return \"Not Binary\"  # If any character is not '0' or '1', it's not binary\n",
    "    return \"Binary\""
   ]
  },
  {
   "cell_type": "code",
   "execution_count": 67,
   "id": "3e3f6f0c",
   "metadata": {},
   "outputs": [
    {
     "data": {
      "text/plain": [
       "'Binary'"
      ]
     },
     "execution_count": 67,
     "metadata": {},
     "output_type": "execute_result"
    }
   ],
   "source": [
    "is_binary(\"100\")"
   ]
  },
  {
   "cell_type": "code",
   "execution_count": 68,
   "id": "dd107391",
   "metadata": {},
   "outputs": [
    {
     "data": {
      "text/plain": [
       "'Not Binary'"
      ]
     },
     "execution_count": 68,
     "metadata": {},
     "output_type": "execute_result"
    }
   ],
   "source": [
    "is_binary(\"102\")"
   ]
  },
  {
   "cell_type": "markdown",
   "id": "3133b6e0",
   "metadata": {},
   "source": [
    "### Write a program in Python to find sum of digits of a number"
   ]
  },
  {
   "cell_type": "code",
   "execution_count": 3,
   "id": "ae20e931",
   "metadata": {},
   "outputs": [],
   "source": [
    "def sumd(x):\n",
    "    sum=0\n",
    "    x  = str(x)\n",
    "    for i in x:\n",
    "        sum+= int(i)\n",
    "    return sum"
   ]
  },
  {
   "cell_type": "code",
   "execution_count": 4,
   "id": "dd66bf06",
   "metadata": {},
   "outputs": [
    {
     "data": {
      "text/plain": [
       "5"
      ]
     },
     "execution_count": 4,
     "metadata": {},
     "output_type": "execute_result"
    }
   ],
   "source": [
    "sumd(23)"
   ]
  },
  {
   "cell_type": "code",
   "execution_count": 5,
   "id": "d2b68d25",
   "metadata": {},
   "outputs": [],
   "source": [
    "# 2nd approch"
   ]
  },
  {
   "cell_type": "code",
   "execution_count": 10,
   "id": "8eba1a82",
   "metadata": {},
   "outputs": [],
   "source": [
    "def sumd1(x):\n",
    "    sum=0\n",
    "    while x>0:\n",
    "        n = x%10\n",
    "        sum+=n\n",
    "        x//=10\n",
    "    return sum"
   ]
  },
  {
   "cell_type": "code",
   "execution_count": 12,
   "id": "d34ee763",
   "metadata": {},
   "outputs": [
    {
     "data": {
      "text/plain": [
       "5"
      ]
     },
     "execution_count": 12,
     "metadata": {},
     "output_type": "execute_result"
    }
   ],
   "source": [
    "sumd1(23)"
   ]
  },
  {
   "cell_type": "markdown",
   "id": "4252a58f",
   "metadata": {},
   "source": [
    "### Write a program in Python to swap two numbers without using third variable?"
   ]
  },
  {
   "cell_type": "code",
   "execution_count": 30,
   "id": "bcd2d465",
   "metadata": {},
   "outputs": [],
   "source": [
    "def swap(x,y):\n",
    " \n",
    "    x = str(x)\n",
    "    y = str(y)\n",
    "    l1 = len(x)\n",
    "    l2 = len(y)\n",
    "    x = x+y\n",
    "    y =x[0:l1]\n",
    "    x= x[l1:]\n",
    "    return int(x),int(y)"
   ]
  },
  {
   "cell_type": "code",
   "execution_count": 31,
   "id": "0ee3897e",
   "metadata": {},
   "outputs": [
    {
     "data": {
      "text/plain": [
       "(2, 3)"
      ]
     },
     "execution_count": 31,
     "metadata": {},
     "output_type": "execute_result"
    }
   ],
   "source": [
    "swap(3,2)"
   ]
  },
  {
   "cell_type": "code",
   "execution_count": 32,
   "id": "a2228f89",
   "metadata": {},
   "outputs": [
    {
     "data": {
      "text/plain": [
       "(17, 52)"
      ]
     },
     "execution_count": 32,
     "metadata": {},
     "output_type": "execute_result"
    }
   ],
   "source": [
    "swap(52,17)"
   ]
  },
  {
   "cell_type": "code",
   "execution_count": 33,
   "id": "fb6a8a72",
   "metadata": {},
   "outputs": [
    {
     "data": {
      "text/plain": [
       "(108, 104)"
      ]
     },
     "execution_count": 33,
     "metadata": {},
     "output_type": "execute_result"
    }
   ],
   "source": [
    "swap(104,108)"
   ]
  },
  {
   "cell_type": "code",
   "execution_count": 35,
   "id": "989c25e3",
   "metadata": {},
   "outputs": [],
   "source": [
    "# 2nd approch \n",
    "def swap1(a,b):\n",
    "\n",
    "    a=a-b\n",
    "    b=a+b\n",
    "    a=b-a\n",
    "    return a,b\n"
   ]
  },
  {
   "cell_type": "code",
   "execution_count": 36,
   "id": "9138aa53",
   "metadata": {},
   "outputs": [
    {
     "data": {
      "text/plain": [
       "(5, 4)"
      ]
     },
     "execution_count": 36,
     "metadata": {},
     "output_type": "execute_result"
    }
   ],
   "source": [
    "swap1(4,5)"
   ]
  },
  {
   "cell_type": "code",
   "execution_count": 37,
   "id": "4a88b48b",
   "metadata": {},
   "outputs": [
    {
     "data": {
      "text/plain": [
       "(523, 149)"
      ]
     },
     "execution_count": 37,
     "metadata": {},
     "output_type": "execute_result"
    }
   ],
   "source": [
    "swap1(149,523)"
   ]
  },
  {
   "cell_type": "code",
   "execution_count": 38,
   "id": "7573e219",
   "metadata": {},
   "outputs": [
    {
     "data": {
      "text/plain": [
       "(142, 23)"
      ]
     },
     "execution_count": 38,
     "metadata": {},
     "output_type": "execute_result"
    }
   ],
   "source": [
    "swap1(23,142)"
   ]
  },
  {
   "cell_type": "code",
   "execution_count": 40,
   "id": "f118a86b",
   "metadata": {},
   "outputs": [],
   "source": [
    "# 3rd approch"
   ]
  },
  {
   "cell_type": "code",
   "execution_count": 41,
   "id": "11067243",
   "metadata": {},
   "outputs": [],
   "source": [
    "def swap2(y,x):\n",
    "    return x,y"
   ]
  },
  {
   "cell_type": "code",
   "execution_count": 42,
   "id": "d5b9cfea",
   "metadata": {},
   "outputs": [
    {
     "data": {
      "text/plain": [
       "(42, 23)"
      ]
     },
     "execution_count": 42,
     "metadata": {},
     "output_type": "execute_result"
    }
   ],
   "source": [
    "swap2(23,42)"
   ]
  },
  {
   "cell_type": "markdown",
   "id": "18ac1122",
   "metadata": {},
   "source": [
    "### Write a program in Python to find prime factors of a given integer."
   ]
  },
  {
   "cell_type": "code",
   "execution_count": 16,
   "id": "ace3c1a7",
   "metadata": {},
   "outputs": [],
   "source": [
    "def pfac(n):\n",
    "    i =2 \n",
    "    fact = []\n",
    "    while i*i <=n:\n",
    "        if n%i:\n",
    "            i+=1\n",
    "        else:\n",
    "            n//=i\n",
    "            fact.append(i)\n",
    "    if i>1:\n",
    "        fact.append(i)\n",
    "    return fact\n"
   ]
  },
  {
   "cell_type": "code",
   "execution_count": 17,
   "id": "16182ed6",
   "metadata": {},
   "outputs": [
    {
     "data": {
      "text/plain": [
       "[2, 2, 2]"
      ]
     },
     "execution_count": 17,
     "metadata": {},
     "output_type": "execute_result"
    }
   ],
   "source": [
    "pfac(12)"
   ]
  },
  {
   "cell_type": "code",
   "execution_count": 20,
   "id": "cb893ce3",
   "metadata": {},
   "outputs": [
    {
     "data": {
      "text/plain": [
       "[2, 5, 5]"
      ]
     },
     "execution_count": 20,
     "metadata": {},
     "output_type": "execute_result"
    }
   ],
   "source": [
    "pfac(50)"
   ]
  },
  {
   "cell_type": "markdown",
   "id": "9ff925f7",
   "metadata": {},
   "source": [
    "### Write a program in Python to find given number is perfect or not"
   ]
  },
  {
   "cell_type": "code",
   "execution_count": 23,
   "id": "2712a8ac",
   "metadata": {},
   "outputs": [],
   "source": [
    "def per(x):\n",
    "    s = 0\n",
    "    for i in range(1,x):\n",
    "        if x%i == 0:\n",
    "            s+=i\n",
    "    if s == x:\n",
    "        return \"Perfect\"\n",
    "    else:\n",
    "        return \"Not Perfect\"\n",
    "    "
   ]
  },
  {
   "cell_type": "code",
   "execution_count": 24,
   "id": "d8b808d1",
   "metadata": {},
   "outputs": [
    {
     "data": {
      "text/plain": [
       "'Perfect'"
      ]
     },
     "execution_count": 24,
     "metadata": {},
     "output_type": "execute_result"
    }
   ],
   "source": [
    "per(6)"
   ]
  },
  {
   "cell_type": "code",
   "execution_count": 25,
   "id": "89dfbdf7",
   "metadata": {},
   "outputs": [
    {
     "data": {
      "text/plain": [
       "'Not Perfect'"
      ]
     },
     "execution_count": 25,
     "metadata": {},
     "output_type": "execute_result"
    }
   ],
   "source": [
    "per(5)"
   ]
  },
  {
   "cell_type": "code",
   "execution_count": 26,
   "id": "36117e93",
   "metadata": {},
   "outputs": [
    {
     "data": {
      "text/plain": [
       "'Perfect'"
      ]
     },
     "execution_count": 26,
     "metadata": {},
     "output_type": "execute_result"
    }
   ],
   "source": [
    "per(28)"
   ]
  },
  {
   "cell_type": "markdown",
   "id": "f1214a66",
   "metadata": {},
   "source": [
    "### Find Factorial"
   ]
  },
  {
   "cell_type": "code",
   "execution_count": 34,
   "id": "ab41b59b",
   "metadata": {},
   "outputs": [],
   "source": [
    "def fact(x):\n",
    "    fact = 1\n",
    "    for i in range(1,x+1):\n",
    "        fact*=i\n",
    "    return fact\n",
    "        "
   ]
  },
  {
   "cell_type": "code",
   "execution_count": 36,
   "id": "9b73a11c",
   "metadata": {},
   "outputs": [
    {
     "data": {
      "text/plain": [
       "24"
      ]
     },
     "execution_count": 36,
     "metadata": {},
     "output_type": "execute_result"
    }
   ],
   "source": [
    "fact(4)"
   ]
  },
  {
   "cell_type": "code",
   "execution_count": 37,
   "id": "b5ff0b5a",
   "metadata": {},
   "outputs": [
    {
     "data": {
      "text/plain": [
       "120"
      ]
     },
     "execution_count": 37,
     "metadata": {},
     "output_type": "execute_result"
    }
   ],
   "source": [
    "fact(5)"
   ]
  },
  {
   "cell_type": "markdown",
   "id": "3424fcc4",
   "metadata": {},
   "source": [
    "### Python Program to print Prime Number in a given range."
   ]
  },
  {
   "cell_type": "code",
   "execution_count": null,
   "id": "f068bbd0",
   "metadata": {},
   "outputs": [],
   "source": [
    "# In Python, the else clause in a for loop can be used \n",
    "#to execute a block of code when the loop completes normally, i.e., without encountering a break statement. "
   ]
  },
  {
   "cell_type": "code",
   "execution_count": 47,
   "id": "fea47b28",
   "metadata": {},
   "outputs": [],
   "source": [
    "def p_range(x):\n",
    "    lst = []\n",
    "    for i in range(2,x+1):\n",
    "        for j in range(2,i):\n",
    "            if i % j == 0:\n",
    "                break\n",
    "        else:\n",
    "            lst.append(i)\n",
    "    return lst"
   ]
  },
  {
   "cell_type": "code",
   "execution_count": 48,
   "id": "a3b6384d",
   "metadata": {},
   "outputs": [
    {
     "data": {
      "text/plain": [
       "[2, 3, 5, 7]"
      ]
     },
     "execution_count": 48,
     "metadata": {},
     "output_type": "execute_result"
    }
   ],
   "source": [
    "p_range(8)"
   ]
  },
  {
   "cell_type": "code",
   "execution_count": null,
   "id": "c2e3365b",
   "metadata": {},
   "outputs": [],
   "source": []
  }
 ],
 "metadata": {
  "kernelspec": {
   "display_name": "Python 3 (ipykernel)",
   "language": "python",
   "name": "python3"
  },
  "language_info": {
   "codemirror_mode": {
    "name": "ipython",
    "version": 3
   },
   "file_extension": ".py",
   "mimetype": "text/x-python",
   "name": "python",
   "nbconvert_exporter": "python",
   "pygments_lexer": "ipython3",
   "version": "3.7.4"
  }
 },
 "nbformat": 4,
 "nbformat_minor": 5
}
