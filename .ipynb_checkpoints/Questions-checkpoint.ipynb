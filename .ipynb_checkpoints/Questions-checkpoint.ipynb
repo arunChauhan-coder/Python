{
 "cells": [
  {
   "cell_type": "markdown",
   "id": "e68cc85b",
   "metadata": {},
   "source": [
    "### Have the function LetterCountI(str) take the str parameter being passed and return the first word with the greatest number of repeated letters"
   ]
  },
  {
   "cell_type": "code",
   "execution_count": null,
   "id": "13153f38",
   "metadata": {},
   "outputs": [],
   "source": [
    "# For example: \"Today, is the greatest day ever!\" should return greatest because it has 2 e's (and 2 t's) and it comes before ever\n",
    "#which also has 2 e's. If there are no words with repeating letters return -1. Words will be separated by spaces."
   ]
  },
  {
   "cell_type": "code",
   "execution_count": 11,
   "id": "f8683b41",
   "metadata": {},
   "outputs": [],
   "source": [
    "def LetterCount(st):\n",
    "    greatest = \"\"\n",
    "    greatest_count = 0\n",
    "    \n",
    "    l1 = st.split()\n",
    "    print(l1)\n",
    "    \n",
    "    def letter_count(word):\n",
    "        d = {}\n",
    "        c= 0\n",
    "        for letter in word:\n",
    "            try:\n",
    "                d[letter]+=1\n",
    "            except:\n",
    "                d[letter] = 1\n",
    "        for letter in d:\n",
    "            if d[letter]>1:\n",
    "                c += d[letter]\n",
    "        return c\n",
    "    \n",
    "    for word in l1:\n",
    "        cnt = letter_count(word)\n",
    "        if cnt > greatest_count:\n",
    "            greatest_count = cnt\n",
    "            greatest = word\n",
    "    return greatest,greatest_count\n",
    "    \n",
    "   \n",
    "        \n",
    "    "
   ]
  },
  {
   "cell_type": "code",
   "execution_count": 12,
   "id": "f75cf706",
   "metadata": {},
   "outputs": [
    {
     "name": "stdout",
     "output_type": "stream",
     "text": [
      "['Today,', 'is', 'the', 'greatest', 'day', 'ever!']\n"
     ]
    },
    {
     "data": {
      "text/plain": [
       "('greatest', 4)"
      ]
     },
     "execution_count": 12,
     "metadata": {},
     "output_type": "execute_result"
    }
   ],
   "source": [
    "LetterCount(\"Today, is the greatest day ever!\")"
   ]
  },
  {
   "cell_type": "code",
   "execution_count": null,
   "id": "33219e34",
   "metadata": {},
   "outputs": [],
   "source": []
  }
 ],
 "metadata": {
  "kernelspec": {
   "display_name": "Python 3 (ipykernel)",
   "language": "python",
   "name": "python3"
  },
  "language_info": {
   "codemirror_mode": {
    "name": "ipython",
    "version": 3
   },
   "file_extension": ".py",
   "mimetype": "text/x-python",
   "name": "python",
   "nbconvert_exporter": "python",
   "pygments_lexer": "ipython3",
   "version": "3.7.4"
  }
 },
 "nbformat": 4,
 "nbformat_minor": 5
}
