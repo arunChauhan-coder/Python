{
 "cells": [
  {
   "cell_type": "code",
   "execution_count": null,
   "id": "6e2ee5ff",
   "metadata": {},
   "outputs": [],
   "source": [
    " Write a function that checks if a string contains all letters of the alphabet at least once."
   ]
  },
  {
   "cell_type": "code",
   "execution_count": 2,
   "id": "c6a522c4",
   "metadata": {},
   "outputs": [
    {
     "name": "stdout",
     "output_type": "stream",
     "text": [
      "True\n"
     ]
    }
   ],
   "source": [
    "import string\n",
    "\n",
    "def contains_all_alphabets(s):\n",
    "    alphabet = set(string.ascii_lowercase)\n",
    "    return set(s.lower()) >= alphabet\n",
    "\n",
    "test_string = \"The quick brown fox jumps over the lazy dog\"\n",
    "print(contains_all_alphabets(test_string))"
   ]
  },
  {
   "cell_type": "code",
   "execution_count": 3,
   "id": "737dfa2a",
   "metadata": {},
   "outputs": [
    {
     "data": {
      "text/plain": [
       "{'a',\n",
       " 'b',\n",
       " 'c',\n",
       " 'd',\n",
       " 'e',\n",
       " 'f',\n",
       " 'g',\n",
       " 'h',\n",
       " 'i',\n",
       " 'j',\n",
       " 'k',\n",
       " 'l',\n",
       " 'm',\n",
       " 'n',\n",
       " 'o',\n",
       " 'p',\n",
       " 'q',\n",
       " 'r',\n",
       " 's',\n",
       " 't',\n",
       " 'u',\n",
       " 'v',\n",
       " 'w',\n",
       " 'x',\n",
       " 'y',\n",
       " 'z'}"
      ]
     },
     "execution_count": 3,
     "metadata": {},
     "output_type": "execute_result"
    }
   ],
   "source": [
    "alphabet = set(string.ascii_lowercase)\n",
    "alphabet  "
   ]
  },
  {
   "cell_type": "code",
   "execution_count": 17,
   "id": "a507b951",
   "metadata": {},
   "outputs": [],
   "source": [
    "s1 = {'a','b','c','e'}\n",
    "s2 = {'a','b','c','d'}\n"
   ]
  },
  {
   "cell_type": "code",
   "execution_count": 20,
   "id": "a48a2232",
   "metadata": {},
   "outputs": [
    {
     "data": {
      "text/plain": [
       "False"
      ]
     },
     "execution_count": 20,
     "metadata": {},
     "output_type": "execute_result"
    }
   ],
   "source": [
    "s1>s2"
   ]
  },
  {
   "cell_type": "markdown",
   "id": "93951b3c",
   "metadata": {},
   "source": [
    "#### Write a function that checks if a given string is a valid IPv4 address."
   ]
  },
  {
   "cell_type": "code",
   "execution_count": 34,
   "id": "9138765a",
   "metadata": {},
   "outputs": [],
   "source": [
    "import regex as re\n",
    "def ip(st):\n",
    "    pattern = '^\\d{1,3}.\\d{1,3}.\\d{1,3}.\\d{1,3}$'\n",
    "    return re.match(pattern,st)"
   ]
  },
  {
   "cell_type": "code",
   "execution_count": 35,
   "id": "ccb0f40b",
   "metadata": {},
   "outputs": [
    {
     "data": {
      "text/plain": [
       "<regex.Match object; span=(0, 15), match='123.156.785.893'>"
      ]
     },
     "execution_count": 35,
     "metadata": {},
     "output_type": "execute_result"
    }
   ],
   "source": [
    "ip('123.156.785.893')"
   ]
  },
  {
   "cell_type": "markdown",
   "id": "f46eade7",
   "metadata": {},
   "source": [
    "#### Given a list of numbers, write a function to compute the mean, median, and mode"
   ]
  },
  {
   "cell_type": "code",
   "execution_count": 46,
   "id": "9dd9b84d",
   "metadata": {},
   "outputs": [],
   "source": [
    "def mode(lst):\n",
    "    d = {}\n",
    "    m = 0\n",
    "    mode = ''\n",
    "    for i in lst:\n",
    "        try:\n",
    "            d[i]+=1\n",
    "        except:\n",
    "            d[i]=1\n",
    "    for key,value in d.items():\n",
    "        if value > m:\n",
    "            m = value\n",
    "            mode = key\n",
    "    return mode\n",
    "        \n",
    "        "
   ]
  },
  {
   "cell_type": "code",
   "execution_count": 48,
   "id": "3ac219a4",
   "metadata": {},
   "outputs": [
    {
     "data": {
      "text/plain": [
       "4"
      ]
     },
     "execution_count": 48,
     "metadata": {},
     "output_type": "execute_result"
    }
   ],
   "source": [
    "mode([1,2,2,4,4,4,4])"
   ]
  },
  {
   "cell_type": "markdown",
   "id": "e64d7230",
   "metadata": {},
   "source": [
    "#### Given a string, write a function that returns the first non-repeated character."
   ]
  },
  {
   "cell_type": "code",
   "execution_count": 59,
   "id": "ef48db11",
   "metadata": {},
   "outputs": [],
   "source": [
    "def non(st):\n",
    "\n",
    "    d = {}\n",
    "    m = 0\n",
    "    for i in st:\n",
    "        try:\n",
    "            d[i]+=1\n",
    "        except:\n",
    "            d[i]=1\n",
    "    for key,value in d.items():\n",
    "        if value == 1:\n",
    "            return key\n",
    "    "
   ]
  },
  {
   "cell_type": "code",
   "execution_count": 60,
   "id": "73f44306",
   "metadata": {},
   "outputs": [
    {
     "data": {
      "text/plain": [
       "'w'"
      ]
     },
     "execution_count": 60,
     "metadata": {},
     "output_type": "execute_result"
    }
   ],
   "source": [
    "non(\"swiss\")"
   ]
  },
  {
   "cell_type": "markdown",
   "id": "2e6a1462",
   "metadata": {},
   "source": [
    "### Write a function to determine if a string has all unique characters (i.e., no character is repeated)."
   ]
  },
  {
   "cell_type": "code",
   "execution_count": 63,
   "id": "54889a41",
   "metadata": {},
   "outputs": [],
   "source": [
    "def un(st):\n",
    "    d={}\n",
    "    for i in st:\n",
    "        try:\n",
    "            d[i]+=1\n",
    "        except:\n",
    "            d[i]=1\n",
    "    for key,value in d.items():\n",
    "        if value>1:\n",
    "            return False\n",
    "    else:\n",
    "        return True\n",
    "        "
   ]
  },
  {
   "cell_type": "code",
   "execution_count": 65,
   "id": "482d2948",
   "metadata": {},
   "outputs": [
    {
     "data": {
      "text/plain": [
       "False"
      ]
     },
     "execution_count": 65,
     "metadata": {},
     "output_type": "execute_result"
    }
   ],
   "source": [
    "un(\"abbc\")"
   ]
  },
  {
   "cell_type": "markdown",
   "id": "64083640",
   "metadata": {},
   "source": [
    "#### Write a function that returns the longest consecutive subsequence in a list of numbers."
   ]
  },
  {
   "cell_type": "code",
   "execution_count": 8,
   "id": "3343d323",
   "metadata": {},
   "outputs": [
    {
     "name": "stdout",
     "output_type": "stream",
     "text": [
      "{0: [1, 2, 3], 1: [5, 6, 7, 8, 16], 2: [10, 11, 12, 13, 14, 15]}\n",
      "[10, 11, 12, 13, 14, 15]\n"
     ]
    }
   ],
   "source": [
    "def cons(lst):\n",
    "    d = {}\n",
    "    cnt = 0\n",
    "    l = 0\n",
    "    max_con = []\n",
    "\n",
    "    for i in range(len(lst) - 1):\n",
    "        if lst[i] == lst[i + 1] - 1:\n",
    "            d[cnt] = d.get(cnt, []) + [lst[i]]\n",
    "        else:\n",
    "            d[cnt] = d.get(cnt, []) + [lst[i]]\n",
    "            cnt += 1\n",
    "\n",
    "    # Check the last element separately\n",
    "    if lst[-2] == lst[-1] - 1:\n",
    "        d[cnt-1] = d.get(cnt-1, []) + [lst[-1]]\n",
    "    else:\n",
    "        \n",
    "        d[cnt] = d.get(cnt, []) + [lst[-1]]\n",
    "    \n",
    "    print(d)\n",
    "\n",
    "    for key, value in d.items():\n",
    "        if len(value) > l:\n",
    "            max_con = value\n",
    "            l = len(value)\n",
    "\n",
    "    return max_con\n",
    "\n",
    "# Example usage:\n",
    "lst = [1, 2, 3, 5, 6, 7, 8, 10, 11, 12,13,14,15,16]\n",
    "result = cons(lst)\n",
    "print(result)\n"
   ]
  },
  {
   "cell_type": "markdown",
   "id": "c83ba932",
   "metadata": {},
   "source": [
    "#### Question: Given a list of integers, write a function to move all zeros to the end of the list while maintaining the order of the other elements."
   ]
  },
  {
   "cell_type": "code",
   "execution_count": 14,
   "id": "933b7e49",
   "metadata": {},
   "outputs": [],
   "source": [
    "def ze(lst):\n",
    "    lst2 = []\n",
    "    lst3 = []\n",
    "    for i in range(len(lst)):\n",
    "        if lst[i] == 0:\n",
    "            lst2.append(0)\n",
    "        else:\n",
    "            lst3.append(lst[i])\n",
    "            \n",
    "    lst3 +=lst2\n",
    "    return lst3\n",
    "        \n",
    "            "
   ]
  },
  {
   "cell_type": "code",
   "execution_count": 15,
   "id": "2af7965a",
   "metadata": {},
   "outputs": [
    {
     "data": {
      "text/plain": [
       "[1, 3, 8, 0, 0, 0, 0, 0]"
      ]
     },
     "execution_count": 15,
     "metadata": {},
     "output_type": "execute_result"
    }
   ],
   "source": [
    "ze([0,1,0,3,0,8,0,0])"
   ]
  },
  {
   "cell_type": "code",
   "execution_count": null,
   "id": "b86eab35",
   "metadata": {},
   "outputs": [],
   "source": []
  },
  {
   "cell_type": "code",
   "execution_count": 20,
   "id": "d3a75c0b",
   "metadata": {},
   "outputs": [],
   "source": [
    "l1 = ['abc','a','ab','b','ba','bb']"
   ]
  },
  {
   "cell_type": "code",
   "execution_count": 24,
   "id": "3ec47663",
   "metadata": {},
   "outputs": [],
   "source": [
    "l1.sort()"
   ]
  },
  {
   "cell_type": "code",
   "execution_count": 25,
   "id": "0ee39cab",
   "metadata": {},
   "outputs": [
    {
     "data": {
      "text/plain": [
       "['flight', 'flow', 'flower']"
      ]
     },
     "execution_count": 25,
     "metadata": {},
     "output_type": "execute_result"
    }
   ],
   "source": [
    "l1"
   ]
  },
  {
   "cell_type": "code",
   "execution_count": null,
   "id": "f620353f",
   "metadata": {},
   "outputs": [],
   "source": []
  },
  {
   "cell_type": "markdown",
   "id": "f575a9ad",
   "metadata": {},
   "source": [
    "### Write a function to find the longest common prefix of a list of strings."
   ]
  },
  {
   "cell_type": "code",
   "execution_count": 28,
   "id": "a40b831c",
   "metadata": {},
   "outputs": [],
   "source": [
    "def long_pre(lst):\n",
    "    lst.sort\n",
    "    first_str = lst[0]\n",
    "    last_str = lst[-1]\n",
    "    pre = \"\"\n",
    "    for i in range(len(first_str)):\n",
    "        if i<len(last_str) and first_str[i] == last_str[i]:\n",
    "            pre+=first_str[i]\n",
    "        else:\n",
    "            break\n",
    "    return pre\n",
    "    \n",
    "            \n",
    "        \n",
    "    \n"
   ]
  },
  {
   "cell_type": "code",
   "execution_count": 30,
   "id": "236c686b",
   "metadata": {},
   "outputs": [],
   "source": [
    "l1 = [\"flower\", \"flow\", \"flight\"]"
   ]
  },
  {
   "cell_type": "code",
   "execution_count": 31,
   "id": "47c914da",
   "metadata": {},
   "outputs": [
    {
     "data": {
      "text/plain": [
       "''"
      ]
     },
     "execution_count": 31,
     "metadata": {},
     "output_type": "execute_result"
    }
   ],
   "source": [
    "long_pre(l1)"
   ]
  },
  {
   "cell_type": "markdown",
   "id": "69e08452",
   "metadata": {},
   "source": [
    "### Write a function that returns the intersection of two sorted arrays. Assume each array does not have duplicates."
   ]
  },
  {
   "cell_type": "code",
   "execution_count": 13,
   "id": "d81b68de",
   "metadata": {},
   "outputs": [],
   "source": [
    "def inter(l1,l2):\n",
    "    l3 =[]\n",
    "    for i in l1:\n",
    "        if i in l2: # in operator again runs a loop inside\n",
    "            l3.append(i)\n",
    "    return l3\n",
    "# This approch have large time complexity"
   ]
  },
  {
   "cell_type": "code",
   "execution_count": 14,
   "id": "2e7a1d28",
   "metadata": {},
   "outputs": [],
   "source": [
    "arr1 = [1, 2, 4, 5, 6]\n",
    "arr2 = [2, 3, 5, 7]"
   ]
  },
  {
   "cell_type": "code",
   "execution_count": 15,
   "id": "d357a98e",
   "metadata": {},
   "outputs": [
    {
     "data": {
      "text/plain": [
       "[2, 5]"
      ]
     },
     "execution_count": 15,
     "metadata": {},
     "output_type": "execute_result"
    }
   ],
   "source": [
    "inter(arr1,arr2)"
   ]
  },
  {
   "cell_type": "code",
   "execution_count": 20,
   "id": "665d7e58",
   "metadata": {},
   "outputs": [],
   "source": [
    "def inter(lst1,lst2):\n",
    "    i =0\n",
    "    j =0\n",
    "    l3 = []\n",
    "    while i<len(lst1) and j<len(lst2):\n",
    "        if lst1[i] == lst2[j]:\n",
    "            l3.append(lst1[i])\n",
    "            i+=1\n",
    "            j+=1\n",
    "        elif lst1[i]<lst2[j]:\n",
    "            i+=1\n",
    "        else:\n",
    "            j+=1\n",
    "    return l3\n",
    "            \n",
    "            "
   ]
  },
  {
   "cell_type": "code",
   "execution_count": 21,
   "id": "949bf631",
   "metadata": {},
   "outputs": [],
   "source": [
    "arr1 = [1, 2, 4, 5, 6]\n",
    "arr2 = [2, 3, 5, 7]"
   ]
  },
  {
   "cell_type": "code",
   "execution_count": 22,
   "id": "abdfc0bb",
   "metadata": {},
   "outputs": [
    {
     "data": {
      "text/plain": [
       "[2, 5]"
      ]
     },
     "execution_count": 22,
     "metadata": {},
     "output_type": "execute_result"
    }
   ],
   "source": [
    "inter(arr1,arr2)"
   ]
  },
  {
   "cell_type": "markdown",
   "id": "8cb2db70",
   "metadata": {},
   "source": [
    "### Write a function that returns the nth number in the Fibonacci sequence using recursion."
   ]
  },
  {
   "cell_type": "code",
   "execution_count": 41,
   "id": "cbb8953c",
   "metadata": {},
   "outputs": [],
   "source": [
    "def n_num(n):\n",
    "    \n",
    "    lst = [0,1]\n",
    "    for i in range(n-1):\n",
    "        lst.append(lst[i]+lst[i+1])\n",
    "    return lst[-1]"
   ]
  },
  {
   "cell_type": "code",
   "execution_count": 42,
   "id": "76a0edf3",
   "metadata": {},
   "outputs": [
    {
     "data": {
      "text/plain": [
       "5"
      ]
     },
     "execution_count": 42,
     "metadata": {},
     "output_type": "execute_result"
    }
   ],
   "source": [
    "n_num(5)"
   ]
  },
  {
   "cell_type": "code",
   "execution_count": 35,
   "id": "db547f96",
   "metadata": {},
   "outputs": [],
   "source": [
    "def fibonacci(n):\n",
    "    \n",
    "    if n==1 or n==0:\n",
    "        return n\n",
    "    else:\n",
    "        return fibonacci(n-1)+fibonacci(n-2)\n",
    "    "
   ]
  },
  {
   "cell_type": "code",
   "execution_count": 40,
   "id": "53b63d65",
   "metadata": {},
   "outputs": [
    {
     "data": {
      "text/plain": [
       "5"
      ]
     },
     "execution_count": 40,
     "metadata": {},
     "output_type": "execute_result"
    }
   ],
   "source": [
    "fibonacci(5)"
   ]
  },
  {
   "cell_type": "markdown",
   "id": "81280d19",
   "metadata": {},
   "source": [
    "### Write a function to flatten a nested list of integers. Assume each element is either an integer or a list."
   ]
  },
  {
   "cell_type": "code",
   "execution_count": 48,
   "id": "c2828be7",
   "metadata": {},
   "outputs": [
    {
     "data": {
      "text/plain": [
       "[1, 2, 3, 4, 5, 6]"
      ]
     },
     "execution_count": 48,
     "metadata": {},
     "output_type": "execute_result"
    }
   ],
   "source": [
    "import numpy as np\n",
    "l1 = [[1,2,3],[4,5,6]]\n",
    "list(np.array(l1).flatten())"
   ]
  },
  {
   "cell_type": "code",
   "execution_count": null,
   "id": "3cdedc35",
   "metadata": {},
   "outputs": [],
   "source": []
  },
  {
   "cell_type": "markdown",
   "id": "8b8d5f95",
   "metadata": {},
   "source": [
    "### Sort a list of dates "
   ]
  },
  {
   "cell_type": "code",
   "execution_count": 63,
   "id": "ffcaa58b",
   "metadata": {},
   "outputs": [],
   "source": [
    "def date_sort(lst):\n",
    "    \n",
    "    month = ['jan','feb','mar','apr','may','jun','jul','aug','sep','oct','nov','dec']\n",
    "    \n",
    "    for i in range(len(lst)-1,0,-1):\n",
    "        for j in range(i):\n",
    "            if lst[j][-4::1] > lst[j+1][-4::1]:\n",
    "                temp = lst[j]\n",
    "                lst[j] = lst[j+1]\n",
    "                lst[j+1] = temp\n",
    "            elif lst[j][-4::1] == lst[j+1][-4::1]:\n",
    "                if month.index(lst[j][3:6])>month.index(lst[j+1][3:6]):\n",
    "                    temp = lst[j]\n",
    "                    lst[j] = lst[j+1]\n",
    "                    lst[j+1] = temp\n",
    "                elif month.index(lst[j][3:6])==month.index(lst[j+1][3:6]):\n",
    "                    if lst[j][0:2] > lst[j+1][0:2]:\n",
    "                        temp = lst[j]\n",
    "                        lst[j] = lst[j+1]\n",
    "                        lst[j+1] = temp\n",
    "    return lst\n",
    "                        \n",
    "            \n",
    "                \n",
    "            "
   ]
  },
  {
   "cell_type": "code",
   "execution_count": 64,
   "id": "82067f05",
   "metadata": {},
   "outputs": [],
   "source": [
    "lst = ['03/jan/2023',\n",
    "'04/apr/2022',\n",
    "'08/jun/2023',\n",
    "'15/aug/2022',\n",
    "'17/feb/2023',\n",
    "'18/oct/2023',\n",
    "'21/jul/2024',\n",
    "'23/mar/2024',\n",
    "'12/may/2025',\n",
    "'02/sep/2025']\n",
    "\n"
   ]
  },
  {
   "cell_type": "code",
   "execution_count": 55,
   "id": "0182bdfe",
   "metadata": {},
   "outputs": [
    {
     "data": {
      "text/plain": [
       "['04/apr/2022',\n",
       " '15/aug/2022',\n",
       " '03/jan/2023',\n",
       " '17/feb/2023',\n",
       " '08/jun/2023',\n",
       " '18/oct/2023',\n",
       " '23/mar/2024',\n",
       " '21/jul/2024',\n",
       " '12/may/2025',\n",
       " '02/sep/2025']"
      ]
     },
     "execution_count": 55,
     "metadata": {},
     "output_type": "execute_result"
    }
   ],
   "source": [
    "date_sort(lst)"
   ]
  },
  {
   "cell_type": "code",
   "execution_count": null,
   "id": "0150db6c",
   "metadata": {},
   "outputs": [],
   "source": []
  },
  {
   "cell_type": "code",
   "execution_count": 70,
   "id": "1b118057",
   "metadata": {},
   "outputs": [],
   "source": [
    "month = ['jan','feb','mar','apr','may','jun','july','aug','sep','oct','nov','dec']"
   ]
  },
  {
   "cell_type": "code",
   "execution_count": 71,
   "id": "156de22a",
   "metadata": {},
   "outputs": [],
   "source": [
    "def convert_date(date_str):\n",
    "        day, mon, year = date_str.split('/')\n",
    "        return int(year), month.index(mon)+1, int(day) # returning a tuple"
   ]
  },
  {
   "cell_type": "code",
   "execution_count": 72,
   "id": "27e25e06",
   "metadata": {},
   "outputs": [
    {
     "data": {
      "text/plain": [
       "['04/apr/2022',\n",
       " '15/aug/2022',\n",
       " '03/jan/2023',\n",
       " '17/feb/2023',\n",
       " '08/jun/2023',\n",
       " '18/oct/2023',\n",
       " '23/mar/2024',\n",
       " '21/july/2024',\n",
       " '12/may/2025',\n",
       " '02/sep/2025']"
      ]
     },
     "execution_count": 72,
     "metadata": {},
     "output_type": "execute_result"
    }
   ],
   "source": [
    "sorted(lst, key = convert_date)"
   ]
  },
  {
   "cell_type": "code",
   "execution_count": null,
   "id": "7522d7e2",
   "metadata": {},
   "outputs": [],
   "source": []
  },
  {
   "cell_type": "code",
   "execution_count": null,
   "id": "57a32485",
   "metadata": {},
   "outputs": [],
   "source": []
  },
  {
   "cell_type": "code",
   "execution_count": null,
   "id": "6efa2c07",
   "metadata": {},
   "outputs": [],
   "source": []
  },
  {
   "cell_type": "code",
   "execution_count": null,
   "id": "094e8a25",
   "metadata": {},
   "outputs": [],
   "source": []
  },
  {
   "cell_type": "code",
   "execution_count": null,
   "id": "18267730",
   "metadata": {},
   "outputs": [],
   "source": []
  },
  {
   "cell_type": "code",
   "execution_count": null,
   "id": "b052e845",
   "metadata": {},
   "outputs": [],
   "source": []
  },
  {
   "cell_type": "code",
   "execution_count": null,
   "id": "f6f909e3",
   "metadata": {},
   "outputs": [],
   "source": []
  },
  {
   "cell_type": "code",
   "execution_count": null,
   "id": "6cc7b1f4",
   "metadata": {},
   "outputs": [],
   "source": []
  }
 ],
 "metadata": {
  "kernelspec": {
   "display_name": "Python 3 (ipykernel)",
   "language": "python",
   "name": "python3"
  },
  "language_info": {
   "codemirror_mode": {
    "name": "ipython",
    "version": 3
   },
   "file_extension": ".py",
   "mimetype": "text/x-python",
   "name": "python",
   "nbconvert_exporter": "python",
   "pygments_lexer": "ipython3",
   "version": "3.11.3"
  }
 },
 "nbformat": 4,
 "nbformat_minor": 5
}
