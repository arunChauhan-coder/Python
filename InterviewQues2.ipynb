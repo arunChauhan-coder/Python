{
 "cells": [
  {
   "cell_type": "code",
   "execution_count": null,
   "id": "6e2ee5ff",
   "metadata": {},
   "outputs": [],
   "source": [
    " Write a function that checks if a string contains all letters of the alphabet at least once."
   ]
  },
  {
   "cell_type": "code",
   "execution_count": 2,
   "id": "c6a522c4",
   "metadata": {},
   "outputs": [
    {
     "name": "stdout",
     "output_type": "stream",
     "text": [
      "True\n"
     ]
    }
   ],
   "source": [
    "import string\n",
    "\n",
    "def contains_all_alphabets(s):\n",
    "    alphabet = set(string.ascii_lowercase)\n",
    "    return set(s.lower()) >= alphabet\n",
    "\n",
    "test_string = \"The quick brown fox jumps over the lazy dog\"\n",
    "print(contains_all_alphabets(test_string))"
   ]
  },
  {
   "cell_type": "code",
   "execution_count": 3,
   "id": "737dfa2a",
   "metadata": {},
   "outputs": [
    {
     "data": {
      "text/plain": [
       "{'a',\n",
       " 'b',\n",
       " 'c',\n",
       " 'd',\n",
       " 'e',\n",
       " 'f',\n",
       " 'g',\n",
       " 'h',\n",
       " 'i',\n",
       " 'j',\n",
       " 'k',\n",
       " 'l',\n",
       " 'm',\n",
       " 'n',\n",
       " 'o',\n",
       " 'p',\n",
       " 'q',\n",
       " 'r',\n",
       " 's',\n",
       " 't',\n",
       " 'u',\n",
       " 'v',\n",
       " 'w',\n",
       " 'x',\n",
       " 'y',\n",
       " 'z'}"
      ]
     },
     "execution_count": 3,
     "metadata": {},
     "output_type": "execute_result"
    }
   ],
   "source": [
    "alphabet = set(string.ascii_lowercase)\n",
    "alphabet  "
   ]
  },
  {
   "cell_type": "code",
   "execution_count": 17,
   "id": "a507b951",
   "metadata": {},
   "outputs": [],
   "source": [
    "s1 = {'a','b','c','e'}\n",
    "s2 = {'a','b','c','d'}\n"
   ]
  },
  {
   "cell_type": "code",
   "execution_count": 20,
   "id": "a48a2232",
   "metadata": {},
   "outputs": [
    {
     "data": {
      "text/plain": [
       "False"
      ]
     },
     "execution_count": 20,
     "metadata": {},
     "output_type": "execute_result"
    }
   ],
   "source": [
    "s1>s2"
   ]
  },
  {
   "cell_type": "markdown",
   "id": "93951b3c",
   "metadata": {},
   "source": [
    "#### Write a function that checks if a given string is a valid IPv4 address."
   ]
  },
  {
   "cell_type": "code",
   "execution_count": 34,
   "id": "9138765a",
   "metadata": {},
   "outputs": [],
   "source": [
    "import regex as re\n",
    "def ip(st):\n",
    "    pattern = '^\\d{1,3}.\\d{1,3}.\\d{1,3}.\\d{1,3}$'\n",
    "    return re.match(pattern,st)"
   ]
  },
  {
   "cell_type": "code",
   "execution_count": 35,
   "id": "ccb0f40b",
   "metadata": {},
   "outputs": [
    {
     "data": {
      "text/plain": [
       "<regex.Match object; span=(0, 15), match='123.156.785.893'>"
      ]
     },
     "execution_count": 35,
     "metadata": {},
     "output_type": "execute_result"
    }
   ],
   "source": [
    "ip('123.156.785.893')"
   ]
  },
  {
   "cell_type": "markdown",
   "id": "f46eade7",
   "metadata": {},
   "source": [
    "#### Given a list of numbers, write a function to compute the mean, median, and mode"
   ]
  },
  {
   "cell_type": "code",
   "execution_count": 46,
   "id": "9dd9b84d",
   "metadata": {},
   "outputs": [],
   "source": [
    "def mode(lst):\n",
    "    d = {}\n",
    "    m = 0\n",
    "    mode = ''\n",
    "    for i in lst:\n",
    "        try:\n",
    "            d[i]+=1\n",
    "        except:\n",
    "            d[i]=1\n",
    "    for key,value in d.items():\n",
    "        if value > m:\n",
    "            m = value\n",
    "            mode = key\n",
    "    return mode\n",
    "        \n",
    "        "
   ]
  },
  {
   "cell_type": "code",
   "execution_count": 48,
   "id": "3ac219a4",
   "metadata": {},
   "outputs": [
    {
     "data": {
      "text/plain": [
       "4"
      ]
     },
     "execution_count": 48,
     "metadata": {},
     "output_type": "execute_result"
    }
   ],
   "source": [
    "mode([1,2,2,4,4,4,4])"
   ]
  },
  {
   "cell_type": "markdown",
   "id": "e64d7230",
   "metadata": {},
   "source": [
    "#### Given a string, write a function that returns the first non-repeated character."
   ]
  },
  {
   "cell_type": "code",
   "execution_count": 59,
   "id": "ef48db11",
   "metadata": {},
   "outputs": [],
   "source": [
    "def non(st):\n",
    "\n",
    "    d = {}\n",
    "    m = 0\n",
    "    for i in st:\n",
    "        try:\n",
    "            d[i]+=1\n",
    "        except:\n",
    "            d[i]=1\n",
    "    for key,value in d.items():\n",
    "        if value == 1:\n",
    "            return key\n",
    "    "
   ]
  },
  {
   "cell_type": "code",
   "execution_count": 60,
   "id": "73f44306",
   "metadata": {},
   "outputs": [
    {
     "data": {
      "text/plain": [
       "'w'"
      ]
     },
     "execution_count": 60,
     "metadata": {},
     "output_type": "execute_result"
    }
   ],
   "source": [
    "non(\"swiss\")"
   ]
  },
  {
   "cell_type": "markdown",
   "id": "2e6a1462",
   "metadata": {},
   "source": [
    "### Write a function to determine if a string has all unique characters (i.e., no character is repeated)."
   ]
  },
  {
   "cell_type": "code",
   "execution_count": 63,
   "id": "54889a41",
   "metadata": {},
   "outputs": [],
   "source": [
    "def un(st):\n",
    "    d={}\n",
    "    for i in st:\n",
    "        try:\n",
    "            d[i]+=1\n",
    "        except:\n",
    "            d[i]=1\n",
    "    for key,value in d.items():\n",
    "        if value>1:\n",
    "            return False\n",
    "    else:\n",
    "        return True\n",
    "        "
   ]
  },
  {
   "cell_type": "code",
   "execution_count": 65,
   "id": "482d2948",
   "metadata": {},
   "outputs": [
    {
     "data": {
      "text/plain": [
       "False"
      ]
     },
     "execution_count": 65,
     "metadata": {},
     "output_type": "execute_result"
    }
   ],
   "source": [
    "un(\"abbc\")"
   ]
  },
  {
   "cell_type": "markdown",
   "id": "64083640",
   "metadata": {},
   "source": [
    "#### Write a function that returns the longest consecutive subsequence in a list of numbers."
   ]
  },
  {
   "cell_type": "code",
   "execution_count": null,
   "id": "3343d323",
   "metadata": {},
   "outputs": [],
   "source": [
    "def cons(lst):\n",
    "    d = {}\n",
    "    cnt = 0\n",
    "    l = 0\n",
    "    max_con = []\n",
    "\n",
    "    for i in range(len(lst) - 1):\n",
    "        if lst[i] == lst[i + 1] + 1:\n",
    "            d[cnt] = d.get(cnt, []) + [lst[i]]\n",
    "        else:\n",
    "            d[cnt] = d.get(cnt, []) + [lst[i]]\n",
    "            cnt += 1\n",
    "\n",
    "    # Check the last element separately\n",
    "    if lst[-2] == lst[-1] + 1:\n",
    "        d[cnt] = d.get(cnt, []) + [lst[-1]]\n",
    "    else:\n",
    "        d[cnt] = d.get(cnt, []) + [lst[-1]]\n",
    "\n",
    "    for key, value in d.items():\n",
    "        if len(value) > l:\n",
    "            max_con = value\n",
    "            l = len(value)\n",
    "\n",
    "    return max_con\n",
    "\n",
    "# Example usage:\n",
    "lst = [1, 2, 3, 5, 6, 7, 8, 10, 11, 12]\n",
    "result = cons(lst)\n",
    "print(result)\n"
   ]
  },
  {
   "cell_type": "code",
   "execution_count": 73,
   "id": "bd165d7a",
   "metadata": {},
   "outputs": [],
   "source": [
    "def cons(lst):\n",
    "    d = {}\n",
    "    cnt = 0\n",
    "    l = 0\n",
    "    max_con = []\n",
    "    for i in range(len(lst)-1):\n",
    "        if lst[i]==lst[i+1]+1:\n",
    "            d[cnt]=list(lst[i])\n",
    "        else:\n",
    "            d[cnt]=list(lst[i])\n",
    "            cnt+=1\n",
    "        \n",
    "    for key,value in d.items():\n",
    "        if len(value)>l:\n",
    "            max_con = value\n",
    "    return max_con\n",
    "    \n",
    "            "
   ]
  },
  {
   "cell_type": "code",
   "execution_count": 74,
   "id": "4037bc09",
   "metadata": {},
   "outputs": [
    {
     "ename": "TypeError",
     "evalue": "'int' object is not iterable",
     "output_type": "error",
     "traceback": [
      "\u001b[1;31m---------------------------------------------------------------------------\u001b[0m",
      "\u001b[1;31mTypeError\u001b[0m                                 Traceback (most recent call last)",
      "Cell \u001b[1;32mIn[74], line 1\u001b[0m\n\u001b[1;32m----> 1\u001b[0m cons([\u001b[38;5;241m1\u001b[39m,\u001b[38;5;241m2\u001b[39m,\u001b[38;5;241m3\u001b[39m,\u001b[38;5;241m3\u001b[39m,\u001b[38;5;241m6\u001b[39m,\u001b[38;5;241m7\u001b[39m,\u001b[38;5;241m8\u001b[39m,\u001b[38;5;241m9\u001b[39m])\n",
      "Cell \u001b[1;32mIn[73], line 9\u001b[0m, in \u001b[0;36mcons\u001b[1;34m(lst)\u001b[0m\n\u001b[0;32m      7\u001b[0m         d[cnt]\u001b[38;5;241m=\u001b[39m\u001b[38;5;28mlist\u001b[39m(lst[i])\n\u001b[0;32m      8\u001b[0m     \u001b[38;5;28;01melse\u001b[39;00m:\n\u001b[1;32m----> 9\u001b[0m         d[cnt]\u001b[38;5;241m=\u001b[39m\u001b[38;5;28mlist\u001b[39m(lst[i])\n\u001b[0;32m     10\u001b[0m         cnt\u001b[38;5;241m+\u001b[39m\u001b[38;5;241m=\u001b[39m\u001b[38;5;241m1\u001b[39m\n\u001b[0;32m     12\u001b[0m \u001b[38;5;28;01mfor\u001b[39;00m key,value \u001b[38;5;129;01min\u001b[39;00m d\u001b[38;5;241m.\u001b[39mitems():\n",
      "\u001b[1;31mTypeError\u001b[0m: 'int' object is not iterable"
     ]
    }
   ],
   "source": [
    "cons([1,2,3,3,6,7,8,9])"
   ]
  },
  {
   "cell_type": "code",
   "execution_count": null,
   "id": "585fc4b2",
   "metadata": {},
   "outputs": [],
   "source": [
    "d{}"
   ]
  },
  {
   "cell_type": "code",
   "execution_count": null,
   "id": "d370ecb8",
   "metadata": {},
   "outputs": [],
   "source": [
    "d['a'].app"
   ]
  },
  {
   "cell_type": "code",
   "execution_count": null,
   "id": "9c939145",
   "metadata": {},
   "outputs": [],
   "source": [
    "def longest_consecutive(lst):\n",
    "    if not lst:\n",
    "        return []\n",
    "\n",
    "    lst.sort()\n",
    "    current_consecutive = [lst[0]]\n",
    "    longest_consecutive = [lst[0]]\n",
    "\n",
    "    for i in range(1, len(lst)):\n",
    "        if lst[i] == lst[i - 1] + 1:\n",
    "            current_consecutive.append(lst[i])\n",
    "        else:\n",
    "            current_consecutive = [lst[i]]\n",
    "\n",
    "        if len(current_consecutive) > len(longest_consecutive):\n",
    "            longest_consecutive = current_consecutive\n",
    "\n",
    "    return longest_consecutive\n",
    "\n",
    "# Example usage:\n",
    "lst = [1, 2, 3, 5, 6, 7, 8, 10, 11, 12]\n",
    "result = longest_consecutive(lst)\n",
    "print(result)\n"
   ]
  },
  {
   "cell_type": "code",
   "execution_count": null,
   "id": "ecb72a42",
   "metadata": {},
   "outputs": [],
   "source": []
  }
 ],
 "metadata": {
  "kernelspec": {
   "display_name": "Python 3 (ipykernel)",
   "language": "python",
   "name": "python3"
  },
  "language_info": {
   "codemirror_mode": {
    "name": "ipython",
    "version": 3
   },
   "file_extension": ".py",
   "mimetype": "text/x-python",
   "name": "python",
   "nbconvert_exporter": "python",
   "pygments_lexer": "ipython3",
   "version": "3.11.3"
  }
 },
 "nbformat": 4,
 "nbformat_minor": 5
}
