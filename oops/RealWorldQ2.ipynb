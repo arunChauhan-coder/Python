{
 "cells": [
  {
   "cell_type": "code",
   "execution_count": null,
   "metadata": {},
   "outputs": [],
   "source": [
    "\"\"\"\n",
    "2. Write a Python class Restaurant with attributes like menu_items, \n",
    "book_table, and customer_orders, and methods like add_item_to_menu, book_tables, and customer_order.\n",
    "Perform the following tasks now:\n",
    "Now add items to the menu.\n",
    "Make table reservations.\n",
    "Take customer orders.\n",
    "Print the menu.\n",
    "Print table reservations.\n",
    "Print customer orders.\n",
    "Note: Use dictionaries and lists to store the data.\n",
    "\"\"\""
   ]
  },
  {
   "cell_type": "code",
   "execution_count": 30,
   "metadata": {},
   "outputs": [],
   "source": [
    "class Restaurant:\n",
    "    def __init__(self,book_table,customer_orders,menu_items=[\"pastry\"]):\n",
    "        self.Tables =[]\n",
    "        self.order=[]\n",
    "        self.menu_items = menu_items\n",
    "        self.book_table = book_table\n",
    "        self.customer_orders = customer_orders\n",
    "    def add_menu(self,*args):\n",
    "        for i in args:\n",
    "            self.menu_items.append(i)\n",
    "    def reserve(self,tableno): \n",
    "        if len(self.Tables)!=5:\n",
    "            self.Tables.append(tableno)\n",
    "    def cust_order(self,*args):\n",
    "        for i in args:\n",
    "            self.order.append(i)\n",
    "    def pr_menu(self):\n",
    "        print(self.menu_items)\n",
    "    def pr_reserve(self):\n",
    "        print(self.Tables)\n",
    "    def pr_orders(self):\n",
    "        print(self.order)"
   ]
  },
  {
   "cell_type": "code",
   "execution_count": 31,
   "metadata": {},
   "outputs": [],
   "source": [
    "r1 = Restaurant(5,2,menu_items=[\"applecake\",\"mohiito\",\"burger\"])"
   ]
  },
  {
   "cell_type": "code",
   "execution_count": 32,
   "metadata": {},
   "outputs": [],
   "source": [
    "r1.add_menu(\"chowmin\",\"patte\",\"samosa\")"
   ]
  },
  {
   "cell_type": "code",
   "execution_count": 33,
   "metadata": {},
   "outputs": [],
   "source": [
    "r1.reserve(2)"
   ]
  },
  {
   "cell_type": "code",
   "execution_count": 36,
   "metadata": {},
   "outputs": [],
   "source": [
    "r1.cust_order(\"samosa\",\"mohiito\")"
   ]
  },
  {
   "cell_type": "code",
   "execution_count": 37,
   "metadata": {},
   "outputs": [
    {
     "name": "stdout",
     "output_type": "stream",
     "text": [
      "['applecake', 'mohiito', 'burger', 'chowmin', 'patte', 'samosa']\n",
      "[2]\n",
      "[['samosa', 'mohiito'], 'samosa', 'mohiito']\n"
     ]
    }
   ],
   "source": [
    "r1.pr_menu()\n",
    "r1.pr_reserve()\n",
    "r1.pr_orders()"
   ]
  },
  {
   "cell_type": "code",
   "execution_count": null,
   "metadata": {},
   "outputs": [],
   "source": []
  }
 ],
 "metadata": {
  "kernelspec": {
   "display_name": "Python 3",
   "language": "python",
   "name": "python3"
  },
  "language_info": {
   "codemirror_mode": {
    "name": "ipython",
    "version": 3
   },
   "file_extension": ".py",
   "mimetype": "text/x-python",
   "name": "python",
   "nbconvert_exporter": "python",
   "pygments_lexer": "ipython3",
   "version": "3.7.4"
  }
 },
 "nbformat": 4,
 "nbformat_minor": 2
}
