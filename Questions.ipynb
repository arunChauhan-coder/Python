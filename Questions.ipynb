{
 "cells": [
  {
   "cell_type": "markdown",
   "id": "e68cc85b",
   "metadata": {},
   "source": [
    "### Have the function LetterCountI(str) take the str parameter being passed and return the first word with the greatest number of repeated letters"
   ]
  },
  {
   "cell_type": "code",
   "execution_count": null,
   "id": "13153f38",
   "metadata": {},
   "outputs": [],
   "source": [
    "# For example: \"Today, is the greatest day ever!\" should return greatest because it has 2 e's (and 2 t's) and it comes before ever\n",
    "#which also has 2 e's. If there are no words with repeating letters return -1. Words will be separated by spaces."
   ]
  },
  {
   "cell_type": "code",
   "execution_count": 11,
   "id": "f8683b41",
   "metadata": {},
   "outputs": [],
   "source": [
    "def LetterCount(st):\n",
    "    greatest = \"\"\n",
    "    greatest_count = 0\n",
    "    \n",
    "    l1 = st.split()\n",
    "    print(l1)\n",
    "    \n",
    "    def letter_count(word):\n",
    "        d = {}\n",
    "        c= 0\n",
    "        for letter in word:\n",
    "            try:\n",
    "                d[letter]+=1\n",
    "            except:\n",
    "                d[letter] = 1\n",
    "        for letter in d:\n",
    "            if d[letter]>1:\n",
    "                c += d[letter]\n",
    "        return c\n",
    "    \n",
    "    for word in l1:\n",
    "        cnt = letter_count(word)\n",
    "        if cnt > greatest_count:\n",
    "            greatest_count = cnt\n",
    "            greatest = word\n",
    "    return greatest,greatest_count\n",
    "    \n",
    "   \n",
    "        \n",
    "    "
   ]
  },
  {
   "cell_type": "code",
   "execution_count": 12,
   "id": "f75cf706",
   "metadata": {},
   "outputs": [
    {
     "name": "stdout",
     "output_type": "stream",
     "text": [
      "['Today,', 'is', 'the', 'greatest', 'day', 'ever!']\n"
     ]
    },
    {
     "data": {
      "text/plain": [
       "('greatest', 4)"
      ]
     },
     "execution_count": 12,
     "metadata": {},
     "output_type": "execute_result"
    }
   ],
   "source": [
    "LetterCount(\"Today, is the greatest day ever!\")"
   ]
  },
  {
   "cell_type": "markdown",
   "id": "b8f55eb4",
   "metadata": {},
   "source": [
    "### Have the function MeanMode(arr) take the array of numbers stored in arr and return 1 if the mode equals the mean, \n",
    "0 if they don't equal each other (ie. [5, 3, 3, 3, 1] should return 1 because the mode (3) equals the mean (3)). \n",
    "The array will not be empty, will only contain positive integers, and will not contain more than one mode."
   ]
  },
  {
   "cell_type": "code",
   "execution_count": 5,
   "id": "8fb0a747",
   "metadata": {},
   "outputs": [],
   "source": [
    "def meanMode(lst):\n",
    "    \n",
    "    d = {}\n",
    "    mode = 0\n",
    "    for i in lst:\n",
    "        try:\n",
    "            d[i]+=1\n",
    "        except:\n",
    "            d[i]=1\n",
    "\n",
    "    for i in d:\n",
    "        if d[i] == max(d.values()):\n",
    "            mode = i\n",
    "   \n",
    "    \n",
    "    mean = sum(lst)/len(lst)\n",
    "    if mode == mean:\n",
    "        return 1\n",
    "    else:\n",
    "        return 0"
   ]
  },
  {
   "cell_type": "code",
   "execution_count": 6,
   "id": "86f8553f",
   "metadata": {},
   "outputs": [
    {
     "data": {
      "text/plain": [
       "1"
      ]
     },
     "execution_count": 6,
     "metadata": {},
     "output_type": "execute_result"
    }
   ],
   "source": [
    "meanMode([5, 3, 3, 3, 1])"
   ]
  },
  {
   "cell_type": "code",
   "execution_count": 11,
   "id": "ac2848c8",
   "metadata": {},
   "outputs": [],
   "source": [
    "MeanMode([1, 2, 2, 3, 3, 3, 4, 4, 5])"
   ]
  },
  {
   "cell_type": "code",
   "execution_count": 12,
   "id": "bdd2b817",
   "metadata": {},
   "outputs": [],
   "source": [
    "MeanMode([1,2,3])"
   ]
  },
  {
   "cell_type": "markdown",
   "id": "5af4ffe8",
   "metadata": {},
   "source": [
    "### Have the function PrimeMover(num) return the numth prime number. The range will be from 1 to 10^4. For example: if num is 16 the output should be 53 as 53 is the 16th prime number."
   ]
  },
  {
   "cell_type": "code",
   "execution_count": 3,
   "id": "6b25783b",
   "metadata": {},
   "outputs": [],
   "source": [
    "def PrimeMover(num):\n",
    "    lst = []\n",
    "    cnt = 0\n",
    "    m = 10**4\n",
    "    for i in range(2,m+1):\n",
    "        for j in range (i+1,m+1):\n",
    "            if i%j == 0:\n",
    "                cnt+=1\n",
    "        if cnt==0:\n",
    "            lst.append(i)\n",
    "        else:\n",
    "            cnt = 0\n",
    "      \n",
    "    return lst[num-1]"
   ]
  },
  {
   "cell_type": "code",
   "execution_count": 4,
   "id": "541dc58c",
   "metadata": {},
   "outputs": [
    {
     "data": {
      "text/plain": [
       "2"
      ]
     },
     "execution_count": 4,
     "metadata": {},
     "output_type": "execute_result"
    }
   ],
   "source": [
    "PrimeMover(1)"
   ]
  },
  {
   "cell_type": "code",
   "execution_count": 5,
   "id": "f1279b16",
   "metadata": {},
   "outputs": [
    {
     "data": {
      "text/plain": [
       "3"
      ]
     },
     "execution_count": 5,
     "metadata": {},
     "output_type": "execute_result"
    }
   ],
   "source": [
    "PrimeMover(2)"
   ]
  },
  {
   "cell_type": "code",
   "execution_count": 7,
   "id": "92a6202f",
   "metadata": {},
   "outputs": [],
   "source": [
    "def PrimeMover(num):\n",
    "    limit = 10**5  # Adjust the limit as needed to find the nth prime number\n",
    "    sieve = [True] * (limit + 1)\n",
    "    sieve[0] = sieve[1] = False\n",
    "    prime_count = 0\n",
    "\n",
    "    for current in range(2, limit + 1):\n",
    "        if sieve[current]:\n",
    "            prime_count += 1\n",
    "            if prime_count == num:\n",
    "                return current\n",
    "            for multiple in range(current * current, limit + 1, current):\n",
    "                sieve[multiple] = False\n",
    "\n",
    "# Example usage:\n",
    " # This will print the 10th prime number\n"
   ]
  },
  {
   "cell_type": "code",
   "execution_count": 8,
   "id": "33156049",
   "metadata": {},
   "outputs": [
    {
     "name": "stdout",
     "output_type": "stream",
     "text": [
      "3\n"
     ]
    }
   ],
   "source": [
    "nth_prime = PrimeMover(2)\n",
    "print(nth_prime) "
   ]
  },
  {
   "cell_type": "markdown",
   "id": "3443dc65",
   "metadata": {},
   "source": [
    "### Count num of digit in a integer"
   ]
  },
  {
   "cell_type": "code",
   "execution_count": 5,
   "id": "349c0dfb",
   "metadata": {},
   "outputs": [],
   "source": [
    "def count(x):\n",
    "    cnt = 0\n",
    "    while x>0:\n",
    "        x//=10\n",
    "        cnt+=1\n",
    "        \n",
    "    return cnt"
   ]
  },
  {
   "cell_type": "code",
   "execution_count": 6,
   "id": "306d29f1",
   "metadata": {},
   "outputs": [
    {
     "data": {
      "text/plain": [
       "3"
      ]
     },
     "execution_count": 6,
     "metadata": {},
     "output_type": "execute_result"
    }
   ],
   "source": [
    "count(231)"
   ]
  },
  {
   "cell_type": "code",
   "execution_count": 7,
   "id": "daa693e7",
   "metadata": {},
   "outputs": [],
   "source": [
    "# 2nd approch\n",
    "def count(x):\n",
    "    x = len(str(x))\n",
    "    return x"
   ]
  },
  {
   "cell_type": "code",
   "execution_count": 10,
   "id": "05f9fc12",
   "metadata": {},
   "outputs": [
    {
     "data": {
      "text/plain": [
       "3"
      ]
     },
     "execution_count": 10,
     "metadata": {},
     "output_type": "execute_result"
    }
   ],
   "source": [
    "count(231)"
   ]
  },
  {
   "cell_type": "markdown",
   "id": "cc8a4bc9",
   "metadata": {},
   "source": [
    "### Write a Python program to reverse a integer in python"
   ]
  },
  {
   "cell_type": "code",
   "execution_count": 15,
   "id": "a9324cbb",
   "metadata": {},
   "outputs": [],
   "source": [
    "def rev(x):\n",
    "    x= str(x)\n",
    "    x = x[-1::-1]\n",
    "    return x    \n",
    "    "
   ]
  },
  {
   "cell_type": "code",
   "execution_count": 16,
   "id": "551addb5",
   "metadata": {},
   "outputs": [
    {
     "data": {
      "text/plain": [
       "'3898'"
      ]
     },
     "execution_count": 16,
     "metadata": {},
     "output_type": "execute_result"
    }
   ],
   "source": [
    "rev(8983)"
   ]
  },
  {
   "cell_type": "code",
   "execution_count": 31,
   "id": "def6d9a3",
   "metadata": {},
   "outputs": [],
   "source": [
    "# 2nd approch\n",
    "\n",
    "def rev1(x):\n",
    "    reverse = 0\n",
    "    while x>0:\n",
    "        last_digit = x%10\n",
    "        reverse = reverse*10 + last_digit  \n",
    "        x = x//10\n",
    "\n",
    "    return reverse\n",
    "        "
   ]
  },
  {
   "cell_type": "code",
   "execution_count": 32,
   "id": "dadd9068",
   "metadata": {},
   "outputs": [
    {
     "data": {
      "text/plain": [
       "3498"
      ]
     },
     "execution_count": 32,
     "metadata": {},
     "output_type": "execute_result"
    }
   ],
   "source": [
    "rev1(8943)"
   ]
  },
  {
   "cell_type": "markdown",
   "id": "7a6bc558",
   "metadata": {},
   "source": [
    "### Write a program in Python to check whether an integer is Armstrong number or not."
   ]
  },
  {
   "cell_type": "markdown",
   "id": "c08a6372",
   "metadata": {},
   "source": [
    "#### it's a number such , each raised to the power of the number of digits in the number, is equal to the number itself."
   ]
  },
  {
   "cell_type": "code",
   "execution_count": 6,
   "id": "5c6c0986",
   "metadata": {},
   "outputs": [],
   "source": [
    "def arm(x):\n",
    "    sum = 0\n",
    "    s = str(x)\n",
    "    l = len(s)\n",
    "    for i in s:\n",
    "        sum +=int(i)**l\n",
    "    if sum == x:\n",
    "        return \"Armstrong\"\n",
    "    else:\n",
    "        return \"Not Armstrong\""
   ]
  },
  {
   "cell_type": "code",
   "execution_count": 7,
   "id": "773bd4a7",
   "metadata": {},
   "outputs": [
    {
     "data": {
      "text/plain": [
       "'Armstrong'"
      ]
     },
     "execution_count": 7,
     "metadata": {},
     "output_type": "execute_result"
    }
   ],
   "source": [
    "arm(153)"
   ]
  },
  {
   "cell_type": "code",
   "execution_count": 8,
   "id": "75d04609",
   "metadata": {},
   "outputs": [
    {
     "data": {
      "text/plain": [
       "'Not Armstrong'"
      ]
     },
     "execution_count": 8,
     "metadata": {},
     "output_type": "execute_result"
    }
   ],
   "source": [
    "arm(27)"
   ]
  },
  {
   "cell_type": "code",
   "execution_count": 17,
   "id": "4b08fbdd",
   "metadata": {},
   "outputs": [],
   "source": [
    "# 2nd Approch\n",
    "\n",
    "def arm1(x):\n",
    "    l = len(str(x))\n",
    "    temp = x\n",
    "    sum = 0\n",
    "    while x>0:\n",
    "        last = x%10\n",
    "        sum += last**l\n",
    "        x//=10\n",
    "    if sum == temp:\n",
    "        return \"Armstrong\"\n",
    "    else:\n",
    "        return \"Not Armstrong\""
   ]
  },
  {
   "cell_type": "code",
   "execution_count": 18,
   "id": "d9375b6d",
   "metadata": {},
   "outputs": [
    {
     "data": {
      "text/plain": [
       "'Armstrong'"
      ]
     },
     "execution_count": 18,
     "metadata": {},
     "output_type": "execute_result"
    }
   ],
   "source": [
    "arm1(153)"
   ]
  },
  {
   "cell_type": "markdown",
   "id": "fe75e63a",
   "metadata": {},
   "source": [
    "### Write a program in Python to check given number is prime or not."
   ]
  },
  {
   "cell_type": "code",
   "execution_count": 9,
   "id": "9b609de4",
   "metadata": {},
   "outputs": [],
   "source": [
    "def prime(n):\n",
    "    if n == 0 or n == 1:\n",
    "        return \"neither prime nor composite\"\n",
    "    cnt = 0\n",
    "    for i in range(2,n):\n",
    "        if n%i == 0:\n",
    "            cnt +=1\n",
    "    if cnt > 0:\n",
    "        return \"not prime\"\n",
    "    else: \n",
    "        return \"prime\"\n",
    "        "
   ]
  },
  {
   "cell_type": "code",
   "execution_count": 10,
   "id": "77abe620",
   "metadata": {},
   "outputs": [
    {
     "data": {
      "text/plain": [
       "'not prime'"
      ]
     },
     "execution_count": 10,
     "metadata": {},
     "output_type": "execute_result"
    }
   ],
   "source": [
    "prime(230)"
   ]
  },
  {
   "cell_type": "code",
   "execution_count": 11,
   "id": "264b0aa9",
   "metadata": {},
   "outputs": [
    {
     "data": {
      "text/plain": [
       "'prime'"
      ]
     },
     "execution_count": 11,
     "metadata": {},
     "output_type": "execute_result"
    }
   ],
   "source": [
    "prime(3)"
   ]
  },
  {
   "cell_type": "code",
   "execution_count": 28,
   "id": "adf48354",
   "metadata": {},
   "outputs": [],
   "source": [
    "# 2nd approch\n",
    "# When you multiply two numbers\n",
    "# together to get a product, at least one of the numbers must be less than or equal to the square root of the product.\n",
    "def prime1(x):\n",
    "    for i in range(2,int(x**0.5)+1):\n",
    "        if x%i== 0:\n",
    "            return \"not Prime\"\n",
    "        else:\n",
    "            return \"prime\""
   ]
  },
  {
   "cell_type": "code",
   "execution_count": 29,
   "id": "f6664387",
   "metadata": {},
   "outputs": [
    {
     "data": {
      "text/plain": [
       "'not Prime'"
      ]
     },
     "execution_count": 29,
     "metadata": {},
     "output_type": "execute_result"
    }
   ],
   "source": [
    "prime1(250)"
   ]
  },
  {
   "cell_type": "code",
   "execution_count": 30,
   "id": "42a44c2f",
   "metadata": {},
   "outputs": [
    {
     "data": {
      "text/plain": [
       "'prime'"
      ]
     },
     "execution_count": 30,
     "metadata": {},
     "output_type": "execute_result"
    }
   ],
   "source": [
    "prime1(5)"
   ]
  },
  {
   "cell_type": "markdown",
   "id": "b1ee0ece",
   "metadata": {},
   "source": [
    "### Write a program in Python to print the Fibonacci series using iterative method."
   ]
  },
  {
   "cell_type": "code",
   "execution_count": 41,
   "id": "51bb50db",
   "metadata": {},
   "outputs": [],
   "source": [
    "def fib(x):\n",
    "    lst=[0,1]\n",
    "    for i in range(x-2):\n",
    "        lst.append(lst[i]+lst[i+1])\n",
    "    return lst\n",
    "    "
   ]
  },
  {
   "cell_type": "code",
   "execution_count": 42,
   "id": "d6bcf4af",
   "metadata": {},
   "outputs": [
    {
     "data": {
      "text/plain": [
       "[0, 1, 1, 2, 3]"
      ]
     },
     "execution_count": 42,
     "metadata": {},
     "output_type": "execute_result"
    }
   ],
   "source": [
    "fib(5)"
   ]
  },
  {
   "cell_type": "markdown",
   "id": "86e31910",
   "metadata": {},
   "source": [
    "### Write a program in Python to check whether a number is palindrome or not using iterative method."
   ]
  },
  {
   "cell_type": "code",
   "execution_count": 15,
   "id": "7c7cc204",
   "metadata": {},
   "outputs": [],
   "source": [
    "def pal(x):\n",
    "    x = str(x)\n",
    "    if x == x[::-1]:\n",
    "        return \"palindrome\"\n",
    "    else:\n",
    "        return \"Not palindrome\""
   ]
  },
  {
   "cell_type": "code",
   "execution_count": 16,
   "id": "70132ad4",
   "metadata": {},
   "outputs": [
    {
     "data": {
      "text/plain": [
       "'palindrome'"
      ]
     },
     "execution_count": 16,
     "metadata": {},
     "output_type": "execute_result"
    }
   ],
   "source": [
    "pal(151)"
   ]
  },
  {
   "cell_type": "code",
   "execution_count": 17,
   "id": "9715eda3",
   "metadata": {},
   "outputs": [
    {
     "data": {
      "text/plain": [
       "'Not palindrome'"
      ]
     },
     "execution_count": 17,
     "metadata": {},
     "output_type": "execute_result"
    }
   ],
   "source": [
    "pal(453)"
   ]
  },
  {
   "cell_type": "code",
   "execution_count": 52,
   "id": "c21cd4fc",
   "metadata": {},
   "outputs": [],
   "source": [
    "# 2nd approch\n",
    "\n",
    "def pal1(x):\n",
    "    rev =0\n",
    "    temp =x\n",
    "    while x>0:\n",
    "        last = x%10\n",
    "        rev = rev*10 + last\n",
    "        x//=10\n",
    "    if rev == temp:\n",
    "        return \"palindrome\"\n",
    "    else:\n",
    "        return \"Not palindrome\""
   ]
  },
  {
   "cell_type": "code",
   "execution_count": 53,
   "id": "b5941034",
   "metadata": {},
   "outputs": [
    {
     "data": {
      "text/plain": [
       "'palindrome'"
      ]
     },
     "execution_count": 53,
     "metadata": {},
     "output_type": "execute_result"
    }
   ],
   "source": [
    "pal1(151)"
   ]
  },
  {
   "cell_type": "code",
   "execution_count": 54,
   "id": "c0b1cfeb",
   "metadata": {},
   "outputs": [
    {
     "data": {
      "text/plain": [
       "'Not palindrome'"
      ]
     },
     "execution_count": 54,
     "metadata": {},
     "output_type": "execute_result"
    }
   ],
   "source": [
    "pal1(150)"
   ]
  },
  {
   "cell_type": "markdown",
   "id": "49b72283",
   "metadata": {},
   "source": [
    "### Write a program in Python to find greatest among three integers."
   ]
  },
  {
   "cell_type": "code",
   "execution_count": 57,
   "id": "09c5b2d4",
   "metadata": {},
   "outputs": [],
   "source": [
    "def greatest(x,y,z):\n",
    "    if x>y and x>z:\n",
    "        return x\n",
    "    elif y>x and y>z:\n",
    "        return y\n",
    "    else:\n",
    "        return z"
   ]
  },
  {
   "cell_type": "code",
   "execution_count": 58,
   "id": "b60b7ad0",
   "metadata": {},
   "outputs": [
    {
     "data": {
      "text/plain": [
       "3"
      ]
     },
     "execution_count": 58,
     "metadata": {},
     "output_type": "execute_result"
    }
   ],
   "source": [
    "greatest(1,2,3)"
   ]
  },
  {
   "cell_type": "markdown",
   "id": "85f462dd",
   "metadata": {},
   "source": [
    "### Write a program in Python to check if a number is binary?"
   ]
  },
  {
   "cell_type": "code",
   "execution_count": 65,
   "id": "c7945620",
   "metadata": {},
   "outputs": [],
   "source": [
    "def is_binary(number_str):\n",
    "    # Loop through each character in the string\n",
    "    for digit in number_str:\n",
    "        if digit not in ('0', '1'):\n",
    "            return \"Not Binary\"  # If any character is not '0' or '1', it's not binary\n",
    "    return \"Binary\""
   ]
  },
  {
   "cell_type": "code",
   "execution_count": 67,
   "id": "3e3f6f0c",
   "metadata": {},
   "outputs": [
    {
     "data": {
      "text/plain": [
       "'Binary'"
      ]
     },
     "execution_count": 67,
     "metadata": {},
     "output_type": "execute_result"
    }
   ],
   "source": [
    "is_binary(\"100\")"
   ]
  },
  {
   "cell_type": "code",
   "execution_count": 68,
   "id": "dd107391",
   "metadata": {},
   "outputs": [
    {
     "data": {
      "text/plain": [
       "'Not Binary'"
      ]
     },
     "execution_count": 68,
     "metadata": {},
     "output_type": "execute_result"
    }
   ],
   "source": [
    "is_binary(\"102\")"
   ]
  },
  {
   "cell_type": "markdown",
   "id": "3133b6e0",
   "metadata": {},
   "source": [
    "### Write a program in Python to find sum of digits of a number"
   ]
  },
  {
   "cell_type": "code",
   "execution_count": 3,
   "id": "ae20e931",
   "metadata": {},
   "outputs": [],
   "source": [
    "def sumd(x):\n",
    "    sum=0\n",
    "    x  = str(x)\n",
    "    for i in x:\n",
    "        sum+= int(i)\n",
    "    return sum"
   ]
  },
  {
   "cell_type": "code",
   "execution_count": 4,
   "id": "dd66bf06",
   "metadata": {},
   "outputs": [
    {
     "data": {
      "text/plain": [
       "5"
      ]
     },
     "execution_count": 4,
     "metadata": {},
     "output_type": "execute_result"
    }
   ],
   "source": [
    "sumd(23)"
   ]
  },
  {
   "cell_type": "code",
   "execution_count": 5,
   "id": "d2b68d25",
   "metadata": {},
   "outputs": [],
   "source": [
    "# 2nd approch"
   ]
  },
  {
   "cell_type": "code",
   "execution_count": 10,
   "id": "8eba1a82",
   "metadata": {},
   "outputs": [],
   "source": [
    "def sumd1(x):\n",
    "    sum=0\n",
    "    while x>0:\n",
    "        n = x%10\n",
    "        sum+=n\n",
    "        x//=10\n",
    "    return sum"
   ]
  },
  {
   "cell_type": "code",
   "execution_count": 12,
   "id": "d34ee763",
   "metadata": {},
   "outputs": [
    {
     "data": {
      "text/plain": [
       "5"
      ]
     },
     "execution_count": 12,
     "metadata": {},
     "output_type": "execute_result"
    }
   ],
   "source": [
    "sumd1(23)"
   ]
  },
  {
   "cell_type": "markdown",
   "id": "4252a58f",
   "metadata": {},
   "source": [
    "### Write a program in Python to swap two numbers without using third variable?"
   ]
  },
  {
   "cell_type": "code",
   "execution_count": 30,
   "id": "bcd2d465",
   "metadata": {},
   "outputs": [],
   "source": [
    "def swap(x,y):\n",
    " \n",
    "    x = str(x)\n",
    "    y = str(y)\n",
    "    l1 = len(x)\n",
    "    l2 = len(y)\n",
    "    x = x+y\n",
    "    y =x[0:l1]\n",
    "    x= x[l1:]\n",
    "    return int(x),int(y)"
   ]
  },
  {
   "cell_type": "code",
   "execution_count": 31,
   "id": "0ee3897e",
   "metadata": {},
   "outputs": [
    {
     "data": {
      "text/plain": [
       "(2, 3)"
      ]
     },
     "execution_count": 31,
     "metadata": {},
     "output_type": "execute_result"
    }
   ],
   "source": [
    "swap(3,2)"
   ]
  },
  {
   "cell_type": "code",
   "execution_count": 32,
   "id": "a2228f89",
   "metadata": {},
   "outputs": [
    {
     "data": {
      "text/plain": [
       "(17, 52)"
      ]
     },
     "execution_count": 32,
     "metadata": {},
     "output_type": "execute_result"
    }
   ],
   "source": [
    "swap(52,17)"
   ]
  },
  {
   "cell_type": "code",
   "execution_count": 33,
   "id": "fb6a8a72",
   "metadata": {},
   "outputs": [
    {
     "data": {
      "text/plain": [
       "(108, 104)"
      ]
     },
     "execution_count": 33,
     "metadata": {},
     "output_type": "execute_result"
    }
   ],
   "source": [
    "swap(104,108)"
   ]
  },
  {
   "cell_type": "code",
   "execution_count": 18,
   "id": "989c25e3",
   "metadata": {},
   "outputs": [],
   "source": [
    "# 2nd approch \n",
    "def swap1(a,b):\n",
    "\n",
    "    a=a-b\n",
    "    b=a+b\n",
    "    a=b-a\n",
    "    return a,b\n"
   ]
  },
  {
   "cell_type": "code",
   "execution_count": 19,
   "id": "9138aa53",
   "metadata": {},
   "outputs": [
    {
     "data": {
      "text/plain": [
       "(3, 2)"
      ]
     },
     "execution_count": 19,
     "metadata": {},
     "output_type": "execute_result"
    }
   ],
   "source": [
    "swap1(2,3)"
   ]
  },
  {
   "cell_type": "code",
   "execution_count": 37,
   "id": "4a88b48b",
   "metadata": {},
   "outputs": [
    {
     "data": {
      "text/plain": [
       "(523, 149)"
      ]
     },
     "execution_count": 37,
     "metadata": {},
     "output_type": "execute_result"
    }
   ],
   "source": [
    "swap1(149,523)"
   ]
  },
  {
   "cell_type": "code",
   "execution_count": 38,
   "id": "7573e219",
   "metadata": {},
   "outputs": [
    {
     "data": {
      "text/plain": [
       "(142, 23)"
      ]
     },
     "execution_count": 38,
     "metadata": {},
     "output_type": "execute_result"
    }
   ],
   "source": [
    "swap1(23,142)"
   ]
  },
  {
   "cell_type": "code",
   "execution_count": 40,
   "id": "f118a86b",
   "metadata": {},
   "outputs": [],
   "source": [
    "# 3rd approch"
   ]
  },
  {
   "cell_type": "code",
   "execution_count": 41,
   "id": "11067243",
   "metadata": {},
   "outputs": [],
   "source": [
    "def swap2(y,x):\n",
    "    return x,y"
   ]
  },
  {
   "cell_type": "code",
   "execution_count": 42,
   "id": "d5b9cfea",
   "metadata": {},
   "outputs": [
    {
     "data": {
      "text/plain": [
       "(42, 23)"
      ]
     },
     "execution_count": 42,
     "metadata": {},
     "output_type": "execute_result"
    }
   ],
   "source": [
    "swap2(23,42)"
   ]
  },
  {
   "cell_type": "markdown",
   "id": "18ac1122",
   "metadata": {},
   "source": [
    "### Write a program in Python to find prime factors of a given integer."
   ]
  },
  {
   "cell_type": "code",
   "execution_count": 16,
   "id": "ace3c1a7",
   "metadata": {},
   "outputs": [],
   "source": [
    "def pfac(n):\n",
    "    i =2 \n",
    "    fact = []\n",
    "    while i*i <=n:\n",
    "        if n%i:\n",
    "            i+=1\n",
    "        else:\n",
    "            n//=i\n",
    "            fact.append(i)\n",
    "    if i>1:\n",
    "        fact.append(i)\n",
    "    return fact\n"
   ]
  },
  {
   "cell_type": "code",
   "execution_count": 17,
   "id": "16182ed6",
   "metadata": {},
   "outputs": [
    {
     "data": {
      "text/plain": [
       "[2, 2, 2]"
      ]
     },
     "execution_count": 17,
     "metadata": {},
     "output_type": "execute_result"
    }
   ],
   "source": [
    "pfac(12)"
   ]
  },
  {
   "cell_type": "code",
   "execution_count": 20,
   "id": "cb893ce3",
   "metadata": {},
   "outputs": [
    {
     "data": {
      "text/plain": [
       "[2, 5, 5]"
      ]
     },
     "execution_count": 20,
     "metadata": {},
     "output_type": "execute_result"
    }
   ],
   "source": [
    "pfac(50)"
   ]
  },
  {
   "cell_type": "markdown",
   "id": "9ff925f7",
   "metadata": {},
   "source": [
    "### Write a program in Python to find given number is perfect or not"
   ]
  },
  {
   "cell_type": "code",
   "execution_count": 23,
   "id": "2712a8ac",
   "metadata": {},
   "outputs": [],
   "source": [
    "def per(x):\n",
    "    s = 0\n",
    "    for i in range(1,x):\n",
    "        if x%i == 0:\n",
    "            s+=i\n",
    "    if s == x:\n",
    "        return \"Perfect\"\n",
    "    else:\n",
    "        return \"Not Perfect\"\n",
    "    "
   ]
  },
  {
   "cell_type": "code",
   "execution_count": 24,
   "id": "d8b808d1",
   "metadata": {},
   "outputs": [
    {
     "data": {
      "text/plain": [
       "'Perfect'"
      ]
     },
     "execution_count": 24,
     "metadata": {},
     "output_type": "execute_result"
    }
   ],
   "source": [
    "per(6)"
   ]
  },
  {
   "cell_type": "code",
   "execution_count": 25,
   "id": "89dfbdf7",
   "metadata": {},
   "outputs": [
    {
     "data": {
      "text/plain": [
       "'Not Perfect'"
      ]
     },
     "execution_count": 25,
     "metadata": {},
     "output_type": "execute_result"
    }
   ],
   "source": [
    "per(5)"
   ]
  },
  {
   "cell_type": "code",
   "execution_count": 26,
   "id": "36117e93",
   "metadata": {},
   "outputs": [
    {
     "data": {
      "text/plain": [
       "'Perfect'"
      ]
     },
     "execution_count": 26,
     "metadata": {},
     "output_type": "execute_result"
    }
   ],
   "source": [
    "per(28)"
   ]
  },
  {
   "cell_type": "markdown",
   "id": "f1214a66",
   "metadata": {},
   "source": [
    "### Find Factorial"
   ]
  },
  {
   "cell_type": "code",
   "execution_count": 34,
   "id": "ab41b59b",
   "metadata": {},
   "outputs": [],
   "source": [
    "def fact(x):\n",
    "    fact = 1\n",
    "    for i in range(1,x+1):\n",
    "        fact*=i\n",
    "    return fact\n",
    "        "
   ]
  },
  {
   "cell_type": "code",
   "execution_count": 36,
   "id": "9b73a11c",
   "metadata": {},
   "outputs": [
    {
     "data": {
      "text/plain": [
       "24"
      ]
     },
     "execution_count": 36,
     "metadata": {},
     "output_type": "execute_result"
    }
   ],
   "source": [
    "fact(4)"
   ]
  },
  {
   "cell_type": "code",
   "execution_count": 37,
   "id": "b5ff0b5a",
   "metadata": {},
   "outputs": [
    {
     "data": {
      "text/plain": [
       "120"
      ]
     },
     "execution_count": 37,
     "metadata": {},
     "output_type": "execute_result"
    }
   ],
   "source": [
    "fact(5)"
   ]
  },
  {
   "cell_type": "markdown",
   "id": "3424fcc4",
   "metadata": {},
   "source": [
    "### Python Program to print Prime Number in a given range."
   ]
  },
  {
   "cell_type": "code",
   "execution_count": null,
   "id": "f068bbd0",
   "metadata": {},
   "outputs": [],
   "source": [
    "# In Python, the else clause in a for loop can be used \n",
    "#to execute a block of code when the loop completes normally, i.e., without encountering a break statement. "
   ]
  },
  {
   "cell_type": "code",
   "execution_count": 1,
   "id": "fea47b28",
   "metadata": {},
   "outputs": [],
   "source": [
    "def p_range(x):\n",
    "    lst = []\n",
    "    for i in range(2,x+1):\n",
    "        for j in range(2,i):\n",
    "            if i % j == 0:\n",
    "                break\n",
    "        else:\n",
    "            lst.append(i)\n",
    "    return lst"
   ]
  },
  {
   "cell_type": "code",
   "execution_count": 7,
   "id": "a3b6384d",
   "metadata": {},
   "outputs": [
    {
     "data": {
      "text/plain": [
       "[2, 3]"
      ]
     },
     "execution_count": 7,
     "metadata": {},
     "output_type": "execute_result"
    }
   ],
   "source": [
    "p_range(3)"
   ]
  },
  {
   "cell_type": "code",
   "execution_count": 6,
   "id": "a7af9fdb",
   "metadata": {},
   "outputs": [],
   "source": [
    "for i in range(2,2):\n",
    "    print(i)"
   ]
  },
  {
   "cell_type": "markdown",
   "id": "ca1d8f37",
   "metadata": {},
   "source": [
    "### Python Program to calculate the power without using POW function"
   ]
  },
  {
   "cell_type": "code",
   "execution_count": 8,
   "id": "dc993368",
   "metadata": {},
   "outputs": [],
   "source": [
    "#2nd approch\n",
    "\n",
    "def p(num,power):\n",
    "    \n",
    "    result = 1\n",
    "    for i in range(power):\n",
    "        result*=num\n",
    "    return result\n"
   ]
  },
  {
   "cell_type": "code",
   "execution_count": 9,
   "id": "f0d87513",
   "metadata": {},
   "outputs": [
    {
     "data": {
      "text/plain": [
       "625"
      ]
     },
     "execution_count": 9,
     "metadata": {},
     "output_type": "execute_result"
    }
   ],
   "source": [
    "p(5,4)"
   ]
  },
  {
   "cell_type": "code",
   "execution_count": 16,
   "id": "cb1328e8",
   "metadata": {},
   "outputs": [
    {
     "data": {
      "text/plain": [
       "1"
      ]
     },
     "execution_count": 16,
     "metadata": {},
     "output_type": "execute_result"
    }
   ],
   "source": [
    "p(5,0)"
   ]
  },
  {
   "cell_type": "markdown",
   "id": "2c287c36",
   "metadata": {},
   "source": [
    "### Python Program to Convert Decimal Number into Binary."
   ]
  },
  {
   "cell_type": "code",
   "execution_count": 17,
   "id": "0b740a97",
   "metadata": {},
   "outputs": [],
   "source": [
    "def bi(num):\n",
    "    return bin(num)"
   ]
  },
  {
   "cell_type": "code",
   "execution_count": 18,
   "id": "5c5b8f4e",
   "metadata": {},
   "outputs": [],
   "source": [
    "x= bi(10)"
   ]
  },
  {
   "cell_type": "code",
   "execution_count": 19,
   "id": "3af5a129",
   "metadata": {},
   "outputs": [
    {
     "data": {
      "text/plain": [
       "'0b1010'"
      ]
     },
     "execution_count": 19,
     "metadata": {},
     "output_type": "execute_result"
    }
   ],
   "source": [
    "x"
   ]
  },
  {
   "cell_type": "code",
   "execution_count": 11,
   "id": "b3f84009",
   "metadata": {},
   "outputs": [],
   "source": [
    "#2nd approch\n",
    "\n",
    "def bi(x):\n",
    "    bindigi = \"\"\n",
    "    while x>0:\n",
    "        r = x%2\n",
    "        bindigi+=str(r)\n",
    "        x //=2\n",
    "    return bindigi[::-1]"
   ]
  },
  {
   "cell_type": "code",
   "execution_count": 12,
   "id": "3ea3559d",
   "metadata": {},
   "outputs": [
    {
     "data": {
      "text/plain": [
       "'10100'"
      ]
     },
     "execution_count": 12,
     "metadata": {},
     "output_type": "execute_result"
    }
   ],
   "source": [
    "bi(20)"
   ]
  },
  {
   "cell_type": "markdown",
   "id": "18c4ac28",
   "metadata": {},
   "source": [
    "### Python Program to check the given year is a leap year or not."
   ]
  },
  {
   "cell_type": "code",
   "execution_count": 35,
   "id": "d43eabe7",
   "metadata": {},
   "outputs": [],
   "source": [
    "#The year must be evenly divisible by 4.\n",
    "# If the year is divisible by 100, then it must also be divisible by 400.\n",
    "\n",
    "def leap(x):\n",
    "    if x%4 ==0:\n",
    "        if x% 100 ==0:\n",
    "            if x%400 ==0:\n",
    "                return \"Its a leap year\"\n",
    "            else:\n",
    "                return \"Its not a leap year\"\n",
    "        else:\n",
    "            return \"Its  a leap year\"\n",
    "    else: \n",
    "        return \"Its not a leap year\""
   ]
  },
  {
   "cell_type": "code",
   "execution_count": 36,
   "id": "c637a8ee",
   "metadata": {},
   "outputs": [
    {
     "data": {
      "text/plain": [
       "'Its a leap year'"
      ]
     },
     "execution_count": 36,
     "metadata": {},
     "output_type": "execute_result"
    }
   ],
   "source": [
    "leap(2000)"
   ]
  },
  {
   "cell_type": "code",
   "execution_count": 37,
   "id": "eaa93338",
   "metadata": {},
   "outputs": [
    {
     "data": {
      "text/plain": [
       "'Its not a leap year'"
      ]
     },
     "execution_count": 37,
     "metadata": {},
     "output_type": "execute_result"
    }
   ],
   "source": [
    "leap(2023)"
   ]
  },
  {
   "cell_type": "code",
   "execution_count": 1,
   "id": "1ef2dd1f",
   "metadata": {},
   "outputs": [],
   "source": [
    "# what do you mean by list comprhension in python\n",
    "# list comprehension is the short and elegant way to define a list from the existing list"
   ]
  },
  {
   "cell_type": "code",
   "execution_count": 65,
   "id": "e5d90fc7",
   "metadata": {},
   "outputs": [
    {
     "data": {
      "text/plain": [
       "[2, 4, 6, 8]"
      ]
     },
     "execution_count": 65,
     "metadata": {},
     "output_type": "execute_result"
    }
   ],
   "source": [
    "l1 = [1,2,3,4,5,6,7,8]\n",
    "l2 = [i for i in l1 if i%2==0]\n",
    "l2"
   ]
  },
  {
   "cell_type": "code",
   "execution_count": 73,
   "id": "639df58e",
   "metadata": {},
   "outputs": [
    {
     "data": {
      "text/plain": [
       "[2, 2, 4, 4, 6, 6, 8, 8]"
      ]
     },
     "execution_count": 73,
     "metadata": {},
     "output_type": "execute_result"
    }
   ],
   "source": [
    "l_st = [i if i%2 ==0 else i+1  for i in l1 ]\n",
    "l_st"
   ]
  },
  {
   "cell_type": "code",
   "execution_count": 66,
   "id": "8aa3a830",
   "metadata": {},
   "outputs": [],
   "source": [
    "#find the square of each number in the list using apply"
   ]
  },
  {
   "cell_type": "code",
   "execution_count": 67,
   "id": "6c454ad3",
   "metadata": {},
   "outputs": [
    {
     "data": {
      "text/plain": [
       "[1, 2, 3, 4, 5, 6, 7, 8]"
      ]
     },
     "execution_count": 67,
     "metadata": {},
     "output_type": "execute_result"
    }
   ],
   "source": [
    "l1"
   ]
  },
  {
   "cell_type": "code",
   "execution_count": 68,
   "id": "b9c2bdb5",
   "metadata": {},
   "outputs": [],
   "source": [
    "l2  = list(map(lambda x:x*x,l1))"
   ]
  },
  {
   "cell_type": "code",
   "execution_count": null,
   "id": "c14f5ea5",
   "metadata": {},
   "outputs": [],
   "source": [
    "# show use of eval\n",
    "\n",
    "# eval is used to determine the type of input(default python takes string)"
   ]
  },
  {
   "cell_type": "code",
   "execution_count": 26,
   "id": "95037991",
   "metadata": {},
   "outputs": [
    {
     "name": "stdout",
     "output_type": "stream",
     "text": [
      "enter 100\n"
     ]
    }
   ],
   "source": [
    "s = eval(input(\"enter \"))"
   ]
  },
  {
   "cell_type": "code",
   "execution_count": 27,
   "id": "648bb713",
   "metadata": {},
   "outputs": [
    {
     "data": {
      "text/plain": [
       "int"
      ]
     },
     "execution_count": 27,
     "metadata": {},
     "output_type": "execute_result"
    }
   ],
   "source": [
    "type(s)"
   ]
  },
  {
   "cell_type": "code",
   "execution_count": 28,
   "id": "e996126c",
   "metadata": {},
   "outputs": [
    {
     "name": "stdout",
     "output_type": "stream",
     "text": [
      "enter 100.23\n"
     ]
    }
   ],
   "source": [
    "s = eval(input(\"enter \"))\n"
   ]
  },
  {
   "cell_type": "code",
   "execution_count": 29,
   "id": "3963e9ed",
   "metadata": {},
   "outputs": [
    {
     "data": {
      "text/plain": [
       "float"
      ]
     },
     "execution_count": 29,
     "metadata": {},
     "output_type": "execute_result"
    }
   ],
   "source": [
    "type(s)"
   ]
  },
  {
   "cell_type": "code",
   "execution_count": null,
   "id": "25a61410",
   "metadata": {},
   "outputs": [],
   "source": [
    "# map : map means maps each element in the list to the condition it doesnot filter the list it return all element value\n",
    "# wrt to that function"
   ]
  },
  {
   "cell_type": "code",
   "execution_count": 30,
   "id": "dae684e5",
   "metadata": {},
   "outputs": [],
   "source": [
    "t1 = tuple(l1)"
   ]
  },
  {
   "cell_type": "code",
   "execution_count": 31,
   "id": "62e04a05",
   "metadata": {},
   "outputs": [
    {
     "data": {
      "text/plain": [
       "(1, 2, 3, 4, 5, 6, 7, 8)"
      ]
     },
     "execution_count": 31,
     "metadata": {},
     "output_type": "execute_result"
    }
   ],
   "source": [
    "t1"
   ]
  },
  {
   "cell_type": "code",
   "execution_count": 44,
   "id": "3ac567ba",
   "metadata": {},
   "outputs": [],
   "source": [
    "t2 = tuple(map(lambda x:x%2==0 ,t1))"
   ]
  },
  {
   "cell_type": "code",
   "execution_count": 45,
   "id": "32283d47",
   "metadata": {},
   "outputs": [
    {
     "data": {
      "text/plain": [
       "(False, True, False, True, False, True, False, True)"
      ]
     },
     "execution_count": 45,
     "metadata": {},
     "output_type": "execute_result"
    }
   ],
   "source": [
    "t2"
   ]
  },
  {
   "cell_type": "code",
   "execution_count": null,
   "id": "36a7ef7d",
   "metadata": {},
   "outputs": [],
   "source": [
    "# filter : it filter the list based on the particular condition"
   ]
  },
  {
   "cell_type": "code",
   "execution_count": 42,
   "id": "2f5cc22a",
   "metadata": {},
   "outputs": [],
   "source": [
    "t3 = tuple(filter(lambda x: x%2==0 ,t1)) # the same u can achieve with list comprehension but for list only not for tuple\n",
    "# for tuple u have to use  filter\n"
   ]
  },
  {
   "cell_type": "code",
   "execution_count": 43,
   "id": "33ba0058",
   "metadata": {},
   "outputs": [
    {
     "data": {
      "text/plain": [
       "(2, 4, 6, 8)"
      ]
     },
     "execution_count": 43,
     "metadata": {},
     "output_type": "execute_result"
    }
   ],
   "source": [
    "t3"
   ]
  },
  {
   "cell_type": "code",
   "execution_count": null,
   "id": "70c9f999",
   "metadata": {},
   "outputs": [],
   "source": [
    "#In summary, map applies a function to each element and returns the transformed values in an \n",
    "#iterable, while filter applies a function to each element and returns only the elements that satisfy a specific condition"
   ]
  },
  {
   "cell_type": "code",
   "execution_count": 48,
   "id": "0cc73f08",
   "metadata": {},
   "outputs": [
    {
     "data": {
      "text/plain": [
       "[1, 2, 3, 4, 5, 6, 7, 8]"
      ]
     },
     "execution_count": 48,
     "metadata": {},
     "output_type": "execute_result"
    }
   ],
   "source": [
    "l1"
   ]
  },
  {
   "cell_type": "code",
   "execution_count": 52,
   "id": "be25a70b",
   "metadata": {},
   "outputs": [
    {
     "data": {
      "text/plain": [
       "[2, 4, 6, 8]"
      ]
     },
     "execution_count": 52,
     "metadata": {},
     "output_type": "execute_result"
    }
   ],
   "source": [
    "l1= [i for i in l1 if i %2 ==0]\n",
    "l1"
   ]
  },
  {
   "cell_type": "code",
   "execution_count": null,
   "id": "1b5c9e31",
   "metadata": {},
   "outputs": [],
   "source": []
  },
  {
   "cell_type": "code",
   "execution_count": null,
   "id": "f95f22f3",
   "metadata": {},
   "outputs": [],
   "source": [
    "#append and extend in list"
   ]
  },
  {
   "cell_type": "code",
   "execution_count": 53,
   "id": "136ac163",
   "metadata": {},
   "outputs": [
    {
     "data": {
      "text/plain": [
       "[2, 4, 6, 8]"
      ]
     },
     "execution_count": 53,
     "metadata": {},
     "output_type": "execute_result"
    }
   ],
   "source": [
    "l1"
   ]
  },
  {
   "cell_type": "code",
   "execution_count": 54,
   "id": "c48a853c",
   "metadata": {},
   "outputs": [],
   "source": [
    "l1.append(12)"
   ]
  },
  {
   "cell_type": "code",
   "execution_count": 55,
   "id": "95ffba66",
   "metadata": {},
   "outputs": [
    {
     "data": {
      "text/plain": [
       "[2, 4, 6, 8, 12]"
      ]
     },
     "execution_count": 55,
     "metadata": {},
     "output_type": "execute_result"
    }
   ],
   "source": [
    "l1"
   ]
  },
  {
   "cell_type": "code",
   "execution_count": 57,
   "id": "bbf89f94",
   "metadata": {},
   "outputs": [
    {
     "data": {
      "text/plain": [
       "[2, 4, 6, 8, 12, [12, 13], [12, 13]]"
      ]
     },
     "execution_count": 57,
     "metadata": {},
     "output_type": "execute_result"
    }
   ],
   "source": [
    "# i want to add 12 and 13 in the list in one go\n",
    "l1.append([12,13])\n",
    "l1\n"
   ]
  },
  {
   "cell_type": "code",
   "execution_count": null,
   "id": "733186a6",
   "metadata": {},
   "outputs": [],
   "source": [
    "# above ans is wrong"
   ]
  },
  {
   "cell_type": "code",
   "execution_count": 58,
   "id": "0d5d8c13",
   "metadata": {},
   "outputs": [
    {
     "data": {
      "text/plain": [
       "[2, 4, 6, 8, 12, [12, 13], [12, 13], 12, 13, 14]"
      ]
     },
     "execution_count": 58,
     "metadata": {},
     "output_type": "execute_result"
    }
   ],
   "source": [
    "l1.extend([12,13,14]) # to add morre than one element we use extend\n",
    "l1"
   ]
  },
  {
   "cell_type": "code",
   "execution_count": 60,
   "id": "957b45f9",
   "metadata": {},
   "outputs": [
    {
     "data": {
      "text/html": [
       "<div>\n",
       "<style scoped>\n",
       "    .dataframe tbody tr th:only-of-type {\n",
       "        vertical-align: middle;\n",
       "    }\n",
       "\n",
       "    .dataframe tbody tr th {\n",
       "        vertical-align: top;\n",
       "    }\n",
       "\n",
       "    .dataframe thead th {\n",
       "        text-align: right;\n",
       "    }\n",
       "</style>\n",
       "<table border=\"1\" class=\"dataframe\">\n",
       "  <thead>\n",
       "    <tr style=\"text-align: right;\">\n",
       "      <th></th>\n",
       "      <th>car</th>\n",
       "      <th>Mileage</th>\n",
       "    </tr>\n",
       "  </thead>\n",
       "  <tbody>\n",
       "    <tr>\n",
       "      <th>0</th>\n",
       "      <td>Altroz</td>\n",
       "      <td>18</td>\n",
       "    </tr>\n",
       "    <tr>\n",
       "      <th>1</th>\n",
       "      <td>Nexon</td>\n",
       "      <td>15</td>\n",
       "    </tr>\n",
       "    <tr>\n",
       "      <th>2</th>\n",
       "      <td>Harier</td>\n",
       "      <td>10</td>\n",
       "    </tr>\n",
       "    <tr>\n",
       "      <th>3</th>\n",
       "      <td>Safari</td>\n",
       "      <td>8</td>\n",
       "    </tr>\n",
       "    <tr>\n",
       "      <th>4</th>\n",
       "      <td>Punch</td>\n",
       "      <td>24</td>\n",
       "    </tr>\n",
       "  </tbody>\n",
       "</table>\n",
       "</div>"
      ],
      "text/plain": [
       "      car  Mileage\n",
       "0  Altroz       18\n",
       "1   Nexon       15\n",
       "2  Harier       10\n",
       "3  Safari        8\n",
       "4   Punch       24"
      ]
     },
     "execution_count": 60,
     "metadata": {},
     "output_type": "execute_result"
    }
   ],
   "source": [
    "import pandas as pd\n",
    "data = {'car':['Altroz','Nexon','Harier','Safari','Punch'],\n",
    "        'Mileage':[18,15,10,8,24]}\n",
    "df = pd.DataFrame(data)\n",
    "df"
   ]
  },
  {
   "cell_type": "code",
   "execution_count": null,
   "id": "a13ef100",
   "metadata": {},
   "outputs": [],
   "source": [
    "# create a col which show low mileage if mileage less than 10 and show high if greater than 10"
   ]
  },
  {
   "cell_type": "code",
   "execution_count": 62,
   "id": "26e40779",
   "metadata": {},
   "outputs": [
    {
     "data": {
      "text/html": [
       "<div>\n",
       "<style scoped>\n",
       "    .dataframe tbody tr th:only-of-type {\n",
       "        vertical-align: middle;\n",
       "    }\n",
       "\n",
       "    .dataframe tbody tr th {\n",
       "        vertical-align: top;\n",
       "    }\n",
       "\n",
       "    .dataframe thead th {\n",
       "        text-align: right;\n",
       "    }\n",
       "</style>\n",
       "<table border=\"1\" class=\"dataframe\">\n",
       "  <thead>\n",
       "    <tr style=\"text-align: right;\">\n",
       "      <th></th>\n",
       "      <th>car</th>\n",
       "      <th>Mileage</th>\n",
       "      <th>mlg</th>\n",
       "    </tr>\n",
       "  </thead>\n",
       "  <tbody>\n",
       "    <tr>\n",
       "      <th>0</th>\n",
       "      <td>Altroz</td>\n",
       "      <td>18</td>\n",
       "      <td>High</td>\n",
       "    </tr>\n",
       "    <tr>\n",
       "      <th>1</th>\n",
       "      <td>Nexon</td>\n",
       "      <td>15</td>\n",
       "      <td>High</td>\n",
       "    </tr>\n",
       "    <tr>\n",
       "      <th>2</th>\n",
       "      <td>Harier</td>\n",
       "      <td>10</td>\n",
       "      <td>low</td>\n",
       "    </tr>\n",
       "    <tr>\n",
       "      <th>3</th>\n",
       "      <td>Safari</td>\n",
       "      <td>8</td>\n",
       "      <td>low</td>\n",
       "    </tr>\n",
       "    <tr>\n",
       "      <th>4</th>\n",
       "      <td>Punch</td>\n",
       "      <td>24</td>\n",
       "      <td>High</td>\n",
       "    </tr>\n",
       "  </tbody>\n",
       "</table>\n",
       "</div>"
      ],
      "text/plain": [
       "      car  Mileage   mlg\n",
       "0  Altroz       18  High\n",
       "1   Nexon       15  High\n",
       "2  Harier       10   low\n",
       "3  Safari        8   low\n",
       "4   Punch       24  High"
      ]
     },
     "execution_count": 62,
     "metadata": {},
     "output_type": "execute_result"
    }
   ],
   "source": [
    "df['mlg']= df['Mileage'].apply(lambda x:\"low\" if x<=10 else \"High\")\n",
    "df"
   ]
  },
  {
   "cell_type": "code",
   "execution_count": null,
   "id": "dcfee4cd",
   "metadata": {},
   "outputs": [],
   "source": [
    "# data frame : apply \n",
    "#list : map and filter"
   ]
  },
  {
   "cell_type": "code",
   "execution_count": 2,
   "id": "bb242d64",
   "metadata": {},
   "outputs": [
    {
     "data": {
      "text/plain": [
       "[0, 1, 1, 2, 3, 5]"
      ]
     },
     "execution_count": 2,
     "metadata": {},
     "output_type": "execute_result"
    }
   ],
   "source": [
    "# factorial of a number\n",
    "\n",
    "\n",
    "lst = [0,1]\n",
    "for i in range(1,5):\n",
    "    n = lst[i]+lst[i-1]\n",
    "    lst.append(n)\n",
    "lst\n",
    "    \n",
    "    \n"
   ]
  },
  {
   "cell_type": "code",
   "execution_count": 12,
   "id": "b71fa4e4",
   "metadata": {},
   "outputs": [
    {
     "data": {
      "text/plain": [
       "4"
      ]
     },
     "execution_count": 12,
     "metadata": {},
     "output_type": "execute_result"
    }
   ],
   "source": [
    "# second highest\n",
    "lst = [4,2,4,3,2,4,1,5]\n",
    "lst = list(set(lst) )# converting to set for removing duplicated values\n",
    "lst.sort()\n",
    "lst[-2]\n",
    "    "
   ]
  },
  {
   "cell_type": "code",
   "execution_count": 16,
   "id": "cc57b751",
   "metadata": {},
   "outputs": [
    {
     "name": "stdout",
     "output_type": "stream",
     "text": [
      "The string Arun is not plaindrome\n",
      "The string sas is plaindrome\n",
      "The string pop is plaindrome\n",
      "The string pizza is not plaindrome\n"
     ]
    }
   ],
   "source": [
    "lst = ['Arun','sas','pop','pizza']\n",
    "\n",
    "def pal(lst):\n",
    "    for i in lst:\n",
    "        if i == i[::-1]:\n",
    "            print(f\"The string {i} is plaindrome\")\n",
    "        else:\n",
    "            print(f\"The string {i} is not plaindrome\")\n",
    "            "
   ]
  },
  {
   "cell_type": "code",
   "execution_count": 43,
   "id": "9d91cb07",
   "metadata": {},
   "outputs": [],
   "source": [
    "lst = ['Arun','sas','pop','pizza']\n",
    "def pal(text):\n",
    "    return text == text[::-1]\n",
    "   "
   ]
  },
  {
   "cell_type": "code",
   "execution_count": 29,
   "id": "80c6009b",
   "metadata": {},
   "outputs": [],
   "source": [
    "lst = list(filter(pal,lst))"
   ]
  },
  {
   "cell_type": "code",
   "execution_count": 30,
   "id": "f756a5ef",
   "metadata": {},
   "outputs": [
    {
     "data": {
      "text/plain": [
       "['sas', 'pop']"
      ]
     },
     "execution_count": 30,
     "metadata": {},
     "output_type": "execute_result"
    }
   ],
   "source": [
    "lst"
   ]
  },
  {
   "cell_type": "code",
   "execution_count": 44,
   "id": "f90fe781",
   "metadata": {},
   "outputs": [],
   "source": [
    "lst = list(map(pal,lst))\n"
   ]
  },
  {
   "cell_type": "code",
   "execution_count": 45,
   "id": "8b1f0960",
   "metadata": {},
   "outputs": [
    {
     "data": {
      "text/plain": [
       "[False, True, True, False]"
      ]
     },
     "execution_count": 45,
     "metadata": {},
     "output_type": "execute_result"
    }
   ],
   "source": [
    "lst"
   ]
  },
  {
   "cell_type": "code",
   "execution_count": null,
   "id": "8e664768",
   "metadata": {},
   "outputs": [],
   "source": []
  },
  {
   "cell_type": "code",
   "execution_count": null,
   "id": "f24a3180",
   "metadata": {},
   "outputs": [],
   "source": []
  },
  {
   "cell_type": "code",
   "execution_count": null,
   "id": "522193d1",
   "metadata": {},
   "outputs": [],
   "source": []
  },
  {
   "cell_type": "code",
   "execution_count": null,
   "id": "d0f536c1",
   "metadata": {},
   "outputs": [],
   "source": []
  },
  {
   "cell_type": "code",
   "execution_count": null,
   "id": "029eab09",
   "metadata": {},
   "outputs": [],
   "source": []
  },
  {
   "cell_type": "code",
   "execution_count": null,
   "id": "95731dff",
   "metadata": {},
   "outputs": [],
   "source": []
  },
  {
   "cell_type": "code",
   "execution_count": null,
   "id": "03718f1f",
   "metadata": {},
   "outputs": [],
   "source": []
  },
  {
   "cell_type": "code",
   "execution_count": null,
   "id": "87376a68",
   "metadata": {},
   "outputs": [],
   "source": []
  },
  {
   "cell_type": "code",
   "execution_count": null,
   "id": "41e107b7",
   "metadata": {},
   "outputs": [],
   "source": []
  },
  {
   "cell_type": "code",
   "execution_count": null,
   "id": "083a6d6e",
   "metadata": {},
   "outputs": [],
   "source": []
  },
  {
   "cell_type": "code",
   "execution_count": null,
   "id": "dea15270",
   "metadata": {},
   "outputs": [],
   "source": []
  },
  {
   "cell_type": "code",
   "execution_count": null,
   "id": "e4fc2773",
   "metadata": {},
   "outputs": [],
   "source": []
  },
  {
   "cell_type": "code",
   "execution_count": null,
   "id": "2a1f56f4",
   "metadata": {},
   "outputs": [],
   "source": []
  },
  {
   "cell_type": "code",
   "execution_count": null,
   "id": "3da9af6f",
   "metadata": {},
   "outputs": [],
   "source": []
  },
  {
   "cell_type": "code",
   "execution_count": null,
   "id": "4127ce10",
   "metadata": {},
   "outputs": [],
   "source": []
  },
  {
   "cell_type": "code",
   "execution_count": null,
   "id": "81afb6a4",
   "metadata": {},
   "outputs": [],
   "source": []
  },
  {
   "cell_type": "code",
   "execution_count": null,
   "id": "3ba3aec1",
   "metadata": {},
   "outputs": [],
   "source": []
  },
  {
   "cell_type": "code",
   "execution_count": null,
   "id": "2ef09529",
   "metadata": {},
   "outputs": [],
   "source": []
  },
  {
   "cell_type": "code",
   "execution_count": null,
   "id": "2a4a881d",
   "metadata": {},
   "outputs": [],
   "source": []
  },
  {
   "cell_type": "code",
   "execution_count": null,
   "id": "6c8a0e91",
   "metadata": {},
   "outputs": [],
   "source": []
  }
 ],
 "metadata": {
  "kernelspec": {
   "display_name": "Python 3 (ipykernel)",
   "language": "python",
   "name": "python3"
  },
  "language_info": {
   "codemirror_mode": {
    "name": "ipython",
    "version": 3
   },
   "file_extension": ".py",
   "mimetype": "text/x-python",
   "name": "python",
   "nbconvert_exporter": "python",
   "pygments_lexer": "ipython3",
   "version": "3.11.3"
  }
 },
 "nbformat": 4,
 "nbformat_minor": 5
}
