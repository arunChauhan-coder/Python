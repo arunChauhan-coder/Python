{
 "cells": [
  {
   "cell_type": "markdown",
   "id": "e68cc85b",
   "metadata": {},
   "source": [
    "### Have the function LetterCountI(str) take the str parameter being passed and return the first word with the greatest number of repeated letters"
   ]
  },
  {
   "cell_type": "code",
   "execution_count": null,
   "id": "13153f38",
   "metadata": {},
   "outputs": [],
   "source": [
    "# For example: \"Today, is the greatest day ever!\" should return greatest because it has 2 e's (and 2 t's) and it comes before ever\n",
    "#which also has 2 e's. If there are no words with repeating letters return -1. Words will be separated by spaces."
   ]
  },
  {
   "cell_type": "code",
   "execution_count": 11,
   "id": "f8683b41",
   "metadata": {},
   "outputs": [],
   "source": [
    "def LetterCount(st):\n",
    "    greatest = \"\"\n",
    "    greatest_count = 0\n",
    "    \n",
    "    l1 = st.split()\n",
    "    print(l1)\n",
    "    \n",
    "    def letter_count(word):\n",
    "        d = {}\n",
    "        c= 0\n",
    "        for letter in word:\n",
    "            try:\n",
    "                d[letter]+=1\n",
    "            except:\n",
    "                d[letter] = 1\n",
    "        for letter in d:\n",
    "            if d[letter]>1:\n",
    "                c += d[letter]\n",
    "        return c\n",
    "    \n",
    "    for word in l1:\n",
    "        cnt = letter_count(word)\n",
    "        if cnt > greatest_count:\n",
    "            greatest_count = cnt\n",
    "            greatest = word\n",
    "    return greatest,greatest_count\n",
    "    \n",
    "   \n",
    "        \n",
    "    "
   ]
  },
  {
   "cell_type": "code",
   "execution_count": 12,
   "id": "f75cf706",
   "metadata": {},
   "outputs": [
    {
     "name": "stdout",
     "output_type": "stream",
     "text": [
      "['Today,', 'is', 'the', 'greatest', 'day', 'ever!']\n"
     ]
    },
    {
     "data": {
      "text/plain": [
       "('greatest', 4)"
      ]
     },
     "execution_count": 12,
     "metadata": {},
     "output_type": "execute_result"
    }
   ],
   "source": [
    "LetterCount(\"Today, is the greatest day ever!\")"
   ]
  },
  {
   "cell_type": "markdown",
   "id": "b8f55eb4",
   "metadata": {},
   "source": [
    "### Have the function MeanMode(arr) take the array of numbers stored in arr and return 1 if the mode equals the mean, \n",
    "0 if they don't equal each other (ie. [5, 3, 3, 3, 1] should return 1 because the mode (3) equals the mean (3)). \n",
    "The array will not be empty, will only contain positive integers, and will not contain more than one mode."
   ]
  },
  {
   "cell_type": "code",
   "execution_count": 7,
   "id": "8fb0a747",
   "metadata": {},
   "outputs": [],
   "source": [
    "def MeanMode(arr):\n",
    "    max = 0\n",
    "    key = 0\n",
    "    d = {}\n",
    "    for i in arr:\n",
    "        try:\n",
    "            d[i]+=1\n",
    "        except:\n",
    "            d[i] = 1\n",
    "    #key  = max(d,key = d.get)\n",
    "    for i in d:\n",
    "        if d[i]>max:\n",
    "            max = d[i]\n",
    "            key = i\n",
    "            \n",
    "    mode = key\n",
    "    \n",
    "    mean = sum(arr)/len(arr)\n",
    "    if mode == mean:\n",
    "        return 1\n",
    "    else:\n",
    "        return 0"
   ]
  },
  {
   "cell_type": "code",
   "execution_count": 8,
   "id": "86f8553f",
   "metadata": {},
   "outputs": [
    {
     "data": {
      "text/plain": [
       "1"
      ]
     },
     "execution_count": 8,
     "metadata": {},
     "output_type": "execute_result"
    }
   ],
   "source": [
    "MeanMode([5, 3, 3, 3, 1])"
   ]
  },
  {
   "cell_type": "code",
   "execution_count": 9,
   "id": "ac2848c8",
   "metadata": {},
   "outputs": [
    {
     "data": {
      "text/plain": [
       "1"
      ]
     },
     "execution_count": 9,
     "metadata": {},
     "output_type": "execute_result"
    }
   ],
   "source": [
    "MeanMode([1, 2, 2, 3, 3, 3, 4, 4, 5])"
   ]
  },
  {
   "cell_type": "code",
   "execution_count": 10,
   "id": "bdd2b817",
   "metadata": {},
   "outputs": [
    {
     "data": {
      "text/plain": [
       "0"
      ]
     },
     "execution_count": 10,
     "metadata": {},
     "output_type": "execute_result"
    }
   ],
   "source": [
    "MeanMode([1,2,3])"
   ]
  },
  {
   "cell_type": "markdown",
   "id": "5af4ffe8",
   "metadata": {},
   "source": [
    "### Have the function PrimeMover(num) return the numth prime number. The range will be from 1 to 10^4. For example: if num is 16 the output should be 53 as 53 is the 16th prime number."
   ]
  },
  {
   "cell_type": "code",
   "execution_count": 3,
   "id": "6b25783b",
   "metadata": {},
   "outputs": [],
   "source": [
    "def PrimeMover(num):\n",
    "    lst = []\n",
    "    cnt = 0\n",
    "    m = 10**4\n",
    "    for i in range(2,m+1):\n",
    "        for j in range (i+1,m+1):\n",
    "            if i%j == 0:\n",
    "                cnt+=1\n",
    "        if cnt==0:\n",
    "            lst.append(i)\n",
    "        else:\n",
    "            cnt = 0\n",
    "      \n",
    "    return lst[num-1]"
   ]
  },
  {
   "cell_type": "code",
   "execution_count": 4,
   "id": "541dc58c",
   "metadata": {},
   "outputs": [
    {
     "data": {
      "text/plain": [
       "2"
      ]
     },
     "execution_count": 4,
     "metadata": {},
     "output_type": "execute_result"
    }
   ],
   "source": [
    "PrimeMover(1)"
   ]
  },
  {
   "cell_type": "code",
   "execution_count": 5,
   "id": "f1279b16",
   "metadata": {},
   "outputs": [
    {
     "data": {
      "text/plain": [
       "3"
      ]
     },
     "execution_count": 5,
     "metadata": {},
     "output_type": "execute_result"
    }
   ],
   "source": [
    "PrimeMover(2)"
   ]
  },
  {
   "cell_type": "code",
   "execution_count": 7,
   "id": "92a6202f",
   "metadata": {},
   "outputs": [],
   "source": [
    "def PrimeMover(num):\n",
    "    limit = 10**5  # Adjust the limit as needed to find the nth prime number\n",
    "    sieve = [True] * (limit + 1)\n",
    "    sieve[0] = sieve[1] = False\n",
    "    prime_count = 0\n",
    "\n",
    "    for current in range(2, limit + 1):\n",
    "        if sieve[current]:\n",
    "            prime_count += 1\n",
    "            if prime_count == num:\n",
    "                return current\n",
    "            for multiple in range(current * current, limit + 1, current):\n",
    "                sieve[multiple] = False\n",
    "\n",
    "# Example usage:\n",
    " # This will print the 10th prime number\n"
   ]
  },
  {
   "cell_type": "code",
   "execution_count": 8,
   "id": "33156049",
   "metadata": {},
   "outputs": [
    {
     "name": "stdout",
     "output_type": "stream",
     "text": [
      "3\n"
     ]
    }
   ],
   "source": [
    "nth_prime = PrimeMover(2)\n",
    "print(nth_prime) "
   ]
  },
  {
   "cell_type": "markdown",
   "id": "3443dc65",
   "metadata": {},
   "source": [
    "### Count num of digit in a integer"
   ]
  },
  {
   "cell_type": "code",
   "execution_count": 5,
   "id": "349c0dfb",
   "metadata": {},
   "outputs": [],
   "source": [
    "def count(x):\n",
    "    cnt = 0\n",
    "    while x>0:\n",
    "        x//=10\n",
    "        cnt+=1\n",
    "        \n",
    "    return cnt"
   ]
  },
  {
   "cell_type": "code",
   "execution_count": 6,
   "id": "306d29f1",
   "metadata": {},
   "outputs": [
    {
     "data": {
      "text/plain": [
       "3"
      ]
     },
     "execution_count": 6,
     "metadata": {},
     "output_type": "execute_result"
    }
   ],
   "source": [
    "count(231)"
   ]
  },
  {
   "cell_type": "code",
   "execution_count": 7,
   "id": "daa693e7",
   "metadata": {},
   "outputs": [],
   "source": [
    "# 2nd approch\n",
    "def count(x):\n",
    "    x = len(str(x))\n",
    "    return x"
   ]
  },
  {
   "cell_type": "code",
   "execution_count": 10,
   "id": "05f9fc12",
   "metadata": {},
   "outputs": [
    {
     "data": {
      "text/plain": [
       "3"
      ]
     },
     "execution_count": 10,
     "metadata": {},
     "output_type": "execute_result"
    }
   ],
   "source": [
    "count(231)"
   ]
  },
  {
   "cell_type": "markdown",
   "id": "cc8a4bc9",
   "metadata": {},
   "source": [
    "### Write a Python program to reverse a integer in python"
   ]
  },
  {
   "cell_type": "code",
   "execution_count": 15,
   "id": "a9324cbb",
   "metadata": {},
   "outputs": [],
   "source": [
    "def rev(x):\n",
    "    x= str(x)\n",
    "    x = x[-1::-1]\n",
    "    return x    \n",
    "    "
   ]
  },
  {
   "cell_type": "code",
   "execution_count": 16,
   "id": "551addb5",
   "metadata": {},
   "outputs": [
    {
     "data": {
      "text/plain": [
       "'3898'"
      ]
     },
     "execution_count": 16,
     "metadata": {},
     "output_type": "execute_result"
    }
   ],
   "source": [
    "rev(8983)"
   ]
  },
  {
   "cell_type": "code",
   "execution_count": 31,
   "id": "def6d9a3",
   "metadata": {},
   "outputs": [],
   "source": [
    "# 2nd approch\n",
    "\n",
    "def rev1(x):\n",
    "    reverse = 0\n",
    "    while x>0:\n",
    "        last_digit = x%10\n",
    "        reverse = reverse*10 + last_digit  \n",
    "        x = x//10\n",
    "\n",
    "    return reverse\n",
    "        "
   ]
  },
  {
   "cell_type": "code",
   "execution_count": 32,
   "id": "dadd9068",
   "metadata": {},
   "outputs": [
    {
     "data": {
      "text/plain": [
       "3498"
      ]
     },
     "execution_count": 32,
     "metadata": {},
     "output_type": "execute_result"
    }
   ],
   "source": [
    "rev1(8943)"
   ]
  },
  {
   "cell_type": "markdown",
   "id": "7a6bc558",
   "metadata": {},
   "source": [
    "### Write a program in Python to check whether an integer is Armstrong number or not."
   ]
  },
  {
   "cell_type": "markdown",
   "id": "c08a6372",
   "metadata": {},
   "source": [
    "#### it's a number such that the sum of its digits, each raised to the power of the number of digits in the number, is equal to the number itself."
   ]
  },
  {
   "cell_type": "code",
   "execution_count": 6,
   "id": "5c6c0986",
   "metadata": {},
   "outputs": [],
   "source": [
    "def arm(x):\n",
    "    sum = 0\n",
    "    s = str(x)\n",
    "    l = len(s)\n",
    "    for i in s:\n",
    "        sum +=int(i)**l\n",
    "    if sum == x:\n",
    "        return \"Armstrong\"\n",
    "    else:\n",
    "        return \"Not Armstrong\""
   ]
  },
  {
   "cell_type": "code",
   "execution_count": 7,
   "id": "773bd4a7",
   "metadata": {},
   "outputs": [
    {
     "data": {
      "text/plain": [
       "'Armstrong'"
      ]
     },
     "execution_count": 7,
     "metadata": {},
     "output_type": "execute_result"
    }
   ],
   "source": [
    "arm(153)"
   ]
  },
  {
   "cell_type": "code",
   "execution_count": 8,
   "id": "75d04609",
   "metadata": {},
   "outputs": [
    {
     "data": {
      "text/plain": [
       "'Not Armstrong'"
      ]
     },
     "execution_count": 8,
     "metadata": {},
     "output_type": "execute_result"
    }
   ],
   "source": [
    "arm(27)"
   ]
  },
  {
   "cell_type": "code",
   "execution_count": 17,
   "id": "4b08fbdd",
   "metadata": {},
   "outputs": [],
   "source": [
    "# 2nd Approch\n",
    "\n",
    "def arm1(x):\n",
    "    l = len(str(x))\n",
    "    temp = x\n",
    "    sum = 0\n",
    "    while x>0:\n",
    "        last = x%10\n",
    "        sum += last**l\n",
    "        x//=10\n",
    "    if sum == temp:\n",
    "        return \"Armstrong\"\n",
    "    else:\n",
    "        return \"Not Armstrong\""
   ]
  },
  {
   "cell_type": "code",
   "execution_count": 18,
   "id": "d9375b6d",
   "metadata": {},
   "outputs": [
    {
     "data": {
      "text/plain": [
       "'Armstrong'"
      ]
     },
     "execution_count": 18,
     "metadata": {},
     "output_type": "execute_result"
    }
   ],
   "source": [
    "arm1(153)"
   ]
  },
  {
   "cell_type": "markdown",
   "id": "fe75e63a",
   "metadata": {},
   "source": [
    "### Write a program in Python to check given number is prime or not."
   ]
  },
  {
   "cell_type": "code",
   "execution_count": 33,
   "id": "9b609de4",
   "metadata": {},
   "outputs": [],
   "source": [
    "def prime(x):\n",
    "    if x ==2:\n",
    "        return \"prime\"\n",
    "    else:\n",
    "        for i in range(2,x):\n",
    "            if x%i== 0:\n",
    "                return \"not Prime\"\n",
    "            else:\n",
    "                return \"prime\"\n",
    "                "
   ]
  },
  {
   "cell_type": "code",
   "execution_count": 34,
   "id": "77abe620",
   "metadata": {},
   "outputs": [
    {
     "data": {
      "text/plain": [
       "'not Prime'"
      ]
     },
     "execution_count": 34,
     "metadata": {},
     "output_type": "execute_result"
    }
   ],
   "source": [
    "prime(230)"
   ]
  },
  {
   "cell_type": "code",
   "execution_count": 35,
   "id": "264b0aa9",
   "metadata": {},
   "outputs": [
    {
     "data": {
      "text/plain": [
       "'prime'"
      ]
     },
     "execution_count": 35,
     "metadata": {},
     "output_type": "execute_result"
    }
   ],
   "source": [
    "prime(3)"
   ]
  },
  {
   "cell_type": "code",
   "execution_count": 28,
   "id": "adf48354",
   "metadata": {},
   "outputs": [],
   "source": [
    "# 2nd approch\n",
    "# When you multiply two numbers\n",
    "# together to get a product, at least one of the numbers must be less than or equal to the square root of the product.\n",
    "def prime1(x):\n",
    "    for i in range(2,int(x**0.5)+1):\n",
    "        if x%i== 0:\n",
    "            return \"not Prime\"\n",
    "        else:\n",
    "            return \"prime\""
   ]
  },
  {
   "cell_type": "code",
   "execution_count": 29,
   "id": "f6664387",
   "metadata": {},
   "outputs": [
    {
     "data": {
      "text/plain": [
       "'not Prime'"
      ]
     },
     "execution_count": 29,
     "metadata": {},
     "output_type": "execute_result"
    }
   ],
   "source": [
    "prime1(250)"
   ]
  },
  {
   "cell_type": "code",
   "execution_count": 30,
   "id": "42a44c2f",
   "metadata": {},
   "outputs": [
    {
     "data": {
      "text/plain": [
       "'prime'"
      ]
     },
     "execution_count": 30,
     "metadata": {},
     "output_type": "execute_result"
    }
   ],
   "source": [
    "prime1(5)"
   ]
  },
  {
   "cell_type": "markdown",
   "id": "b1ee0ece",
   "metadata": {},
   "source": [
    "### Write a program in Python to print the Fibonacci series using iterative method."
   ]
  },
  {
   "cell_type": "code",
   "execution_count": 41,
   "id": "51bb50db",
   "metadata": {},
   "outputs": [],
   "source": [
    "def fib(x):\n",
    "    lst=[0,1]\n",
    "    for i in range(x-2):\n",
    "        lst.append(lst[i]+lst[i+1])\n",
    "    return lst\n",
    "    "
   ]
  },
  {
   "cell_type": "code",
   "execution_count": 42,
   "id": "d6bcf4af",
   "metadata": {},
   "outputs": [
    {
     "data": {
      "text/plain": [
       "[0, 1, 1, 2, 3]"
      ]
     },
     "execution_count": 42,
     "metadata": {},
     "output_type": "execute_result"
    }
   ],
   "source": [
    "fib(5)"
   ]
  },
  {
   "cell_type": "markdown",
   "id": "86e31910",
   "metadata": {},
   "source": [
    "### Write a program in Python to check whether a number is palindrome or not using iterative method."
   ]
  },
  {
   "cell_type": "code",
   "execution_count": 43,
   "id": "7c7cc204",
   "metadata": {},
   "outputs": [],
   "source": [
    "def pal(x):\n",
    "    x = str(x)\n",
    "    if x == x[-1::-1]:\n",
    "        return \"palindrome\"\n",
    "    else:\n",
    "        return \"Not palindrome\""
   ]
  },
  {
   "cell_type": "code",
   "execution_count": 44,
   "id": "70132ad4",
   "metadata": {},
   "outputs": [
    {
     "data": {
      "text/plain": [
       "'palindrome'"
      ]
     },
     "execution_count": 44,
     "metadata": {},
     "output_type": "execute_result"
    }
   ],
   "source": [
    "pal(151)"
   ]
  },
  {
   "cell_type": "code",
   "execution_count": 45,
   "id": "9715eda3",
   "metadata": {},
   "outputs": [
    {
     "data": {
      "text/plain": [
       "'Not palindrome'"
      ]
     },
     "execution_count": 45,
     "metadata": {},
     "output_type": "execute_result"
    }
   ],
   "source": [
    "pal(453)"
   ]
  },
  {
   "cell_type": "code",
   "execution_count": 52,
   "id": "c21cd4fc",
   "metadata": {},
   "outputs": [],
   "source": [
    "# 2nd approch\n",
    "\n",
    "def pal1(x):\n",
    "    rev =0\n",
    "    temp =x\n",
    "    while x>0:\n",
    "        last = x%10\n",
    "        rev = rev*10 + last\n",
    "        x//=10\n",
    "    if rev == temp:\n",
    "        return \"palindrome\"\n",
    "    else:\n",
    "        return \"Not palindrome\""
   ]
  },
  {
   "cell_type": "code",
   "execution_count": 53,
   "id": "b5941034",
   "metadata": {},
   "outputs": [
    {
     "data": {
      "text/plain": [
       "'palindrome'"
      ]
     },
     "execution_count": 53,
     "metadata": {},
     "output_type": "execute_result"
    }
   ],
   "source": [
    "pal1(151)"
   ]
  },
  {
   "cell_type": "code",
   "execution_count": 54,
   "id": "c0b1cfeb",
   "metadata": {},
   "outputs": [
    {
     "data": {
      "text/plain": [
       "'Not palindrome'"
      ]
     },
     "execution_count": 54,
     "metadata": {},
     "output_type": "execute_result"
    }
   ],
   "source": [
    "pal1(150)"
   ]
  },
  {
   "cell_type": "markdown",
   "id": "49b72283",
   "metadata": {},
   "source": [
    "### Write a program in Python to find greatest among three integers."
   ]
  },
  {
   "cell_type": "code",
   "execution_count": 57,
   "id": "09c5b2d4",
   "metadata": {},
   "outputs": [],
   "source": [
    "def greatest(x,y,z):\n",
    "    if x>y and x>z:\n",
    "        return x\n",
    "    elif y>x and y>z:\n",
    "        return y\n",
    "    else:\n",
    "        return z"
   ]
  },
  {
   "cell_type": "code",
   "execution_count": 58,
   "id": "b60b7ad0",
   "metadata": {},
   "outputs": [
    {
     "data": {
      "text/plain": [
       "3"
      ]
     },
     "execution_count": 58,
     "metadata": {},
     "output_type": "execute_result"
    }
   ],
   "source": [
    "greatest(1,2,3)"
   ]
  },
  {
   "cell_type": "markdown",
   "id": "85f462dd",
   "metadata": {},
   "source": [
    "### Write a program in Python to check if a number is binary?"
   ]
  },
  {
   "cell_type": "code",
   "execution_count": 65,
   "id": "c7945620",
   "metadata": {},
   "outputs": [],
   "source": [
    "def is_binary(number_str):\n",
    "    # Loop through each character in the string\n",
    "    for digit in number_str:\n",
    "        if digit not in ('0', '1'):\n",
    "            return \"Not Binary\"  # If any character is not '0' or '1', it's not binary\n",
    "    return \"Binary\""
   ]
  },
  {
   "cell_type": "code",
   "execution_count": 67,
   "id": "3e3f6f0c",
   "metadata": {},
   "outputs": [
    {
     "data": {
      "text/plain": [
       "'Binary'"
      ]
     },
     "execution_count": 67,
     "metadata": {},
     "output_type": "execute_result"
    }
   ],
   "source": [
    "is_binary(\"100\")"
   ]
  },
  {
   "cell_type": "code",
   "execution_count": 68,
   "id": "dd107391",
   "metadata": {},
   "outputs": [
    {
     "data": {
      "text/plain": [
       "'Not Binary'"
      ]
     },
     "execution_count": 68,
     "metadata": {},
     "output_type": "execute_result"
    }
   ],
   "source": [
    "is_binary(\"102\")"
   ]
  },
  {
   "cell_type": "markdown",
   "id": "3133b6e0",
   "metadata": {},
   "source": [
    "### Write a program in Python to find sum of digits of a number"
   ]
  },
  {
   "cell_type": "code",
   "execution_count": null,
   "id": "ae20e931",
   "metadata": {},
   "outputs": [],
   "source": []
  }
 ],
 "metadata": {
  "kernelspec": {
   "display_name": "Python 3 (ipykernel)",
   "language": "python",
   "name": "python3"
  },
  "language_info": {
   "codemirror_mode": {
    "name": "ipython",
    "version": 3
   },
   "file_extension": ".py",
   "mimetype": "text/x-python",
   "name": "python",
   "nbconvert_exporter": "python",
   "pygments_lexer": "ipython3",
   "version": "3.7.4"
  }
 },
 "nbformat": 4,
 "nbformat_minor": 5
}
