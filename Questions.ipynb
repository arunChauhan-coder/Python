{
 "cells": [
  {
   "cell_type": "markdown",
   "id": "e68cc85b",
   "metadata": {},
   "source": [
    "### Have the function LetterCountI(str) take the str parameter being passed and return the first word with the greatest number of repeated letters"
   ]
  },
  {
   "cell_type": "code",
   "execution_count": null,
   "id": "13153f38",
   "metadata": {},
   "outputs": [],
   "source": [
    "# For example: \"Today, is the greatest day ever!\" should return greatest because it has 2 e's (and 2 t's) and it comes before ever\n",
    "#which also has 2 e's. If there are no words with repeating letters return -1. Words will be separated by spaces."
   ]
  },
  {
   "cell_type": "code",
   "execution_count": 11,
   "id": "f8683b41",
   "metadata": {},
   "outputs": [],
   "source": [
    "def LetterCount(st):\n",
    "    greatest = \"\"\n",
    "    greatest_count = 0\n",
    "    \n",
    "    l1 = st.split()\n",
    "    print(l1)\n",
    "    \n",
    "    def letter_count(word):\n",
    "        d = {}\n",
    "        c= 0\n",
    "        for letter in word:\n",
    "            try:\n",
    "                d[letter]+=1\n",
    "            except:\n",
    "                d[letter] = 1\n",
    "        for letter in d:\n",
    "            if d[letter]>1:\n",
    "                c += d[letter]\n",
    "        return c\n",
    "    \n",
    "    for word in l1:\n",
    "        cnt = letter_count(word)\n",
    "        if cnt > greatest_count:\n",
    "            greatest_count = cnt\n",
    "            greatest = word\n",
    "    return greatest,greatest_count\n",
    "    \n",
    "   \n",
    "        \n",
    "    "
   ]
  },
  {
   "cell_type": "code",
   "execution_count": 12,
   "id": "f75cf706",
   "metadata": {},
   "outputs": [
    {
     "name": "stdout",
     "output_type": "stream",
     "text": [
      "['Today,', 'is', 'the', 'greatest', 'day', 'ever!']\n"
     ]
    },
    {
     "data": {
      "text/plain": [
       "('greatest', 4)"
      ]
     },
     "execution_count": 12,
     "metadata": {},
     "output_type": "execute_result"
    }
   ],
   "source": [
    "LetterCount(\"Today, is the greatest day ever!\")"
   ]
  },
  {
   "cell_type": "markdown",
   "id": "b8f55eb4",
   "metadata": {},
   "source": [
    "### Have the function MeanMode(arr) take the array of numbers stored in arr and return 1 if the mode equals the mean, \n",
    "0 if they don't equal each other (ie. [5, 3, 3, 3, 1] should return 1 because the mode (3) equals the mean (3)). \n",
    "The array will not be empty, will only contain positive integers, and will not contain more than one mode."
   ]
  },
  {
   "cell_type": "code",
   "execution_count": 7,
   "id": "8fb0a747",
   "metadata": {},
   "outputs": [],
   "source": [
    "def MeanMode(arr):\n",
    "    max = 0\n",
    "    key = 0\n",
    "    d = {}\n",
    "    for i in arr:\n",
    "        try:\n",
    "            d[i]+=1\n",
    "        except:\n",
    "            d[i] = 1\n",
    "    #key  = max(d,key = d.get)\n",
    "    for i in d:\n",
    "        if d[i]>max:\n",
    "            max = d[i]\n",
    "            key = i\n",
    "            \n",
    "    mode = key\n",
    "    \n",
    "    mean = sum(arr)/len(arr)\n",
    "    if mode == mean:\n",
    "        return 1\n",
    "    else:\n",
    "        return 0"
   ]
  },
  {
   "cell_type": "code",
   "execution_count": 8,
   "id": "86f8553f",
   "metadata": {},
   "outputs": [
    {
     "data": {
      "text/plain": [
       "1"
      ]
     },
     "execution_count": 8,
     "metadata": {},
     "output_type": "execute_result"
    }
   ],
   "source": [
    "MeanMode([5, 3, 3, 3, 1])"
   ]
  },
  {
   "cell_type": "code",
   "execution_count": 9,
   "id": "ac2848c8",
   "metadata": {},
   "outputs": [
    {
     "data": {
      "text/plain": [
       "1"
      ]
     },
     "execution_count": 9,
     "metadata": {},
     "output_type": "execute_result"
    }
   ],
   "source": [
    "MeanMode([1, 2, 2, 3, 3, 3, 4, 4, 5])"
   ]
  },
  {
   "cell_type": "code",
   "execution_count": 10,
   "id": "bdd2b817",
   "metadata": {},
   "outputs": [
    {
     "data": {
      "text/plain": [
       "0"
      ]
     },
     "execution_count": 10,
     "metadata": {},
     "output_type": "execute_result"
    }
   ],
   "source": [
    "MeanMode([1,2,3])"
   ]
  },
  {
   "cell_type": "code",
   "execution_count": null,
   "id": "3c5a95a0",
   "metadata": {},
   "outputs": [],
   "source": []
  },
  {
   "cell_type": "code",
   "execution_count": null,
   "id": "6b25783b",
   "metadata": {},
   "outputs": [],
   "source": []
  },
  {
   "cell_type": "code",
   "execution_count": null,
   "id": "541dc58c",
   "metadata": {},
   "outputs": [],
   "source": []
  },
  {
   "cell_type": "code",
   "execution_count": null,
   "id": "f1279b16",
   "metadata": {},
   "outputs": [],
   "source": []
  },
  {
   "cell_type": "code",
   "execution_count": null,
   "id": "92a6202f",
   "metadata": {},
   "outputs": [],
   "source": []
  },
  {
   "cell_type": "code",
   "execution_count": null,
   "id": "33156049",
   "metadata": {},
   "outputs": [],
   "source": []
  },
  {
   "cell_type": "code",
   "execution_count": null,
   "id": "f005dedd",
   "metadata": {},
   "outputs": [],
   "source": []
  },
  {
   "cell_type": "code",
   "execution_count": null,
   "id": "a9324cbb",
   "metadata": {},
   "outputs": [],
   "source": []
  },
  {
   "cell_type": "code",
   "execution_count": null,
   "id": "551addb5",
   "metadata": {},
   "outputs": [],
   "source": []
  },
  {
   "cell_type": "code",
   "execution_count": null,
   "id": "def6d9a3",
   "metadata": {},
   "outputs": [],
   "source": []
  },
  {
   "cell_type": "code",
   "execution_count": null,
   "id": "dadd9068",
   "metadata": {},
   "outputs": [],
   "source": []
  },
  {
   "cell_type": "code",
   "execution_count": null,
   "id": "aa39b726",
   "metadata": {},
   "outputs": [],
   "source": []
  },
  {
   "cell_type": "code",
   "execution_count": null,
   "id": "5c6c0986",
   "metadata": {},
   "outputs": [],
   "source": []
  }
 ],
 "metadata": {
  "kernelspec": {
   "display_name": "Python 3 (ipykernel)",
   "language": "python",
   "name": "python3"
  },
  "language_info": {
   "codemirror_mode": {
    "name": "ipython",
    "version": 3
   },
   "file_extension": ".py",
   "mimetype": "text/x-python",
   "name": "python",
   "nbconvert_exporter": "python",
   "pygments_lexer": "ipython3",
   "version": "3.7.4"
  }
 },
 "nbformat": 4,
 "nbformat_minor": 5
}
