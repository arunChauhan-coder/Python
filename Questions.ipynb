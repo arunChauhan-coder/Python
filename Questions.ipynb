{
 "cells": [
  {
   "cell_type": "markdown",
   "id": "e68cc85b",
   "metadata": {},
   "source": [
    "### Have the function LetterCountI(str) take the str parameter being passed and return the first word with the greatest number of repeated letters"
   ]
  },
  {
   "cell_type": "code",
   "execution_count": null,
   "id": "13153f38",
   "metadata": {},
   "outputs": [],
   "source": [
    "# For example: \"Today, is the greatest day ever!\" should return greatest because it has 2 e's (and 2 t's) and it comes before ever\n",
    "#which also has 2 e's. If there are no words with repeating letters return -1. Words will be separated by spaces."
   ]
  },
  {
   "cell_type": "code",
   "execution_count": null,
   "id": "f8683b41",
   "metadata": {},
   "outputs": [],
   "source": [
    "def LetterCount(st):\n",
    "    greatest = \"\"\n",
    "    greatest_count = 0\n",
    "    \n",
    "    l1 = st.split()\n",
    "    print(l1)\n",
    "    \n",
    "    def letter_count(word):\n",
    "        d = {}\n",
    "        c= 0\n",
    "        for letter in word:\n",
    "            try:\n",
    "                d[letter]+=1\n",
    "            except:\n",
    "                d[letter] = 1\n",
    "        for letter in d:\n",
    "            if d[letter]>1:\n",
    "                c += d[letter]\n",
    "        return c\n",
    "    \n",
    "    for word in l1:\n",
    "        cnt = letter_count(word)\n",
    "        if cnt > greatest_count:\n",
    "            greatest_count = cnt\n",
    "            greatest = word\n",
    "    return greatest,greatest_count\n",
    "    \n",
    "   \n",
    "        \n",
    "    "
   ]
  },
  {
   "cell_type": "code",
   "execution_count": null,
   "id": "f75cf706",
   "metadata": {},
   "outputs": [],
   "source": [
    "LetterCount(\"Today, is the greatest day ever!\")"
   ]
  },
  {
   "cell_type": "markdown",
   "id": "b8f55eb4",
   "metadata": {},
   "source": [
    "### Have the function MeanMode(arr) take the array of numbers stored in arr and return 1 if the mode equals the mean, \n",
    "0 if they don't equal each other (ie. [5, 3, 3, 3, 1] should return 1 because the mode (3) equals the mean (3)). \n",
    "The array will not be empty, will only contain positive integers, and will not contain more than one mode."
   ]
  },
  {
   "cell_type": "code",
   "execution_count": null,
   "id": "8fb0a747",
   "metadata": {},
   "outputs": [],
   "source": [
    "def meanMode(lst):\n",
    "    \n",
    "    d = {}\n",
    "    mode = 0\n",
    "    for i in lst:\n",
    "        try:\n",
    "            d[i]+=1\n",
    "        except:\n",
    "            d[i]=1\n",
    "\n",
    "    for i in d:\n",
    "        if d[i] == max(d.values()):\n",
    "            mode = i\n",
    "   \n",
    "    \n",
    "    mean = sum(lst)/len(lst)\n",
    "    if mode == mean:\n",
    "        return 1\n",
    "    else:\n",
    "        return 0"
   ]
  },
  {
   "cell_type": "code",
   "execution_count": null,
   "id": "86f8553f",
   "metadata": {},
   "outputs": [],
   "source": [
    "meanMode([5, 3, 3, 3, 1])"
   ]
  },
  {
   "cell_type": "code",
   "execution_count": null,
   "id": "ac2848c8",
   "metadata": {},
   "outputs": [],
   "source": [
    "MeanMode([1, 2, 2, 3, 3, 3, 4, 4, 5])"
   ]
  },
  {
   "cell_type": "code",
   "execution_count": null,
   "id": "bdd2b817",
   "metadata": {},
   "outputs": [],
   "source": [
    "MeanMode([1,2,3])"
   ]
  },
  {
   "cell_type": "markdown",
   "id": "5af4ffe8",
   "metadata": {},
   "source": [
    "### Have the function PrimeMover(num) return the numth prime number. The range will be from 1 to 10^4. For example: if num is 16 the output should be 53 as 53 is the 16th prime number."
   ]
  },
  {
   "cell_type": "code",
   "execution_count": 10,
   "id": "6b25783b",
   "metadata": {},
   "outputs": [],
   "source": [
    "def PrimeMover(num):\n",
    "    lst = []\n",
    "    cnt = 0\n",
    "    m = 10**4\n",
    "    for i in range(2,m+1):\n",
    "        for j in range (2,i):\n",
    "            if i%j == 0:\n",
    "                break\n",
    "        else:\n",
    "            lst.append(i)\n",
    "      \n",
    "    return lst[num-1]"
   ]
  },
  {
   "cell_type": "code",
   "execution_count": 11,
   "id": "541dc58c",
   "metadata": {},
   "outputs": [
    {
     "data": {
      "text/plain": [
       "2"
      ]
     },
     "execution_count": 11,
     "metadata": {},
     "output_type": "execute_result"
    }
   ],
   "source": [
    "PrimeMover(1)"
   ]
  },
  {
   "cell_type": "code",
   "execution_count": 13,
   "id": "f1279b16",
   "metadata": {},
   "outputs": [
    {
     "data": {
      "text/plain": [
       "197"
      ]
     },
     "execution_count": 13,
     "metadata": {},
     "output_type": "execute_result"
    }
   ],
   "source": [
    "PrimeMover(45)"
   ]
  },
  {
   "cell_type": "code",
   "execution_count": null,
   "id": "92a6202f",
   "metadata": {},
   "outputs": [],
   "source": [
    "def PrimeMover(num):\n",
    "    limit = 10**5  # Adjust the limit as needed to find the nth prime number\n",
    "    sieve = [True] * (limit + 1)\n",
    "    sieve[0] = sieve[1] = False\n",
    "    prime_count = 0\n",
    "\n",
    "    for current in range(2, limit + 1):\n",
    "        if sieve[current]:\n",
    "            prime_count += 1\n",
    "            if prime_count == num:\n",
    "                return current\n",
    "            for multiple in range(current * current, limit + 1, current):\n",
    "                sieve[multiple] = False\n",
    "\n",
    "# Example usage:\n",
    " # This will print the 10th prime number\n"
   ]
  },
  {
   "cell_type": "code",
   "execution_count": null,
   "id": "33156049",
   "metadata": {},
   "outputs": [],
   "source": [
    "nth_prime = PrimeMover(2)\n",
    "print(nth_prime) "
   ]
  },
  {
   "cell_type": "markdown",
   "id": "3443dc65",
   "metadata": {},
   "source": [
    "### Count num of digit in a integer"
   ]
  },
  {
   "cell_type": "code",
   "execution_count": null,
   "id": "349c0dfb",
   "metadata": {},
   "outputs": [],
   "source": [
    "def count(x):\n",
    "    cnt = 0\n",
    "    while x>0:\n",
    "        x//=10\n",
    "        cnt+=1\n",
    "        \n",
    "    return cnt"
   ]
  },
  {
   "cell_type": "code",
   "execution_count": null,
   "id": "306d29f1",
   "metadata": {},
   "outputs": [],
   "source": [
    "count(231)"
   ]
  },
  {
   "cell_type": "code",
   "execution_count": null,
   "id": "daa693e7",
   "metadata": {},
   "outputs": [],
   "source": [
    "# 2nd approch\n",
    "def count(x):\n",
    "    x = len(str(x))\n",
    "    return x"
   ]
  },
  {
   "cell_type": "code",
   "execution_count": null,
   "id": "05f9fc12",
   "metadata": {},
   "outputs": [],
   "source": [
    "count(231)"
   ]
  },
  {
   "cell_type": "markdown",
   "id": "cc8a4bc9",
   "metadata": {},
   "source": [
    "### Write a Python program to reverse a integer in python"
   ]
  },
  {
   "cell_type": "code",
   "execution_count": null,
   "id": "a9324cbb",
   "metadata": {},
   "outputs": [],
   "source": [
    "def rev(x):\n",
    "    x= str(x)\n",
    "    x = x[-1::-1]\n",
    "    return x    \n",
    "    "
   ]
  },
  {
   "cell_type": "code",
   "execution_count": null,
   "id": "551addb5",
   "metadata": {},
   "outputs": [],
   "source": [
    "rev(8983)"
   ]
  },
  {
   "cell_type": "code",
   "execution_count": null,
   "id": "def6d9a3",
   "metadata": {},
   "outputs": [],
   "source": [
    "# 2nd approch\n",
    "\n",
    "def rev1(x):\n",
    "    reverse = 0\n",
    "    while x>0:\n",
    "        last_digit = x%10\n",
    "        reverse = reverse*10 + last_digit  \n",
    "        x = x//10\n",
    "\n",
    "    return reverse\n",
    "        "
   ]
  },
  {
   "cell_type": "code",
   "execution_count": null,
   "id": "dadd9068",
   "metadata": {},
   "outputs": [],
   "source": [
    "rev1(8943)"
   ]
  },
  {
   "cell_type": "markdown",
   "id": "7a6bc558",
   "metadata": {},
   "source": [
    "### Write a program in Python to check whether an integer is Armstrong number or not."
   ]
  },
  {
   "cell_type": "markdown",
   "id": "c08a6372",
   "metadata": {},
   "source": [
    "#### it's a number such , each raised to the power of the number of digits in the number, is equal to the number itself."
   ]
  },
  {
   "cell_type": "code",
   "execution_count": 1,
   "id": "5c6c0986",
   "metadata": {},
   "outputs": [],
   "source": [
    "def arm(x):\n",
    "    sum = 0\n",
    "    s = str(x)\n",
    "    l = len(s)\n",
    "    for i in s:\n",
    "        sum +=int(i)**l\n",
    "    if sum == x:\n",
    "        return \"Armstrong\"\n",
    "    else:\n",
    "        return \"Not Armstrong\""
   ]
  },
  {
   "cell_type": "code",
   "execution_count": 2,
   "id": "773bd4a7",
   "metadata": {},
   "outputs": [
    {
     "data": {
      "text/plain": [
       "'Armstrong'"
      ]
     },
     "execution_count": 2,
     "metadata": {},
     "output_type": "execute_result"
    }
   ],
   "source": [
    "arm(153)"
   ]
  },
  {
   "cell_type": "code",
   "execution_count": 3,
   "id": "75d04609",
   "metadata": {},
   "outputs": [
    {
     "data": {
      "text/plain": [
       "'Not Armstrong'"
      ]
     },
     "execution_count": 3,
     "metadata": {},
     "output_type": "execute_result"
    }
   ],
   "source": [
    "arm(27)"
   ]
  },
  {
   "cell_type": "code",
   "execution_count": null,
   "id": "4b08fbdd",
   "metadata": {},
   "outputs": [],
   "source": [
    "# 2nd Approch\n",
    "\n",
    "def arm1(x):\n",
    "    l = len(str(x))\n",
    "    temp = x\n",
    "    sum = 0\n",
    "    while x>0:\n",
    "        last = x%10\n",
    "        sum += last**l\n",
    "        x//=10\n",
    "    if sum == temp:\n",
    "        return \"Armstrong\"\n",
    "    else:\n",
    "        return \"Not Armstrong\""
   ]
  },
  {
   "cell_type": "code",
   "execution_count": null,
   "id": "d9375b6d",
   "metadata": {},
   "outputs": [],
   "source": [
    "arm1(153)"
   ]
  },
  {
   "cell_type": "markdown",
   "id": "fe75e63a",
   "metadata": {},
   "source": [
    "### Write a program in Python to check given number is prime or not."
   ]
  },
  {
   "cell_type": "code",
   "execution_count": 1,
   "id": "9b609de4",
   "metadata": {},
   "outputs": [],
   "source": [
    "def prime(n):\n",
    "    if n == 0 or n == 1:\n",
    "        return \"neither prime nor composite\"\n",
    "    cnt = 0\n",
    "    for i in range(2,n):\n",
    "        if n%i == 0:\n",
    "            cnt +=1\n",
    "    if cnt > 0:\n",
    "        return \"not prime\"\n",
    "    else: \n",
    "        return \"prime\"\n",
    "        "
   ]
  },
  {
   "cell_type": "code",
   "execution_count": 2,
   "id": "77abe620",
   "metadata": {},
   "outputs": [
    {
     "data": {
      "text/plain": [
       "'not prime'"
      ]
     },
     "execution_count": 2,
     "metadata": {},
     "output_type": "execute_result"
    }
   ],
   "source": [
    "prime(230)"
   ]
  },
  {
   "cell_type": "code",
   "execution_count": 3,
   "id": "264b0aa9",
   "metadata": {},
   "outputs": [
    {
     "data": {
      "text/plain": [
       "'prime'"
      ]
     },
     "execution_count": 3,
     "metadata": {},
     "output_type": "execute_result"
    }
   ],
   "source": [
    "prime(2)"
   ]
  },
  {
   "cell_type": "code",
   "execution_count": 4,
   "id": "248b61c3",
   "metadata": {},
   "outputs": [
    {
     "data": {
      "text/plain": [
       "'not prime'"
      ]
     },
     "execution_count": 4,
     "metadata": {},
     "output_type": "execute_result"
    }
   ],
   "source": [
    "prime(4)"
   ]
  },
  {
   "cell_type": "code",
   "execution_count": null,
   "id": "adf48354",
   "metadata": {},
   "outputs": [],
   "source": [
    "# 2nd approch\n",
    "# When you multiply two numbers\n",
    "# together to get a product, at least one of the numbers must be less than or equal to the square root of the product.\n",
    "def prime1(x):\n",
    "    for i in range(2,int(x**0.5)+1):\n",
    "        if x%i== 0:\n",
    "            return \"not Prime\"\n",
    "        else:\n",
    "            return \"prime\""
   ]
  },
  {
   "cell_type": "code",
   "execution_count": null,
   "id": "f6664387",
   "metadata": {},
   "outputs": [],
   "source": [
    "prime1(250)"
   ]
  },
  {
   "cell_type": "code",
   "execution_count": null,
   "id": "42a44c2f",
   "metadata": {},
   "outputs": [],
   "source": [
    "prime1(5)"
   ]
  },
  {
   "cell_type": "markdown",
   "id": "b1ee0ece",
   "metadata": {},
   "source": [
    "### Write a program in Python to print the Fibonacci series using iterative method."
   ]
  },
  {
   "cell_type": "code",
   "execution_count": null,
   "id": "51bb50db",
   "metadata": {},
   "outputs": [],
   "source": [
    "def fib(x):\n",
    "    lst=[0,1]\n",
    "    for i in range(x-2):\n",
    "        lst.append(lst[i]+lst[i+1])\n",
    "    return lst\n",
    "    "
   ]
  },
  {
   "cell_type": "code",
   "execution_count": null,
   "id": "d6bcf4af",
   "metadata": {},
   "outputs": [],
   "source": [
    "fib(5)"
   ]
  },
  {
   "cell_type": "markdown",
   "id": "86e31910",
   "metadata": {},
   "source": [
    "### Write a program in Python to check whether a number is palindrome or not using iterative method."
   ]
  },
  {
   "cell_type": "code",
   "execution_count": null,
   "id": "7c7cc204",
   "metadata": {},
   "outputs": [],
   "source": [
    "def pal(x):\n",
    "    x = str(x)\n",
    "    if x == x[::-1]:\n",
    "        return \"palindrome\"\n",
    "    else:\n",
    "        return \"Not palindrome\""
   ]
  },
  {
   "cell_type": "code",
   "execution_count": null,
   "id": "70132ad4",
   "metadata": {},
   "outputs": [],
   "source": [
    "pal(151)"
   ]
  },
  {
   "cell_type": "code",
   "execution_count": null,
   "id": "9715eda3",
   "metadata": {},
   "outputs": [],
   "source": [
    "pal(453)"
   ]
  },
  {
   "cell_type": "code",
   "execution_count": null,
   "id": "c21cd4fc",
   "metadata": {},
   "outputs": [],
   "source": [
    "# 2nd approch\n",
    "\n",
    "def pal1(x):\n",
    "    rev =0\n",
    "    temp =x\n",
    "    while x>0:\n",
    "        last = x%10\n",
    "        rev = rev*10 + last\n",
    "        x//=10\n",
    "    if rev == temp:\n",
    "        return \"palindrome\"\n",
    "    else:\n",
    "        return \"Not palindrome\""
   ]
  },
  {
   "cell_type": "code",
   "execution_count": null,
   "id": "b5941034",
   "metadata": {},
   "outputs": [],
   "source": [
    "pal1(151)"
   ]
  },
  {
   "cell_type": "code",
   "execution_count": null,
   "id": "c0b1cfeb",
   "metadata": {},
   "outputs": [],
   "source": [
    "pal1(150)"
   ]
  },
  {
   "cell_type": "markdown",
   "id": "49b72283",
   "metadata": {},
   "source": [
    "### Write a program in Python to find greatest among three integers."
   ]
  },
  {
   "cell_type": "code",
   "execution_count": null,
   "id": "09c5b2d4",
   "metadata": {},
   "outputs": [],
   "source": [
    "def greatest(x,y,z):\n",
    "    if x>y and x>z:\n",
    "        return x\n",
    "    elif y>x and y>z:\n",
    "        return y\n",
    "    else:\n",
    "        return z"
   ]
  },
  {
   "cell_type": "code",
   "execution_count": null,
   "id": "b60b7ad0",
   "metadata": {},
   "outputs": [],
   "source": [
    "greatest(1,2,3)"
   ]
  },
  {
   "cell_type": "markdown",
   "id": "85f462dd",
   "metadata": {},
   "source": [
    "### Write a program in Python to check if a number is binary?"
   ]
  },
  {
   "cell_type": "code",
   "execution_count": null,
   "id": "c7945620",
   "metadata": {},
   "outputs": [],
   "source": [
    "def is_binary(number_str):\n",
    "    # Loop through each character in the string\n",
    "    for digit in number_str:\n",
    "        if digit not in ('0', '1'):\n",
    "            return \"Not Binary\"  # If any character is not '0' or '1', it's not binary\n",
    "    return \"Binary\""
   ]
  },
  {
   "cell_type": "code",
   "execution_count": null,
   "id": "3e3f6f0c",
   "metadata": {},
   "outputs": [],
   "source": [
    "is_binary(\"100\")"
   ]
  },
  {
   "cell_type": "code",
   "execution_count": null,
   "id": "dd107391",
   "metadata": {},
   "outputs": [],
   "source": [
    "is_binary(\"102\")"
   ]
  },
  {
   "cell_type": "markdown",
   "id": "3133b6e0",
   "metadata": {},
   "source": [
    "### Write a program in Python to find sum of digits of a number"
   ]
  },
  {
   "cell_type": "code",
   "execution_count": null,
   "id": "ae20e931",
   "metadata": {},
   "outputs": [],
   "source": [
    "def sumd(x):\n",
    "    sum=0\n",
    "    x  = str(x)\n",
    "    for i in x:\n",
    "        sum+= int(i)\n",
    "    return sum"
   ]
  },
  {
   "cell_type": "code",
   "execution_count": null,
   "id": "dd66bf06",
   "metadata": {},
   "outputs": [],
   "source": [
    "sumd(23)"
   ]
  },
  {
   "cell_type": "code",
   "execution_count": null,
   "id": "d2b68d25",
   "metadata": {},
   "outputs": [],
   "source": [
    "# 2nd approch"
   ]
  },
  {
   "cell_type": "code",
   "execution_count": null,
   "id": "8eba1a82",
   "metadata": {},
   "outputs": [],
   "source": [
    "def sumd1(x):\n",
    "    sum=0\n",
    "    while x>0:\n",
    "        n = x%10\n",
    "        sum+=n\n",
    "        x//=10\n",
    "    return sum"
   ]
  },
  {
   "cell_type": "code",
   "execution_count": null,
   "id": "d34ee763",
   "metadata": {},
   "outputs": [],
   "source": [
    "sumd1(23)"
   ]
  },
  {
   "cell_type": "markdown",
   "id": "4252a58f",
   "metadata": {},
   "source": [
    "### Write a program in Python to swap two numbers without using third variable?"
   ]
  },
  {
   "cell_type": "code",
   "execution_count": null,
   "id": "989c25e3",
   "metadata": {},
   "outputs": [],
   "source": [
    "# 2nd approch \n",
    "def swap1(a,b):\n",
    "\n",
    "    a=a-b\n",
    "    b=a+b\n",
    "    a=b-a\n",
    "    return a,b\n"
   ]
  },
  {
   "cell_type": "code",
   "execution_count": null,
   "id": "9138aa53",
   "metadata": {},
   "outputs": [],
   "source": [
    "swap1(2,3)"
   ]
  },
  {
   "cell_type": "code",
   "execution_count": null,
   "id": "4a88b48b",
   "metadata": {},
   "outputs": [],
   "source": [
    "swap1(149,523)"
   ]
  },
  {
   "cell_type": "code",
   "execution_count": null,
   "id": "7573e219",
   "metadata": {},
   "outputs": [],
   "source": [
    "swap1(23,142)"
   ]
  },
  {
   "cell_type": "code",
   "execution_count": null,
   "id": "f118a86b",
   "metadata": {},
   "outputs": [],
   "source": [
    "# 3rd approch"
   ]
  },
  {
   "cell_type": "code",
   "execution_count": null,
   "id": "11067243",
   "metadata": {},
   "outputs": [],
   "source": [
    "def swap2(y,x):\n",
    "    return x,y"
   ]
  },
  {
   "cell_type": "code",
   "execution_count": null,
   "id": "d5b9cfea",
   "metadata": {},
   "outputs": [],
   "source": [
    "swap2(23,42)"
   ]
  },
  {
   "cell_type": "markdown",
   "id": "18ac1122",
   "metadata": {},
   "source": [
    "### Write a program in Python to find prime factors of a given integer."
   ]
  },
  {
   "cell_type": "code",
   "execution_count": null,
   "id": "ace3c1a7",
   "metadata": {},
   "outputs": [],
   "source": [
    "def pfac(n):\n",
    "    i =2 \n",
    "    fact = []\n",
    "    while i*i <=n:\n",
    "        if n%i:\n",
    "            i+=1\n",
    "        else:\n",
    "            n//=i\n",
    "            fact.append(i)\n",
    "    if i>1:\n",
    "        fact.append(i)\n",
    "    return fact\n"
   ]
  },
  {
   "cell_type": "code",
   "execution_count": null,
   "id": "16182ed6",
   "metadata": {},
   "outputs": [],
   "source": [
    "pfac(12)"
   ]
  },
  {
   "cell_type": "code",
   "execution_count": null,
   "id": "cb893ce3",
   "metadata": {},
   "outputs": [],
   "source": [
    "pfac(50)"
   ]
  },
  {
   "cell_type": "markdown",
   "id": "9ff925f7",
   "metadata": {},
   "source": [
    "### Write a program in Python to find given number is perfect or not"
   ]
  },
  {
   "cell_type": "code",
   "execution_count": null,
   "id": "2712a8ac",
   "metadata": {},
   "outputs": [],
   "source": [
    "def per(x):\n",
    "    s = 0\n",
    "    for i in range(1,x):\n",
    "        if x%i == 0:\n",
    "            s+=i\n",
    "    if s == x:\n",
    "        return \"Perfect\"\n",
    "    else:\n",
    "        return \"Not Perfect\"\n",
    "    "
   ]
  },
  {
   "cell_type": "code",
   "execution_count": null,
   "id": "d8b808d1",
   "metadata": {},
   "outputs": [],
   "source": [
    "per(6)"
   ]
  },
  {
   "cell_type": "code",
   "execution_count": null,
   "id": "89dfbdf7",
   "metadata": {},
   "outputs": [],
   "source": [
    "per(5)"
   ]
  },
  {
   "cell_type": "code",
   "execution_count": null,
   "id": "36117e93",
   "metadata": {},
   "outputs": [],
   "source": [
    "per(28)"
   ]
  },
  {
   "cell_type": "markdown",
   "id": "f1214a66",
   "metadata": {},
   "source": [
    "### Find Factorial"
   ]
  },
  {
   "cell_type": "code",
   "execution_count": null,
   "id": "ab41b59b",
   "metadata": {},
   "outputs": [],
   "source": [
    "def fact(x):\n",
    "    fact = 1\n",
    "    for i in range(1,x+1):\n",
    "        fact*=i\n",
    "    return fact\n",
    "        "
   ]
  },
  {
   "cell_type": "code",
   "execution_count": null,
   "id": "9b73a11c",
   "metadata": {},
   "outputs": [],
   "source": [
    "fact(4)"
   ]
  },
  {
   "cell_type": "code",
   "execution_count": null,
   "id": "b5ff0b5a",
   "metadata": {},
   "outputs": [],
   "source": [
    "fact(5)"
   ]
  },
  {
   "cell_type": "code",
   "execution_count": 39,
   "id": "5b1d3e37",
   "metadata": {},
   "outputs": [],
   "source": [
    "def fact(num):\n",
    "    f= 1\n",
    "    if num == 1:\n",
    "        return 1\n",
    "    num = num* fact(num-1)\n",
    "    return num"
   ]
  },
  {
   "cell_type": "code",
   "execution_count": 40,
   "id": "7fbc8a0e",
   "metadata": {},
   "outputs": [
    {
     "data": {
      "text/plain": [
       "120"
      ]
     },
     "execution_count": 40,
     "metadata": {},
     "output_type": "execute_result"
    }
   ],
   "source": [
    "fact(5)"
   ]
  },
  {
   "cell_type": "markdown",
   "id": "3424fcc4",
   "metadata": {},
   "source": [
    "### Python Program to print Prime Number in a given range."
   ]
  },
  {
   "cell_type": "code",
   "execution_count": null,
   "id": "f068bbd0",
   "metadata": {},
   "outputs": [],
   "source": [
    "# In Python, the else clause in a for loop can be used \n",
    "#to execute a block of code when the loop completes normally, i.e., without encountering a break statement. "
   ]
  },
  {
   "cell_type": "code",
   "execution_count": 7,
   "id": "fea47b28",
   "metadata": {},
   "outputs": [],
   "source": [
    "def p_range(x):\n",
    "    lst = []\n",
    "    for i in range(2,x+1):\n",
    "        for j in range(2,i):\n",
    "            if i % j == 0:\n",
    "                break\n",
    "        else:\n",
    "            lst.append(i)\n",
    "    return lst"
   ]
  },
  {
   "cell_type": "code",
   "execution_count": 9,
   "id": "a3b6384d",
   "metadata": {},
   "outputs": [
    {
     "data": {
      "text/plain": [
       "[2, 3, 5, 7, 11, 13, 17, 19, 23]"
      ]
     },
     "execution_count": 9,
     "metadata": {},
     "output_type": "execute_result"
    }
   ],
   "source": [
    "p_range(23)"
   ]
  },
  {
   "cell_type": "code",
   "execution_count": null,
   "id": "a7af9fdb",
   "metadata": {},
   "outputs": [],
   "source": [
    "for i in range(2,2):\n",
    "    print(i)"
   ]
  },
  {
   "cell_type": "markdown",
   "id": "ca1d8f37",
   "metadata": {},
   "source": [
    "### Python Program to calculate the power without using POW function"
   ]
  },
  {
   "cell_type": "code",
   "execution_count": null,
   "id": "dc993368",
   "metadata": {},
   "outputs": [],
   "source": [
    "#2nd approch\n",
    "\n",
    "def p(num,power):\n",
    "    \n",
    "    result = 1\n",
    "    for i in range(power):\n",
    "        result*=num\n",
    "    return result\n"
   ]
  },
  {
   "cell_type": "code",
   "execution_count": null,
   "id": "f0d87513",
   "metadata": {},
   "outputs": [],
   "source": [
    "p(5,4)"
   ]
  },
  {
   "cell_type": "code",
   "execution_count": null,
   "id": "cb1328e8",
   "metadata": {},
   "outputs": [],
   "source": [
    "p(5,0)"
   ]
  },
  {
   "cell_type": "markdown",
   "id": "2c287c36",
   "metadata": {},
   "source": [
    "### Python Program to Convert Decimal Number into Binary."
   ]
  },
  {
   "cell_type": "code",
   "execution_count": null,
   "id": "0b740a97",
   "metadata": {},
   "outputs": [],
   "source": [
    "def bi(num):\n",
    "    return bin(num)"
   ]
  },
  {
   "cell_type": "code",
   "execution_count": null,
   "id": "5c5b8f4e",
   "metadata": {},
   "outputs": [],
   "source": [
    "x= bi(10)"
   ]
  },
  {
   "cell_type": "code",
   "execution_count": null,
   "id": "3af5a129",
   "metadata": {},
   "outputs": [],
   "source": [
    "x"
   ]
  },
  {
   "cell_type": "code",
   "execution_count": null,
   "id": "3ea3559d",
   "metadata": {},
   "outputs": [],
   "source": [
    "bi(20)"
   ]
  },
  {
   "cell_type": "markdown",
   "id": "18c4ac28",
   "metadata": {},
   "source": [
    "### Python Program to check the given year is a leap year or not."
   ]
  },
  {
   "cell_type": "code",
   "execution_count": null,
   "id": "d43eabe7",
   "metadata": {},
   "outputs": [],
   "source": [
    "#The year must be evenly divisible by 4.\n",
    "# If the year is divisible by 100, then it must also be divisible by 400.\n",
    "\n",
    "def leap(x):\n",
    "    if x%4 ==0:\n",
    "        if x% 100 ==0:\n",
    "            if x%400 ==0:\n",
    "                return \"Its a leap year\"\n",
    "            else:\n",
    "                return \"Its not a leap year\"\n",
    "        else:\n",
    "            return \"Its  a leap year\"\n",
    "    else: \n",
    "        return \"Its not a leap year\""
   ]
  },
  {
   "cell_type": "code",
   "execution_count": null,
   "id": "c637a8ee",
   "metadata": {},
   "outputs": [],
   "source": [
    "leap(2000)"
   ]
  },
  {
   "cell_type": "code",
   "execution_count": null,
   "id": "eaa93338",
   "metadata": {},
   "outputs": [],
   "source": [
    "leap(2023)"
   ]
  },
  {
   "cell_type": "code",
   "execution_count": null,
   "id": "1ef2dd1f",
   "metadata": {},
   "outputs": [],
   "source": [
    "# what do you mean by list comprhension in python\n",
    "# list comprehension is the short and elegant way to define a list from the existing list"
   ]
  },
  {
   "cell_type": "code",
   "execution_count": 14,
   "id": "e5d90fc7",
   "metadata": {},
   "outputs": [
    {
     "data": {
      "text/plain": [
       "[2, 4, 6, 8]"
      ]
     },
     "execution_count": 14,
     "metadata": {},
     "output_type": "execute_result"
    }
   ],
   "source": [
    "l1 = [1,2,3,4,5,6,7,8]\n",
    "l2 = [i for i in l1 if i%2==0]\n",
    "l2"
   ]
  },
  {
   "cell_type": "code",
   "execution_count": 15,
   "id": "639df58e",
   "metadata": {},
   "outputs": [
    {
     "data": {
      "text/plain": [
       "[2, 2, 4, 4, 6, 6, 8, 8]"
      ]
     },
     "execution_count": 15,
     "metadata": {},
     "output_type": "execute_result"
    }
   ],
   "source": [
    "l_st = [i if i%2 ==0 else i+1  for i in l1 ]\n",
    "l_st"
   ]
  },
  {
   "cell_type": "code",
   "execution_count": 16,
   "id": "fcd0d2d9",
   "metadata": {},
   "outputs": [
    {
     "ename": "SyntaxError",
     "evalue": "invalid syntax (306362660.py, line 1)",
     "output_type": "error",
     "traceback": [
      "\u001b[1;36m  Cell \u001b[1;32mIn[16], line 1\u001b[1;36m\u001b[0m\n\u001b[1;33m    lst = [i for i in l1 if i%2 ==0 else i+1 ]\u001b[0m\n\u001b[1;37m                                    ^\u001b[0m\n\u001b[1;31mSyntaxError\u001b[0m\u001b[1;31m:\u001b[0m invalid syntax\n"
     ]
    }
   ],
   "source": [
    "lst = [i for i in l1 if i%2 ==0 else i+1 ]"
   ]
  },
  {
   "cell_type": "code",
   "execution_count": null,
   "id": "8aa3a830",
   "metadata": {},
   "outputs": [],
   "source": [
    "#find the square of each number in the list using apply"
   ]
  },
  {
   "cell_type": "code",
   "execution_count": null,
   "id": "6c454ad3",
   "metadata": {},
   "outputs": [],
   "source": [
    "l1"
   ]
  },
  {
   "cell_type": "code",
   "execution_count": null,
   "id": "b9c2bdb5",
   "metadata": {},
   "outputs": [],
   "source": [
    "l2  = list(map(lambda x:x*x,l1))"
   ]
  },
  {
   "cell_type": "code",
   "execution_count": null,
   "id": "c14f5ea5",
   "metadata": {},
   "outputs": [],
   "source": [
    "# show use of eval\n",
    "\n",
    "# eval is used to determine the type of input(default python takes string)"
   ]
  },
  {
   "cell_type": "code",
   "execution_count": null,
   "id": "95037991",
   "metadata": {},
   "outputs": [],
   "source": [
    "s = eval(input(\"enter \"))"
   ]
  },
  {
   "cell_type": "code",
   "execution_count": null,
   "id": "648bb713",
   "metadata": {},
   "outputs": [],
   "source": [
    "type(s)"
   ]
  },
  {
   "cell_type": "code",
   "execution_count": null,
   "id": "e996126c",
   "metadata": {},
   "outputs": [],
   "source": [
    "s = eval(input(\"enter \"))\n"
   ]
  },
  {
   "cell_type": "code",
   "execution_count": null,
   "id": "3963e9ed",
   "metadata": {},
   "outputs": [],
   "source": [
    "type(s)"
   ]
  },
  {
   "cell_type": "code",
   "execution_count": null,
   "id": "25a61410",
   "metadata": {},
   "outputs": [],
   "source": [
    "# map : map means maps each element in the list to the condition it doesnot filter the list it return all element value\n",
    "# wrt to that function"
   ]
  },
  {
   "cell_type": "code",
   "execution_count": null,
   "id": "dae684e5",
   "metadata": {},
   "outputs": [],
   "source": [
    "t1 = tuple(l1)"
   ]
  },
  {
   "cell_type": "code",
   "execution_count": null,
   "id": "62e04a05",
   "metadata": {},
   "outputs": [],
   "source": [
    "t1"
   ]
  },
  {
   "cell_type": "code",
   "execution_count": null,
   "id": "3ac567ba",
   "metadata": {},
   "outputs": [],
   "source": [
    "t2 = tuple(map(lambda x:x%2==0 ,t1))"
   ]
  },
  {
   "cell_type": "code",
   "execution_count": null,
   "id": "32283d47",
   "metadata": {},
   "outputs": [],
   "source": [
    "t2"
   ]
  },
  {
   "cell_type": "code",
   "execution_count": null,
   "id": "36a7ef7d",
   "metadata": {},
   "outputs": [],
   "source": [
    "# filter : it filter the list based on the particular condition"
   ]
  },
  {
   "cell_type": "code",
   "execution_count": null,
   "id": "2f5cc22a",
   "metadata": {},
   "outputs": [],
   "source": [
    "t3 = tuple(filter(lambda x: x%2==0 ,t1)) # the same u can achieve with list comprehension but for list only not for tuple\n",
    "# for tuple u have to use  filter\n"
   ]
  },
  {
   "cell_type": "code",
   "execution_count": null,
   "id": "33ba0058",
   "metadata": {},
   "outputs": [],
   "source": [
    "t3"
   ]
  },
  {
   "cell_type": "code",
   "execution_count": null,
   "id": "70c9f999",
   "metadata": {},
   "outputs": [],
   "source": [
    "#In summary, map applies a function to each element and returns the transformed values in an \n",
    "#iterable, while filter applies a function to each element and returns only the elements that satisfy a specific condition"
   ]
  },
  {
   "cell_type": "code",
   "execution_count": null,
   "id": "0cc73f08",
   "metadata": {},
   "outputs": [],
   "source": [
    "l1"
   ]
  },
  {
   "cell_type": "code",
   "execution_count": null,
   "id": "be25a70b",
   "metadata": {},
   "outputs": [],
   "source": [
    "l1= [i for i in l1 if i %2 ==0]\n",
    "l1"
   ]
  },
  {
   "cell_type": "code",
   "execution_count": null,
   "id": "1b5c9e31",
   "metadata": {},
   "outputs": [],
   "source": []
  },
  {
   "cell_type": "code",
   "execution_count": null,
   "id": "f95f22f3",
   "metadata": {},
   "outputs": [],
   "source": [
    "#append and extend in list"
   ]
  },
  {
   "cell_type": "code",
   "execution_count": null,
   "id": "136ac163",
   "metadata": {},
   "outputs": [],
   "source": [
    "l1"
   ]
  },
  {
   "cell_type": "code",
   "execution_count": null,
   "id": "c48a853c",
   "metadata": {},
   "outputs": [],
   "source": [
    "l1.append(12)"
   ]
  },
  {
   "cell_type": "code",
   "execution_count": null,
   "id": "95ffba66",
   "metadata": {},
   "outputs": [],
   "source": [
    "l1"
   ]
  },
  {
   "cell_type": "code",
   "execution_count": null,
   "id": "bbf89f94",
   "metadata": {},
   "outputs": [],
   "source": [
    "# i want to add 12 and 13 in the list in one go\n",
    "l1.append([12,13])\n",
    "l1\n"
   ]
  },
  {
   "cell_type": "code",
   "execution_count": null,
   "id": "733186a6",
   "metadata": {},
   "outputs": [],
   "source": [
    "# above ans is wrong"
   ]
  },
  {
   "cell_type": "code",
   "execution_count": null,
   "id": "0d5d8c13",
   "metadata": {},
   "outputs": [],
   "source": [
    "l1.extend([12,13,14]) # to add morre than one element we use extend\n",
    "l1"
   ]
  },
  {
   "cell_type": "code",
   "execution_count": null,
   "id": "957b45f9",
   "metadata": {},
   "outputs": [],
   "source": [
    "import pandas as pd\n",
    "data = {'car':['Altroz','Nexon','Harier','Safari','Punch'],\n",
    "        'Mileage':[18,15,10,8,24]}\n",
    "df = pd.DataFrame(data)\n",
    "df"
   ]
  },
  {
   "cell_type": "code",
   "execution_count": null,
   "id": "a13ef100",
   "metadata": {},
   "outputs": [],
   "source": [
    "# create a col which show low mileage if mileage less than 10 and show high if greater than 10"
   ]
  },
  {
   "cell_type": "code",
   "execution_count": null,
   "id": "26e40779",
   "metadata": {},
   "outputs": [],
   "source": [
    "df['mlg']= df['Mileage'].apply(lambda x:\"low\" if x<=10 else \"High\")\n",
    "df"
   ]
  },
  {
   "cell_type": "code",
   "execution_count": null,
   "id": "dcfee4cd",
   "metadata": {},
   "outputs": [],
   "source": [
    "# data frame : apply \n",
    "#list : map and filter"
   ]
  },
  {
   "cell_type": "code",
   "execution_count": null,
   "id": "b71fa4e4",
   "metadata": {},
   "outputs": [],
   "source": [
    "# second highest\n",
    "lst = [4,2,4,3,2,4,1,5]\n",
    "lst = list(set(lst) )# converting to set for removing duplicated values\n",
    "lst.sort()\n",
    "lst[-2]\n",
    "    "
   ]
  },
  {
   "cell_type": "code",
   "execution_count": null,
   "id": "cc57b751",
   "metadata": {},
   "outputs": [],
   "source": [
    "lst = ['Arun','sas','pop','pizza']\n",
    "\n",
    "def pal(lst):\n",
    "    for i in lst:\n",
    "        if i == i[::-1]:\n",
    "            print(f\"The string {i} is plaindrome\")\n",
    "        else:\n",
    "            print(f\"The string {i} is not plaindrome\")\n",
    "            "
   ]
  },
  {
   "cell_type": "code",
   "execution_count": null,
   "id": "9d91cb07",
   "metadata": {},
   "outputs": [],
   "source": [
    "lst = ['Arun','sas','pop','pizza']\n",
    "def pal(text):\n",
    "    return text == text[::-1]\n",
    "   "
   ]
  },
  {
   "cell_type": "code",
   "execution_count": null,
   "id": "80c6009b",
   "metadata": {},
   "outputs": [],
   "source": [
    "lst = list(filter(pal,lst))"
   ]
  },
  {
   "cell_type": "code",
   "execution_count": null,
   "id": "f756a5ef",
   "metadata": {},
   "outputs": [],
   "source": [
    "lst"
   ]
  },
  {
   "cell_type": "code",
   "execution_count": null,
   "id": "f90fe781",
   "metadata": {},
   "outputs": [],
   "source": [
    "lst = list(map(pal,lst))\n"
   ]
  },
  {
   "cell_type": "code",
   "execution_count": null,
   "id": "8b1f0960",
   "metadata": {},
   "outputs": [],
   "source": [
    "lst"
   ]
  },
  {
   "cell_type": "code",
   "execution_count": null,
   "id": "8e664768",
   "metadata": {},
   "outputs": [],
   "source": []
  },
  {
   "cell_type": "markdown",
   "id": "18188acc",
   "metadata": {},
   "source": [
    "Question: Given a string, write a function to check if it is an anagram of another string."
   ]
  },
  {
   "cell_type": "code",
   "execution_count": null,
   "id": "522193d1",
   "metadata": {},
   "outputs": [],
   "source": [
    "def anagram(word1,word2):\n",
    "    return sorted(word1)==sorted(word2)"
   ]
  },
  {
   "cell_type": "code",
   "execution_count": null,
   "id": "95731dff",
   "metadata": {},
   "outputs": [],
   "source": [
    "anagram('lst','tsl')"
   ]
  },
  {
   "cell_type": "code",
   "execution_count": null,
   "id": "03718f1f",
   "metadata": {},
   "outputs": [],
   "source": [
    "anagram('kl','la')"
   ]
  },
  {
   "cell_type": "markdown",
   "id": "1a680473",
   "metadata": {},
   "source": [
    "Question: Given two lists, write a function that returns the elements that are common to both lists."
   ]
  },
  {
   "cell_type": "code",
   "execution_count": null,
   "id": "41e107b7",
   "metadata": {},
   "outputs": [],
   "source": [
    "l1 = [1,2,3,3]\n",
    "l2= [3,4,5]"
   ]
  },
  {
   "cell_type": "code",
   "execution_count": null,
   "id": "083a6d6e",
   "metadata": {},
   "outputs": [],
   "source": [
    "com = []\n",
    "for i in set(l1):\n",
    "    for j in set(l2):\n",
    "        if i == j:\n",
    "            com.append(i)"
   ]
  },
  {
   "cell_type": "code",
   "execution_count": null,
   "id": "dea15270",
   "metadata": {},
   "outputs": [],
   "source": [
    "com"
   ]
  },
  {
   "cell_type": "code",
   "execution_count": null,
   "id": "e4fc2773",
   "metadata": {},
   "outputs": [],
   "source": [
    "def com(l1,l2):\n",
    "    return list(set(l1)&set(l2))  # intersection operation"
   ]
  },
  {
   "cell_type": "code",
   "execution_count": null,
   "id": "2a1f56f4",
   "metadata": {},
   "outputs": [],
   "source": [
    "com(l1,l2)"
   ]
  },
  {
   "cell_type": "markdown",
   "id": "667c72c8",
   "metadata": {},
   "source": [
    "Write a Python function to merge two dictionaries. If both dictionaries have the same key, prefer the second dictionary's value."
   ]
  },
  {
   "cell_type": "code",
   "execution_count": null,
   "id": "4127ce10",
   "metadata": {},
   "outputs": [],
   "source": [
    "d1 = {'a':'arun','b':'bot'}\n",
    "d2 = {'a':'arpit','c':'champ'}"
   ]
  },
  {
   "cell_type": "code",
   "execution_count": 2,
   "id": "81afb6a4",
   "metadata": {},
   "outputs": [
    {
     "name": "stdout",
     "output_type": "stream",
     "text": [
      "{'a': 1, 'b': 20, 'c': 30, 'd': 40}\n"
     ]
    }
   ],
   "source": [
    "d1 = {\"a\": 1, \"b\": 2, \"c\": 3}\n",
    "d2 = {\"b\": 20, \"c\": 30, \"d\": 40}\n",
    "d3 = {}\n",
    "\n",
    "# Copy all key-value pairs from d1 to d3\n",
    "for key, value in d1.items():\n",
    "    d3[key] = value\n",
    "\n",
    "# Update values in d3 from d2 for common keys\n",
    "for key, value in d2.items():\n",
    "   \n",
    "    d3[key] = value\n",
    "        \n",
    "print(d3)"
   ]
  },
  {
   "cell_type": "code",
   "execution_count": null,
   "id": "2a4a881d",
   "metadata": {},
   "outputs": [],
   "source": []
  },
  {
   "cell_type": "markdown",
   "id": "666eca07",
   "metadata": {},
   "source": [
    "### Merege 2 sorted list"
   ]
  },
  {
   "cell_type": "code",
   "execution_count": 29,
   "id": "56d70979",
   "metadata": {},
   "outputs": [],
   "source": [
    "def merge(lst1,lst2):\n",
    "    merg_lst = []\n",
    "    i=j=0\n",
    "    while(i<len(lst1) and j <len(lst2)):\n",
    "        if lst1[i]<lst2[j]:\n",
    "            merg_lst.append(lst1[i])\n",
    "            i+=1\n",
    "        else:\n",
    "            merg_lst.append(lst2[j])\n",
    "            j+=1\n",
    "    while(i<len(lst1)):\n",
    "        merg_lst.append(lst1[i])\n",
    "        i+=1\n",
    "    while(j<len(lst2)):\n",
    "        merg_lst.append(lst2[j])\n",
    "        j+=1\n",
    "    return merg_lst\n",
    "        \n",
    "        \n",
    "        "
   ]
  },
  {
   "cell_type": "code",
   "execution_count": 30,
   "id": "1faf2741",
   "metadata": {},
   "outputs": [
    {
     "data": {
      "text/plain": [
       "[1, 2, 3, 4, 5, 6]"
      ]
     },
     "execution_count": 30,
     "metadata": {},
     "output_type": "execute_result"
    }
   ],
   "source": [
    "merge([1,2,3],[4,5,6])"
   ]
  },
  {
   "cell_type": "code",
   "execution_count": null,
   "id": "398d4bfa",
   "metadata": {},
   "outputs": [],
   "source": []
  },
  {
   "cell_type": "code",
   "execution_count": null,
   "id": "e7328820",
   "metadata": {},
   "outputs": [],
   "source": [
    " Linked List Cycle Detection"
   ]
  },
  {
   "cell_type": "code",
   "execution_count": null,
   "id": "802b0fc2",
   "metadata": {},
   "outputs": [],
   "source": [
    "Find the Middle of Linked List\n",
    "Check if a Tree is Balanced\n",
    " Implement BFS for a graph.\n",
    "do python dsa question from krish naik repo"
   ]
  },
  {
   "cell_type": "code",
   "execution_count": null,
   "id": "9bcdd0b7",
   "metadata": {},
   "outputs": [],
   "source": []
  },
  {
   "cell_type": "code",
   "execution_count": null,
   "id": "033d07b0",
   "metadata": {},
   "outputs": [],
   "source": []
  },
  {
   "cell_type": "code",
   "execution_count": null,
   "id": "f3716e4f",
   "metadata": {},
   "outputs": [],
   "source": []
  }
 ],
 "metadata": {
  "kernelspec": {
   "display_name": "Python 3 (ipykernel)",
   "language": "python",
   "name": "python3"
  },
  "language_info": {
   "codemirror_mode": {
    "name": "ipython",
    "version": 3
   },
   "file_extension": ".py",
   "mimetype": "text/x-python",
   "name": "python",
   "nbconvert_exporter": "python",
   "pygments_lexer": "ipython3",
   "version": "3.11.3"
  }
 },
 "nbformat": 4,
 "nbformat_minor": 5
}
