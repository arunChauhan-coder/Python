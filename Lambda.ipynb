{
 "cells": [
  {
   "cell_type": "markdown",
   "id": "53546fd3",
   "metadata": {},
   "source": [
    "### Write a Python program to create a lambda function that adds 15 to a given number passed in as an argument"
   ]
  },
  {
   "cell_type": "code",
   "execution_count": 2,
   "id": "cba94343",
   "metadata": {},
   "outputs": [
    {
     "data": {
      "text/plain": [
       "[16, 17, 18, 19, 20]"
      ]
     },
     "execution_count": 2,
     "metadata": {},
     "output_type": "execute_result"
    }
   ],
   "source": [
    "list(map(lambda x:x+15 ,[1,2,3,4,5]))"
   ]
  },
  {
   "cell_type": "markdown",
   "id": "ac6f9b9a",
   "metadata": {},
   "source": [
    "### create a lambda function that multiplies argument x with argument y and prints the result."
   ]
  },
  {
   "cell_type": "code",
   "execution_count": 6,
   "id": "c2dfebbb",
   "metadata": {},
   "outputs": [
    {
     "data": {
      "text/plain": [
       "[5, 18, 24, 28, 30]"
      ]
     },
     "execution_count": 6,
     "metadata": {},
     "output_type": "execute_result"
    }
   ],
   "source": [
    "list(map(lambda x,y:x*y,[1,2,3,4,5],[5,9,8,7,6]))"
   ]
  },
  {
   "cell_type": "markdown",
   "id": "a2d0c532",
   "metadata": {},
   "source": [
    "### Write a Python program to sort a list of tuples using Lambda."
   ]
  },
  {
   "cell_type": "code",
   "execution_count": 12,
   "id": "51e6b2c6",
   "metadata": {},
   "outputs": [
    {
     "data": {
      "text/plain": [
       "[('arun', 1), ('ben', 10), ('surya', 63)]"
      ]
     },
     "execution_count": 12,
     "metadata": {},
     "output_type": "execute_result"
    }
   ],
   "source": [
    "l1 = [('ben',10),('arun',1),('surya',63)]\n",
    "l1.sort(key = lambda x:x[1])\n",
    "l1"
   ]
  },
  {
   "cell_type": "markdown",
   "id": "96ce92df",
   "metadata": {},
   "source": [
    "### Write a Python program to sort a list of dictionaries using Lambda."
   ]
  },
  {
   "cell_type": "code",
   "execution_count": 23,
   "id": "d97bcf54",
   "metadata": {},
   "outputs": [
    {
     "name": "stdout",
     "output_type": "stream",
     "text": [
      "Original list of dictionaries :\n",
      "[{'make': 'Nokia', 'model': 216, 'color': 'Black'}, {'make': 'Mi Max', 'model': '2', 'color': 'Gold'}, {'make': 'Samsung', 'model': 7, 'color': 'Blue'}]\n",
      "\n",
      "Sorting the List of dictionaries :\n",
      "[{'make': 'Nokia', 'model': 216, 'color': 'Black'}, {'make': 'Samsung', 'model': 7, 'color': 'Blue'}, {'make': 'Mi Max', 'model': '2', 'color': 'Gold'}]\n"
     ]
    }
   ],
   "source": [
    "models = [{'make':'Nokia', 'model':216, 'color':'Black'}, {'make':'Mi Max', 'model':'2', 'color':'Gold'}, {'make':'Samsung', 'model': 7, 'color':'Blue'}]\n",
    "print(\"Original list of dictionaries :\")\n",
    "print(models)\n",
    "sorted_models = sorted(models, key = lambda x: x['color'])\n",
    "print(\"\\nSorting the List of dictionaries :\")\n",
    "print(sorted_models)"
   ]
  },
  {
   "cell_type": "markdown",
   "id": "2534dce8",
   "metadata": {},
   "source": [
    "### Find even in list using lambda"
   ]
  },
  {
   "cell_type": "code",
   "execution_count": 25,
   "id": "e94d8be7",
   "metadata": {},
   "outputs": [],
   "source": [
    "l1 =[1,2,3,4,5,6]"
   ]
  },
  {
   "cell_type": "code",
   "execution_count": 26,
   "id": "151923bd",
   "metadata": {},
   "outputs": [
    {
     "data": {
      "text/plain": [
       "['odd', 'even', 'odd', 'even', 'odd', 'even']"
      ]
     },
     "execution_count": 26,
     "metadata": {},
     "output_type": "execute_result"
    }
   ],
   "source": [
    "list(map(lambda x:\"even\" if x%2 == 0 else \"odd\",l1))"
   ]
  },
  {
   "cell_type": "markdown",
   "id": "4ca50fbe",
   "metadata": {},
   "source": [
    "### Write a Python program to square and cube every number in a given list of integers using Lambda."
   ]
  },
  {
   "cell_type": "code",
   "execution_count": 27,
   "id": "856cde98",
   "metadata": {},
   "outputs": [
    {
     "data": {
      "text/plain": [
       "[[1, 1], [4, 16], [9, 81], [16, 256]]"
      ]
     },
     "execution_count": 27,
     "metadata": {},
     "output_type": "execute_result"
    }
   ],
   "source": [
    "list(map(lambda x:[x*x,x*x*x*x],[1,2,3,4]))"
   ]
  },
  {
   "cell_type": "markdown",
   "id": "a78dce60",
   "metadata": {},
   "source": [
    "### Write a Python program to find if a given string starts with a given character using Lambda."
   ]
  },
  {
   "cell_type": "code",
   "execution_count": 28,
   "id": "61262cc9",
   "metadata": {},
   "outputs": [
    {
     "data": {
      "text/plain": [
       "[True, False, True]"
      ]
     },
     "execution_count": 28,
     "metadata": {},
     "output_type": "execute_result"
    }
   ],
   "source": [
    "list(map(lambda x: True if x[0]=='a' or x[0] =='A' else False ,['Arun','Karan','anthony'] ))"
   ]
  },
  {
   "cell_type": "markdown",
   "id": "8c667660",
   "metadata": {},
   "source": [
    "### Write a Python program to extract year, month, date and time using Lambda."
   ]
  },
  {
   "cell_type": "code",
   "execution_count": 29,
   "id": "769041dc",
   "metadata": {},
   "outputs": [
    {
     "name": "stdout",
     "output_type": "stream",
     "text": [
      "2023-08-19 00:30:39.028932\n",
      "2023\n",
      "8\n",
      "19\n",
      "00:30:39.028932\n"
     ]
    }
   ],
   "source": [
    "import datetime\n",
    "now = datetime.datetime.now()\n",
    "print(now)\n",
    "year = lambda x: x.year\n",
    "month = lambda x: x.month\n",
    "day = lambda x: x.day\n",
    "t = lambda x: x.time()\n",
    "print(year(now))\n",
    "print(month(now))\n",
    "print(day(now))\n",
    "print(t(now))"
   ]
  },
  {
   "cell_type": "code",
   "execution_count": null,
   "id": "d571bcbb",
   "metadata": {},
   "outputs": [],
   "source": []
  }
 ],
 "metadata": {
  "kernelspec": {
   "display_name": "Python 3 (ipykernel)",
   "language": "python",
   "name": "python3"
  },
  "language_info": {
   "codemirror_mode": {
    "name": "ipython",
    "version": 3
   },
   "file_extension": ".py",
   "mimetype": "text/x-python",
   "name": "python",
   "nbconvert_exporter": "python",
   "pygments_lexer": "ipython3",
   "version": "3.11.3"
  }
 },
 "nbformat": 4,
 "nbformat_minor": 5
}
